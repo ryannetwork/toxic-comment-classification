{
  "nbformat": 4,
  "nbformat_minor": 0,
  "metadata": {
    "colab": {
      "name": "fastai.ipynb",
      "version": "0.3.2",
      "provenance": [],
      "include_colab_link": true
    },
    "kernelspec": {
      "name": "python3",
      "display_name": "Python 3"
    },
    "accelerator": "GPU"
  },
  "cells": [
    {
      "cell_type": "markdown",
      "metadata": {
        "id": "view-in-github",
        "colab_type": "text"
      },
      "source": [
        "<a href=\"https://colab.research.google.com/github/shikhar00778/toxic-comment-classification/blob/master/fastai.ipynb\" target=\"_parent\"><img src=\"https://colab.research.google.com/assets/colab-badge.svg\" alt=\"Open In Colab\"/></a>"
      ]
    },
    {
      "cell_type": "code",
      "metadata": {
        "id": "So2Rz250FUkQ",
        "colab_type": "code",
        "colab": {
          "base_uri": "https://localhost:8080/",
          "height": 122
        },
        "outputId": "f82ed3c8-fcc1-4a86-db7f-77a21772344c"
      },
      "source": [
        "from google.colab import drive\n",
        "drive.mount('/content/drive')"
      ],
      "execution_count": 4,
      "outputs": [
        {
          "output_type": "stream",
          "text": [
            "Go to this URL in a browser: https://accounts.google.com/o/oauth2/auth?client_id=947318989803-6bn6qk8qdgf4n4g3pfee6491hc0brc4i.apps.googleusercontent.com&redirect_uri=urn%3Aietf%3Awg%3Aoauth%3A2.0%3Aoob&scope=email%20https%3A%2F%2Fwww.googleapis.com%2Fauth%2Fdocs.test%20https%3A%2F%2Fwww.googleapis.com%2Fauth%2Fdrive%20https%3A%2F%2Fwww.googleapis.com%2Fauth%2Fdrive.photos.readonly%20https%3A%2F%2Fwww.googleapis.com%2Fauth%2Fpeopleapi.readonly&response_type=code\n",
            "\n",
            "Enter your authorization code:\n",
            "··········\n",
            "Mounted at /content/drive\n"
          ],
          "name": "stdout"
        }
      ]
    },
    {
      "cell_type": "code",
      "metadata": {
        "id": "E1bSfs73FwG9",
        "colab_type": "code",
        "colab": {}
      },
      "source": [
        "!cp drive/'My Drive'/jigsaw-toxic-comment-classification-challenge.zip ."
      ],
      "execution_count": 0,
      "outputs": []
    },
    {
      "cell_type": "code",
      "metadata": {
        "id": "xOsXhD8eF2pY",
        "colab_type": "code",
        "colab": {
          "base_uri": "https://localhost:8080/",
          "height": 119
        },
        "outputId": "93c469bf-b458-495e-a3a2-86482a958253"
      },
      "source": [
        "!unzip jigsaw-toxic-comment-classification-challenge.zip\n",
        "!mkdir tmp_lm/"
      ],
      "execution_count": 44,
      "outputs": [
        {
          "output_type": "stream",
          "text": [
            "Archive:  jigsaw-toxic-comment-classification-challenge.zip\n",
            "replace test_labels.csv? [y]es, [n]o, [A]ll, [N]one, [r]ename: A\n",
            "  inflating: test_labels.csv         \n",
            "  inflating: sample_submission.csv   \n",
            "  inflating: test.csv                \n",
            "  inflating: train.csv               \n"
          ],
          "name": "stdout"
        }
      ]
    },
    {
      "cell_type": "code",
      "metadata": {
        "id": "s56Zxp-5HFgW",
        "colab_type": "code",
        "colab": {}
      },
      "source": [
        "import pandas as pd\n",
        "import numpy as np"
      ],
      "execution_count": 0,
      "outputs": []
    },
    {
      "cell_type": "code",
      "metadata": {
        "id": "o4F2jChdHMjl",
        "colab_type": "code",
        "colab": {}
      },
      "source": [
        "df = pd.read_csv(\"train.csv\")\n",
        "df_test = pd.read_csv(\"test.csv\")"
      ],
      "execution_count": 0,
      "outputs": []
    },
    {
      "cell_type": "code",
      "metadata": {
        "id": "j4KKnW2JHQFx",
        "colab_type": "code",
        "colab": {}
      },
      "source": [
        "arr = df.columns"
      ],
      "execution_count": 0,
      "outputs": []
    },
    {
      "cell_type": "code",
      "metadata": {
        "id": "zx_5650WHVG9",
        "colab_type": "code",
        "colab": {
          "base_uri": "https://localhost:8080/",
          "height": 34
        },
        "outputId": "a5cd67b1-8dc1-4830-e53a-89e276611a01"
      },
      "source": [
        "classes = arr[2:]\n",
        "classes = np.asarray(classes)\n",
        "classes = classes.tolist()\n",
        "classes"
      ],
      "execution_count": 48,
      "outputs": [
        {
          "output_type": "execute_result",
          "data": {
            "text/plain": [
              "['toxic', 'severe_toxic', 'obscene', 'threat', 'insult', 'identity_hate']"
            ]
          },
          "metadata": {
            "tags": []
          },
          "execution_count": 48
        }
      ]
    },
    {
      "cell_type": "code",
      "metadata": {
        "id": "ads0zcTjHZGX",
        "colab_type": "code",
        "colab": {}
      },
      "source": [
        "def make_data(df):\n",
        "  data=[]\n",
        "  lab=[]\n",
        "  for row,index in df.iterrows():\n",
        "    temp=[]\n",
        "    for class_name in classes:\n",
        "      if index[class_name]==1:\n",
        "        temp.append(class_name)\n",
        "      if len(temp)==0: \n",
        "        temp.append(\"no_class\")\n",
        "    temp = ' '.join(temp)\n",
        "    lab.append(temp)\n",
        "    data.append(index[\"comment_text\"])\n",
        "  X = pd.DataFrame({\"labels\":lab,\"text\":data})\n",
        "  return X"
      ],
      "execution_count": 0,
      "outputs": []
    },
    {
      "cell_type": "code",
      "metadata": {
        "id": "aLqxIsxxK9vZ",
        "colab_type": "code",
        "colab": {}
      },
      "source": [
        "X = make_data(df)\n",
        "X.to_csv(\"clean_train.csv\",index=False)\n",
        "#X = make_data(df_test)\n",
        "#X.to_csv(\"clean_test.csv\",index=False)\n"
      ],
      "execution_count": 0,
      "outputs": []
    },
    {
      "cell_type": "code",
      "metadata": {
        "id": "xE8vjC-jLnaj",
        "colab_type": "code",
        "colab": {}
      },
      "source": [
        "from fastai.text import *\n",
        "path = '.'"
      ],
      "execution_count": 0,
      "outputs": []
    },
    {
      "cell_type": "code",
      "metadata": {
        "id": "blwc8-CvLb7c",
        "colab_type": "code",
        "colab": {}
      },
      "source": [
        "data_lm = TextDataBunch.from_csv(path, 'clean_train.csv', test=\"test.csv\", text_cols=1,max_vocab=60000,min_freq=1, label_cols=0,label_delim=\" \")"
      ],
      "execution_count": 0,
      "outputs": []
    },
    {
      "cell_type": "code",
      "metadata": {
        "id": "ODvcOd-ULyVz",
        "colab_type": "code",
        "colab": {
          "base_uri": "https://localhost:8080/",
          "height": 374
        },
        "outputId": "eeebb909-0c70-445a-cded-749db3e2ccd1"
      },
      "source": [
        "data_lm.show_batch()"
      ],
      "execution_count": 64,
      "outputs": [
        {
          "output_type": "display_data",
          "data": {
            "text/html": [
              "<table border=\"1\" class=\"dataframe\">\n",
              "  <thead>\n",
              "    <tr style=\"text-align: right;\">\n",
              "      <th>text</th>\n",
              "      <th>target</th>\n",
              "    </tr>\n",
              "  </thead>\n",
              "  <tbody>\n",
              "    <tr>\n",
              "      <td>xxbos xxmaj take that ! \\n \\n  xxup in xxup the xxup ass xxup in xxup the xxup ass xxup in xxup the xxup ass xxup in xxup the xxup ass xxup in xxup the xxup ass xxup in xxup the xxup ass xxup in xxup the xxup ass xxup in xxup the xxup ass xxup in xxup the xxup ass xxup in xxup the xxup ass xxup in</td>\n",
              "      <td>obscene;severe_toxic;toxic</td>\n",
              "    </tr>\n",
              "    <tr>\n",
              "      <td>xxbos \" ( ) you are xxup such a fucking twat flap \\n \\n  xxmaj position / / xxmaj artist , xxmaj band , or xxmaj group / / xxmaj song xxmaj title / / xxmaj weeks xxmaj spent xxmaj at # 1 / / xxmaj year \\n \\n  1 . xxmaj mariah xxmaj carey &amp; xxmaj boyz xxup ii xxmaj men- \" \" xxmaj one xxmaj sweet</td>\n",
              "      <td>toxic</td>\n",
              "    </tr>\n",
              "    <tr>\n",
              "      <td>xxbos ' ' ' jforget xxup fuck xxup you xxup faggot xxup gay xxup ass xxup chink xxup nigger xxup cocksucking xxup piece xxup of xxup shit jforget xxup fuck xxup you xxup faggot xxup gay xxup ass xxup chink xxup nigger xxup cocksucking xxup piece xxup of xxup shit jforget xxup fuck xxup you xxup faggot xxup gay xxup ass xxup chink xxup nigger xxup cocksucking xxup piece xxup</td>\n",
              "      <td>identity_hate;insult;obscene;severe_toxic;toxic</td>\n",
              "    </tr>\n",
              "    <tr>\n",
              "      <td>xxbos \" \\n \\n  xxmaj hi , thanks for your thoughts . i have to disagree about your xxunk - argument . xxmaj you say \" \" xxmaj germany \" \" can refer to either \" \" xxmaj west xxmaj germany \" \" or \" \" xxmaj east xxmaj germany \" \" . xxmaj this is - as i already stated - simply not correct , since there never</td>\n",
              "      <td>no_class</td>\n",
              "    </tr>\n",
              "    <tr>\n",
              "      <td>xxbos xxmaj merge of xxmaj county articles \\n \\n  i will be proposing that all the xxmaj county articles in xxmaj england be merged into several articles , representing the 9 official regions of xxmaj england . xxmaj this involves the following xxunk \\n \\n  xxmaj cleveland xxmaj scout xxmaj county ( xxmaj the xxmaj scout xxunk xxmaj scout xxmaj county ( xxmaj the xxmaj scout xxmaj association</td>\n",
              "      <td>no_class</td>\n",
              "    </tr>\n",
              "  </tbody>\n",
              "</table>"
            ],
            "text/plain": [
              "<IPython.core.display.HTML object>"
            ]
          },
          "metadata": {
            "tags": []
          }
        }
      ]
    },
    {
      "cell_type": "code",
      "metadata": {
        "id": "bQ40T8VNnHDJ",
        "colab_type": "code",
        "colab": {}
      },
      "source": [
        ""
      ],
      "execution_count": 0,
      "outputs": []
    },
    {
      "cell_type": "code",
      "metadata": {
        "id": "YcySVSyDOe8G",
        "colab_type": "code",
        "colab": {}
      },
      "source": [
        ""
      ],
      "execution_count": 0,
      "outputs": []
    },
    {
      "cell_type": "code",
      "metadata": {
        "id": "jM0QnJo_ORdb",
        "colab_type": "code",
        "colab": {
          "base_uri": "https://localhost:8080/",
          "height": 340
        },
        "outputId": "bcadaba8-4cd7-43f7-8f0f-2201fb04a6a2"
      },
      "source": [
        "data_lm.save()\n",
        "!mv data_save.pkl tmp_lm/\n",
        "data = load_data(\"tmp_lm/\",bs=64)\n",
        "data.show_batch()"
      ],
      "execution_count": 69,
      "outputs": [
        {
          "output_type": "display_data",
          "data": {
            "text/html": [
              "<table border=\"1\" class=\"dataframe\">\n",
              "  <thead>\n",
              "    <tr style=\"text-align: right;\">\n",
              "      <th>text</th>\n",
              "      <th>target</th>\n",
              "    </tr>\n",
              "  </thead>\n",
              "  <tbody>\n",
              "    <tr>\n",
              "      <td>xxbos xxmaj take that ! \\n \\n  xxup in xxup the xxup ass xxup in xxup the xxup ass xxup in xxup the xxup ass xxup in xxup the xxup ass xxup in xxup the xxup ass xxup in xxup the xxup ass xxup in xxup the xxup ass xxup in xxup the xxup ass xxup in xxup the xxup ass xxup in xxup the xxup ass xxup in</td>\n",
              "      <td>obscene;severe_toxic;toxic</td>\n",
              "    </tr>\n",
              "    <tr>\n",
              "      <td>xxbos i xxup can xxup still xxup post xxup with xxup this xxup computer ... i xxup said xxup block xxup me , xxup come xxup the xxup fuck xxup down xxup here xxup and xxup arrest xxup me ... xxup san xxup diego xxup california , xxup chula xxup vista , xxup fucking xxup get xxup your xxup information xxup right xxup faggot shithead!!i xxup can xxup still xxup</td>\n",
              "      <td>insult;obscene;severe_toxic;toxic</td>\n",
              "    </tr>\n",
              "    <tr>\n",
              "      <td>xxbos xxmaj sam xxmaj guest \\n  xxmaj instructor : xxmaj todd , j \\n  xxmaj political xxmaj science 202 \\n  11 / 3 / 10 \\n  xxmaj impacts the 2010 xxmaj midterm xxmaj congressional xxmaj elections has on the \\n  xxmaj presidential xxmaj election in 2012 \\n  tabin the 2010 midterm congressional elections , the xxmaj republican party took control of the xxmaj house</td>\n",
              "      <td>no_class</td>\n",
              "    </tr>\n",
              "    <tr>\n",
              "      <td>xxbos \" \\n \\n  xxmaj hi . xxmaj the issue here is very simple . xxmaj the article currently states there is \" \" xxup no \" \" evidence that xxup ect causes brain damage in humans or animals . xxmaj the article also states that there are \" \" xxup no \" \" recent reviews that found such evidence . xxmaj both of these claims in the article</td>\n",
              "      <td>no_class</td>\n",
              "    </tr>\n",
              "    <tr>\n",
              "      <td>xxbos \" \\n \\n  xxmaj from xxmaj norway ; xxmaj denmark ; xxmaj iceland ; xxmaj scotland ; xxunk etc . ) ; xxmaj wales ; xxmaj ireland ; xxmaj basques &amp; xxmaj xxunk data ) \\n \\n  by xxmaj gunnar xxmaj thompson \\n \\n  \" \" xxmaj on xxunk 's map , the northwestern continent is called \" \" xxmaj xxunk . \" \" xxmaj this</td>\n",
              "      <td>no_class</td>\n",
              "    </tr>\n",
              "  </tbody>\n",
              "</table>"
            ],
            "text/plain": [
              "<IPython.core.display.HTML object>"
            ]
          },
          "metadata": {
            "tags": []
          }
        }
      ]
    },
    {
      "cell_type": "code",
      "metadata": {
        "id": "I3iGFdqqprG_",
        "colab_type": "code",
        "colab": {}
      },
      "source": [
        ""
      ],
      "execution_count": 0,
      "outputs": []
    },
    {
      "cell_type": "code",
      "metadata": {
        "id": "-LhdwoSGQzKn",
        "colab_type": "code",
        "colab": {}
      },
      "source": [
        "### dont run language model. out of memory error"
      ],
      "execution_count": 0,
      "outputs": []
    },
    {
      "cell_type": "code",
      "metadata": {
        "id": "verdQBe_Pxet",
        "colab_type": "code",
        "colab": {}
      },
      "source": [
        "learn = language_model_learner(data, arch=AWD_LSTM, drop_mult=0.3)\n"
      ],
      "execution_count": 0,
      "outputs": []
    },
    {
      "cell_type": "code",
      "metadata": {
        "id": "NYPIypnlPxkK",
        "colab_type": "code",
        "colab": {}
      },
      "source": [
        "learn.fit_one_cycle(1, 1e-2, moms=(0.8,0.7))\n"
      ],
      "execution_count": 0,
      "outputs": []
    },
    {
      "cell_type": "code",
      "metadata": {
        "id": "TRtyx0FbP7By",
        "colab_type": "code",
        "colab": {}
      },
      "source": [
        "learn.unfreeze()\n",
        "learn.fit_one_cycle(10, 1e-3, moms=(0.8,0.7))"
      ],
      "execution_count": 0,
      "outputs": []
    },
    {
      "cell_type": "code",
      "metadata": {
        "id": "xGUVm6JJP-5E",
        "colab_type": "code",
        "colab": {}
      },
      "source": [
        "learn.save_encoder('fine_tuned_enc')\n"
      ],
      "execution_count": 0,
      "outputs": []
    },
    {
      "cell_type": "code",
      "metadata": {
        "id": "fA3zme0XRAPW",
        "colab_type": "code",
        "colab": {}
      },
      "source": [
        "#run from here"
      ],
      "execution_count": 0,
      "outputs": []
    },
    {
      "cell_type": "code",
      "metadata": {
        "id": "O4v3ybODMxAS",
        "colab_type": "code",
        "colab": {}
      },
      "source": [
        "learn = text_classifier_learner(data, drop_mult=0.5, arch=AWD_LSTM, metrics=accuracy_thresh)\n",
        "#learn.load_encoder('fine_tuned_enc')\n",
        "learn.freeze()"
      ],
      "execution_count": 0,
      "outputs": []
    },
    {
      "cell_type": "code",
      "metadata": {
        "id": "na_zd36gNy3y",
        "colab_type": "code",
        "colab": {
          "base_uri": "https://localhost:8080/",
          "height": 34
        },
        "outputId": "59df90ae-783a-406c-d8e9-ca7fb6057b89"
      },
      "source": [
        "learn.lr_find()"
      ],
      "execution_count": 71,
      "outputs": [
        {
          "output_type": "display_data",
          "data": {
            "text/html": [
              ""
            ],
            "text/plain": [
              "<IPython.core.display.HTML object>"
            ]
          },
          "metadata": {
            "tags": []
          }
        },
        {
          "output_type": "stream",
          "text": [
            "LR Finder is complete, type {learner_name}.recorder.plot() to see the graph.\n"
          ],
          "name": "stdout"
        }
      ]
    },
    {
      "cell_type": "code",
      "metadata": {
        "id": "BWk5RHqoN0aQ",
        "colab_type": "code",
        "colab": {
          "base_uri": "https://localhost:8080/",
          "height": 80
        },
        "outputId": "0e20d09b-5af0-4957-b490-b68242ba82ba"
      },
      "source": [
        "learn.fit_one_cycle(1, 2e-2, moms=(0.8,0.7))"
      ],
      "execution_count": 89,
      "outputs": [
        {
          "output_type": "display_data",
          "data": {
            "text/html": [
              "<table border=\"1\" class=\"dataframe\">\n",
              "  <thead>\n",
              "    <tr style=\"text-align: left;\">\n",
              "      <th>epoch</th>\n",
              "      <th>train_loss</th>\n",
              "      <th>valid_loss</th>\n",
              "      <th>accuracy_thresh</th>\n",
              "      <th>time</th>\n",
              "    </tr>\n",
              "  </thead>\n",
              "  <tbody>\n",
              "    <tr>\n",
              "      <td>0</td>\n",
              "      <td>0.159221</td>\n",
              "      <td>0.156371</td>\n",
              "      <td>0.954070</td>\n",
              "      <td>07:14</td>\n",
              "    </tr>\n",
              "  </tbody>\n",
              "</table>"
            ],
            "text/plain": [
              "<IPython.core.display.HTML object>"
            ]
          },
          "metadata": {
            "tags": []
          }
        }
      ]
    },
    {
      "cell_type": "code",
      "metadata": {
        "id": "JGlOqg1IPgdv",
        "colab_type": "code",
        "colab": {}
      },
      "source": [
        "learn.save('first')\n",
        "learn.load('first');"
      ],
      "execution_count": 0,
      "outputs": []
    },
    {
      "cell_type": "code",
      "metadata": {
        "id": "9kSTQUfPPjSR",
        "colab_type": "code",
        "colab": {
          "base_uri": "https://localhost:8080/",
          "height": 80
        },
        "outputId": "f502078d-0ad6-4688-b1da-47d08c712ee4"
      },
      "source": [
        "learn.freeze_to(-2)\n",
        "learn.fit_one_cycle(1, slice(1e-2/(2.6**4),1e-2), moms=(0.8,0.7))"
      ],
      "execution_count": 91,
      "outputs": [
        {
          "output_type": "display_data",
          "data": {
            "text/html": [
              "<table border=\"1\" class=\"dataframe\">\n",
              "  <thead>\n",
              "    <tr style=\"text-align: left;\">\n",
              "      <th>epoch</th>\n",
              "      <th>train_loss</th>\n",
              "      <th>valid_loss</th>\n",
              "      <th>accuracy_thresh</th>\n",
              "      <th>time</th>\n",
              "    </tr>\n",
              "  </thead>\n",
              "  <tbody>\n",
              "    <tr>\n",
              "      <td>0</td>\n",
              "      <td>0.131026</td>\n",
              "      <td>0.129571</td>\n",
              "      <td>0.958600</td>\n",
              "      <td>08:55</td>\n",
              "    </tr>\n",
              "  </tbody>\n",
              "</table>"
            ],
            "text/plain": [
              "<IPython.core.display.HTML object>"
            ]
          },
          "metadata": {
            "tags": []
          }
        }
      ]
    },
    {
      "cell_type": "code",
      "metadata": {
        "id": "q6TbKk8tPmuq",
        "colab_type": "code",
        "colab": {}
      },
      "source": [
        "learn.save('second')\n",
        "learn.load('second');"
      ],
      "execution_count": 0,
      "outputs": []
    },
    {
      "cell_type": "code",
      "metadata": {
        "id": "TSEQ8jTXPoXU",
        "colab_type": "code",
        "colab": {
          "base_uri": "https://localhost:8080/",
          "height": 80
        },
        "outputId": "80ebe3a3-0f9e-4fe5-c0c8-ee921c36d860"
      },
      "source": [
        "learn.freeze_to(-3)\n",
        "learn.fit_one_cycle(1, slice(5e-3/(2.6**4),5e-3), moms=(0.8,0.7))"
      ],
      "execution_count": 93,
      "outputs": [
        {
          "output_type": "display_data",
          "data": {
            "text/html": [
              "<table border=\"1\" class=\"dataframe\">\n",
              "  <thead>\n",
              "    <tr style=\"text-align: left;\">\n",
              "      <th>epoch</th>\n",
              "      <th>train_loss</th>\n",
              "      <th>valid_loss</th>\n",
              "      <th>accuracy_thresh</th>\n",
              "      <th>time</th>\n",
              "    </tr>\n",
              "  </thead>\n",
              "  <tbody>\n",
              "    <tr>\n",
              "      <td>0</td>\n",
              "      <td>0.087120</td>\n",
              "      <td>0.084733</td>\n",
              "      <td>0.971948</td>\n",
              "      <td>10:33</td>\n",
              "    </tr>\n",
              "  </tbody>\n",
              "</table>"
            ],
            "text/plain": [
              "<IPython.core.display.HTML object>"
            ]
          },
          "metadata": {
            "tags": []
          }
        }
      ]
    },
    {
      "cell_type": "code",
      "metadata": {
        "id": "W47He4PAPp84",
        "colab_type": "code",
        "colab": {}
      },
      "source": [
        "learn.save('third')\n",
        "learn.load('third');"
      ],
      "execution_count": 0,
      "outputs": []
    },
    {
      "cell_type": "code",
      "metadata": {
        "id": "2csQPs5PPsCN",
        "colab_type": "code",
        "colab": {
          "base_uri": "https://localhost:8080/",
          "height": 111
        },
        "outputId": "c5a2d3d9-9170-4aee-9d47-8ad321911f08"
      },
      "source": [
        "learn.unfreeze()\n",
        "learn.fit_one_cycle(2, slice(1e-3/(2.6**4),1e-3), moms=(0.8,0.7))"
      ],
      "execution_count": 95,
      "outputs": [
        {
          "output_type": "display_data",
          "data": {
            "text/html": [
              "<table border=\"1\" class=\"dataframe\">\n",
              "  <thead>\n",
              "    <tr style=\"text-align: left;\">\n",
              "      <th>epoch</th>\n",
              "      <th>train_loss</th>\n",
              "      <th>valid_loss</th>\n",
              "      <th>accuracy_thresh</th>\n",
              "      <th>time</th>\n",
              "    </tr>\n",
              "  </thead>\n",
              "  <tbody>\n",
              "    <tr>\n",
              "      <td>0</td>\n",
              "      <td>0.079280</td>\n",
              "      <td>0.074465</td>\n",
              "      <td>0.975045</td>\n",
              "      <td>17:12</td>\n",
              "    </tr>\n",
              "    <tr>\n",
              "      <td>1</td>\n",
              "      <td>0.071430</td>\n",
              "      <td>0.068705</td>\n",
              "      <td>0.977055</td>\n",
              "      <td>16:37</td>\n",
              "    </tr>\n",
              "  </tbody>\n",
              "</table>"
            ],
            "text/plain": [
              "<IPython.core.display.HTML object>"
            ]
          },
          "metadata": {
            "tags": []
          }
        }
      ]
    },
    {
      "cell_type": "code",
      "metadata": {
        "id": "g6ISegT1yQ2L",
        "colab_type": "code",
        "colab": {}
      },
      "source": [
        "learn.save('fourth')"
      ],
      "execution_count": 0,
      "outputs": []
    },
    {
      "cell_type": "code",
      "metadata": {
        "id": "I8bLsk_GEyim",
        "colab_type": "code",
        "colab": {
          "base_uri": "https://localhost:8080/",
          "height": 34
        },
        "outputId": "9a782b2e-a09f-4bb5-ee69-b3090080fce7"
      },
      "source": [
        "len(data.test_ds.x)"
      ],
      "execution_count": 155,
      "outputs": [
        {
          "output_type": "execute_result",
          "data": {
            "text/plain": [
              "153164"
            ]
          },
          "metadata": {
            "tags": []
          },
          "execution_count": 155
        }
      ]
    },
    {
      "cell_type": "code",
      "metadata": {
        "id": "XDc9w3a6ETPm",
        "colab_type": "code",
        "colab": {}
      },
      "source": [
        "p = learn.get_preds(ds_type=DatasetType.Test)"
      ],
      "execution_count": 0,
      "outputs": []
    },
    {
      "cell_type": "code",
      "metadata": {
        "id": "JaoZQ3VyMaed",
        "colab_type": "code",
        "colab": {
          "base_uri": "https://localhost:8080/",
          "height": 238
        },
        "outputId": "2554958a-ff7d-4ffe-9db8-bc75ee4ff3d6"
      },
      "source": [
        "p[0]"
      ],
      "execution_count": 177,
      "outputs": [
        {
          "output_type": "execute_result",
          "data": {
            "text/plain": [
              "tensor([[9.3498e-04, 3.4842e-04, 9.9041e-01,  ..., 7.1059e-04, 1.1101e-03,\n",
              "         9.5192e-03],\n",
              "        [2.5991e-01, 9.2987e-01, 3.1274e-03,  ..., 6.7471e-01, 2.8228e-01,\n",
              "         9.9683e-01],\n",
              "        [1.7404e-02, 1.2004e-01, 4.8751e-01,  ..., 1.7136e-02, 2.2684e-02,\n",
              "         5.1134e-01],\n",
              "        ...,\n",
              "        [1.6373e-02, 8.4300e-03, 6.6751e-01,  ..., 5.6462e-02, 5.1303e-02,\n",
              "         3.3124e-01],\n",
              "        [3.8133e-03, 9.5615e-04, 9.3866e-01,  ..., 1.0171e-02, 1.7269e-02,\n",
              "         6.0951e-02],\n",
              "        [4.0446e-03, 1.1154e-03, 9.3735e-01,  ..., 1.0251e-02, 1.7570e-02,\n",
              "         6.2275e-02]])"
            ]
          },
          "metadata": {
            "tags": []
          },
          "execution_count": 177
        }
      ]
    },
    {
      "cell_type": "code",
      "metadata": {
        "id": "0TwInoYyF7do",
        "colab_type": "code",
        "colab": {
          "base_uri": "https://localhost:8080/",
          "height": 136
        },
        "outputId": "729c4ae3-5dac-49b6-af15-8fd49f771cf7"
      },
      "source": [
        "learn.data.classes"
      ],
      "execution_count": 131,
      "outputs": [
        {
          "output_type": "execute_result",
          "data": {
            "text/plain": [
              "['identity_hate',\n",
              " 'insult',\n",
              " 'no_class',\n",
              " 'obscene',\n",
              " 'severe_toxic',\n",
              " 'threat',\n",
              " 'toxic']"
            ]
          },
          "metadata": {
            "tags": []
          },
          "execution_count": 131
        }
      ]
    },
    {
      "cell_type": "code",
      "metadata": {
        "id": "AJf0edna0Dmp",
        "colab_type": "code",
        "colab": {}
      },
      "source": [
        "class_rank = [\"toxic\", \"severe_toxic\", \"obscene\", \"threat\", \"insult\", \"identity_hate\"]\n",
        "class_in_pred = []\n",
        "df_test['toxic'] = Series(np.random.randn(sLength), index=df_test.index)\n",
        "df_test['severe_toxic'] = Series(np.random.randn(sLength), index=df_test.index)\n",
        "df_test['obscene'] = Series(np.random.randn(sLength), index=df_test.index)\n",
        "df_test['threat'] = Series(np.random.randn(sLength), index=df_test.index)\n",
        "df_test['insult'] = Series(np.random.randn(sLength), index=df_test.index)\n",
        "df_test['identity_hate'] = Series(np.random.randn(sLength), index=df_test.index)"
      ],
      "execution_count": 0,
      "outputs": []
    },
    {
      "cell_type": "code",
      "metadata": {
        "id": "FG9tAQGsTHeI",
        "colab_type": "code",
        "colab": {
          "base_uri": "https://localhost:8080/",
          "height": 34
        },
        "outputId": "e21623f0-fee2-44b5-afd6-235f3c46c2a5"
      },
      "source": [
        "pred = np.asarray(p[0])\n",
        "pred.shape"
      ],
      "execution_count": 185,
      "outputs": [
        {
          "output_type": "execute_result",
          "data": {
            "text/plain": [
              "(153164, 7)"
            ]
          },
          "metadata": {
            "tags": []
          },
          "execution_count": 185
        }
      ]
    },
    {
      "cell_type": "code",
      "metadata": {
        "id": "6_2mBmHjTgO1",
        "colab_type": "code",
        "colab": {
          "base_uri": "https://localhost:8080/",
          "height": 34
        },
        "outputId": "4bb76e39-1d63-4658-b966-ebc44e50e5d4"
      },
      "source": [
        "len(df_test['id'])"
      ],
      "execution_count": 184,
      "outputs": [
        {
          "output_type": "execute_result",
          "data": {
            "text/plain": [
              "153164"
            ]
          },
          "metadata": {
            "tags": []
          },
          "execution_count": 184
        }
      ]
    },
    {
      "cell_type": "code",
      "metadata": {
        "id": "MxrNrLszS3pF",
        "colab_type": "code",
        "colab": {}
      },
      "source": [
        "df_test['identity_hate'] = pred[:,0]\n",
        "df_test['insult'] = pred[:,1]\n",
        "df_test['obscene'] = pred[:,3]\n",
        "df_test['severe_toxic'] = pred[:,4]\n",
        "df_test['threat'] = pred[:,5]\n",
        "df_test['toxic'] = pred[:,6]\n",
        "\n"
      ],
      "execution_count": 0,
      "outputs": []
    },
    {
      "cell_type": "code",
      "metadata": {
        "id": "C7cJ7bE0HzY2",
        "colab_type": "code",
        "colab": {
          "base_uri": "https://localhost:8080/",
          "height": 1969
        },
        "outputId": "3f5a7e2a-13b9-4ec3-f9da-7a67ce27f304"
      },
      "source": [
        "df_temp_test = df_test\n",
        "df_temp_test= df_temp_test.drop(columns=['comment_text'])\n",
        "df_temp_test"
      ],
      "execution_count": 204,
      "outputs": [
        {
          "output_type": "execute_result",
          "data": {
            "text/html": [
              "<div>\n",
              "<style scoped>\n",
              "    .dataframe tbody tr th:only-of-type {\n",
              "        vertical-align: middle;\n",
              "    }\n",
              "\n",
              "    .dataframe tbody tr th {\n",
              "        vertical-align: top;\n",
              "    }\n",
              "\n",
              "    .dataframe thead th {\n",
              "        text-align: right;\n",
              "    }\n",
              "</style>\n",
              "<table border=\"1\" class=\"dataframe\">\n",
              "  <thead>\n",
              "    <tr style=\"text-align: right;\">\n",
              "      <th></th>\n",
              "      <th>id</th>\n",
              "      <th>toxic</th>\n",
              "      <th>severe_toxic</th>\n",
              "      <th>obscene</th>\n",
              "      <th>threat</th>\n",
              "      <th>insult</th>\n",
              "      <th>identity_hate</th>\n",
              "    </tr>\n",
              "  </thead>\n",
              "  <tbody>\n",
              "    <tr>\n",
              "      <th>0</th>\n",
              "      <td>00001cee341fdb12</td>\n",
              "      <td>0.009519</td>\n",
              "      <td>0.000711</td>\n",
              "      <td>0.000539</td>\n",
              "      <td>1.110102e-03</td>\n",
              "      <td>0.000348</td>\n",
              "      <td>0.000935</td>\n",
              "    </tr>\n",
              "    <tr>\n",
              "      <th>1</th>\n",
              "      <td>0000247867823ef7</td>\n",
              "      <td>0.996834</td>\n",
              "      <td>0.674710</td>\n",
              "      <td>0.957339</td>\n",
              "      <td>2.822792e-01</td>\n",
              "      <td>0.929873</td>\n",
              "      <td>0.259908</td>\n",
              "    </tr>\n",
              "    <tr>\n",
              "      <th>2</th>\n",
              "      <td>00013b17ad220c46</td>\n",
              "      <td>0.511339</td>\n",
              "      <td>0.017136</td>\n",
              "      <td>0.098788</td>\n",
              "      <td>2.268369e-02</td>\n",
              "      <td>0.120037</td>\n",
              "      <td>0.017404</td>\n",
              "    </tr>\n",
              "    <tr>\n",
              "      <th>3</th>\n",
              "      <td>00017563c3f7919a</td>\n",
              "      <td>0.974925</td>\n",
              "      <td>0.295061</td>\n",
              "      <td>0.873362</td>\n",
              "      <td>7.579489e-02</td>\n",
              "      <td>0.791521</td>\n",
              "      <td>0.145640</td>\n",
              "    </tr>\n",
              "    <tr>\n",
              "      <th>4</th>\n",
              "      <td>00017695ad8997eb</td>\n",
              "      <td>0.690902</td>\n",
              "      <td>0.024076</td>\n",
              "      <td>0.164201</td>\n",
              "      <td>2.596170e-02</td>\n",
              "      <td>0.180081</td>\n",
              "      <td>0.020175</td>\n",
              "    </tr>\n",
              "    <tr>\n",
              "      <th>5</th>\n",
              "      <td>0001ea8717f6de06</td>\n",
              "      <td>0.432565</td>\n",
              "      <td>0.008754</td>\n",
              "      <td>0.074600</td>\n",
              "      <td>1.076530e-02</td>\n",
              "      <td>0.091066</td>\n",
              "      <td>0.013630</td>\n",
              "    </tr>\n",
              "    <tr>\n",
              "      <th>6</th>\n",
              "      <td>00024115d4cbde0f</td>\n",
              "      <td>0.999411</td>\n",
              "      <td>0.772406</td>\n",
              "      <td>0.992639</td>\n",
              "      <td>2.262292e-01</td>\n",
              "      <td>0.979823</td>\n",
              "      <td>0.385760</td>\n",
              "    </tr>\n",
              "    <tr>\n",
              "      <th>7</th>\n",
              "      <td>000247e83dcc1211</td>\n",
              "      <td>0.666831</td>\n",
              "      <td>0.023306</td>\n",
              "      <td>0.162338</td>\n",
              "      <td>2.250535e-02</td>\n",
              "      <td>0.184695</td>\n",
              "      <td>0.023148</td>\n",
              "    </tr>\n",
              "    <tr>\n",
              "      <th>8</th>\n",
              "      <td>00025358d4737918</td>\n",
              "      <td>0.997865</td>\n",
              "      <td>0.674117</td>\n",
              "      <td>0.977991</td>\n",
              "      <td>2.021479e-01</td>\n",
              "      <td>0.952262</td>\n",
              "      <td>0.289713</td>\n",
              "    </tr>\n",
              "    <tr>\n",
              "      <th>9</th>\n",
              "      <td>00026d1092fe71cc</td>\n",
              "      <td>0.758579</td>\n",
              "      <td>0.031912</td>\n",
              "      <td>0.186140</td>\n",
              "      <td>3.686348e-02</td>\n",
              "      <td>0.228355</td>\n",
              "      <td>0.025075</td>\n",
              "    </tr>\n",
              "    <tr>\n",
              "      <th>10</th>\n",
              "      <td>0002eadc3b301559</td>\n",
              "      <td>0.605821</td>\n",
              "      <td>0.020443</td>\n",
              "      <td>0.116234</td>\n",
              "      <td>2.656552e-02</td>\n",
              "      <td>0.132665</td>\n",
              "      <td>0.019096</td>\n",
              "    </tr>\n",
              "    <tr>\n",
              "      <th>11</th>\n",
              "      <td>0002f87b16116a7f</td>\n",
              "      <td>0.988925</td>\n",
              "      <td>1.000000</td>\n",
              "      <td>0.898573</td>\n",
              "      <td>4.417004e-31</td>\n",
              "      <td>1.000000</td>\n",
              "      <td>1.000000</td>\n",
              "    </tr>\n",
              "    <tr>\n",
              "      <th>12</th>\n",
              "      <td>0003806b11932181</td>\n",
              "      <td>0.076061</td>\n",
              "      <td>0.001831</td>\n",
              "      <td>0.010161</td>\n",
              "      <td>3.979939e-03</td>\n",
              "      <td>0.011246</td>\n",
              "      <td>0.004130</td>\n",
              "    </tr>\n",
              "    <tr>\n",
              "      <th>13</th>\n",
              "      <td>0003e1cccfd5a40a</td>\n",
              "      <td>0.916439</td>\n",
              "      <td>0.062317</td>\n",
              "      <td>0.342427</td>\n",
              "      <td>6.061087e-02</td>\n",
              "      <td>0.365822</td>\n",
              "      <td>0.037459</td>\n",
              "    </tr>\n",
              "    <tr>\n",
              "      <th>14</th>\n",
              "      <td>00059ace3e3e9a53</td>\n",
              "      <td>0.991215</td>\n",
              "      <td>0.305981</td>\n",
              "      <td>0.937676</td>\n",
              "      <td>5.668482e-02</td>\n",
              "      <td>0.858625</td>\n",
              "      <td>0.149737</td>\n",
              "    </tr>\n",
              "    <tr>\n",
              "      <th>15</th>\n",
              "      <td>000634272d0d44eb</td>\n",
              "      <td>0.947961</td>\n",
              "      <td>0.103944</td>\n",
              "      <td>0.448957</td>\n",
              "      <td>9.179669e-02</td>\n",
              "      <td>0.499539</td>\n",
              "      <td>0.055710</td>\n",
              "    </tr>\n",
              "    <tr>\n",
              "      <th>16</th>\n",
              "      <td>000663aff0fffc80</td>\n",
              "      <td>0.937273</td>\n",
              "      <td>0.118068</td>\n",
              "      <td>0.707247</td>\n",
              "      <td>3.532396e-02</td>\n",
              "      <td>0.639322</td>\n",
              "      <td>0.087550</td>\n",
              "    </tr>\n",
              "    <tr>\n",
              "      <th>17</th>\n",
              "      <td>000689dd34e20979</td>\n",
              "      <td>0.997773</td>\n",
              "      <td>0.697968</td>\n",
              "      <td>0.967080</td>\n",
              "      <td>2.507760e-01</td>\n",
              "      <td>0.947016</td>\n",
              "      <td>0.278692</td>\n",
              "    </tr>\n",
              "    <tr>\n",
              "      <th>18</th>\n",
              "      <td>000834769115370c</td>\n",
              "      <td>0.996020</td>\n",
              "      <td>0.358582</td>\n",
              "      <td>0.969167</td>\n",
              "      <td>5.418790e-02</td>\n",
              "      <td>0.908876</td>\n",
              "      <td>0.162228</td>\n",
              "    </tr>\n",
              "    <tr>\n",
              "      <th>19</th>\n",
              "      <td>000844b52dee5f3f</td>\n",
              "      <td>0.984641</td>\n",
              "      <td>0.333655</td>\n",
              "      <td>0.903545</td>\n",
              "      <td>7.532728e-02</td>\n",
              "      <td>0.846013</td>\n",
              "      <td>0.152412</td>\n",
              "    </tr>\n",
              "    <tr>\n",
              "      <th>20</th>\n",
              "      <td>00084da5d4ead7aa</td>\n",
              "      <td>0.994360</td>\n",
              "      <td>0.468502</td>\n",
              "      <td>0.956284</td>\n",
              "      <td>1.176563e-01</td>\n",
              "      <td>0.919069</td>\n",
              "      <td>0.227283</td>\n",
              "    </tr>\n",
              "    <tr>\n",
              "      <th>21</th>\n",
              "      <td>00091c35fa9d0465</td>\n",
              "      <td>0.991429</td>\n",
              "      <td>0.358558</td>\n",
              "      <td>0.939846</td>\n",
              "      <td>7.471843e-02</td>\n",
              "      <td>0.871783</td>\n",
              "      <td>0.158478</td>\n",
              "    </tr>\n",
              "    <tr>\n",
              "      <th>22</th>\n",
              "      <td>000968ce11f5ee34</td>\n",
              "      <td>0.468165</td>\n",
              "      <td>0.017437</td>\n",
              "      <td>0.130135</td>\n",
              "      <td>1.135344e-02</td>\n",
              "      <td>0.160125</td>\n",
              "      <td>0.026651</td>\n",
              "    </tr>\n",
              "    <tr>\n",
              "      <th>23</th>\n",
              "      <td>0009734200a85047</td>\n",
              "      <td>0.408117</td>\n",
              "      <td>0.010193</td>\n",
              "      <td>0.040311</td>\n",
              "      <td>1.722843e-02</td>\n",
              "      <td>0.040454</td>\n",
              "      <td>0.010024</td>\n",
              "    </tr>\n",
              "    <tr>\n",
              "      <th>24</th>\n",
              "      <td>00097b6214686db5</td>\n",
              "      <td>0.999441</td>\n",
              "      <td>1.000000</td>\n",
              "      <td>0.989490</td>\n",
              "      <td>5.801151e-07</td>\n",
              "      <td>1.000000</td>\n",
              "      <td>0.999927</td>\n",
              "    </tr>\n",
              "    <tr>\n",
              "      <th>25</th>\n",
              "      <td>0009aef4bd9e1697</td>\n",
              "      <td>0.403988</td>\n",
              "      <td>0.009073</td>\n",
              "      <td>0.071522</td>\n",
              "      <td>1.243594e-02</td>\n",
              "      <td>0.094707</td>\n",
              "      <td>0.014648</td>\n",
              "    </tr>\n",
              "    <tr>\n",
              "      <th>26</th>\n",
              "      <td>000a02d807ae0254</td>\n",
              "      <td>0.070396</td>\n",
              "      <td>0.001251</td>\n",
              "      <td>0.010847</td>\n",
              "      <td>2.788725e-03</td>\n",
              "      <td>0.015644</td>\n",
              "      <td>0.003863</td>\n",
              "    </tr>\n",
              "    <tr>\n",
              "      <th>27</th>\n",
              "      <td>000a6c6d4e89b9bc</td>\n",
              "      <td>0.964254</td>\n",
              "      <td>0.990582</td>\n",
              "      <td>0.828301</td>\n",
              "      <td>6.735920e-01</td>\n",
              "      <td>0.969168</td>\n",
              "      <td>0.978887</td>\n",
              "    </tr>\n",
              "    <tr>\n",
              "      <th>28</th>\n",
              "      <td>000bafe2080bba82</td>\n",
              "      <td>0.957648</td>\n",
              "      <td>0.172968</td>\n",
              "      <td>0.698680</td>\n",
              "      <td>7.771908e-02</td>\n",
              "      <td>0.674381</td>\n",
              "      <td>0.096781</td>\n",
              "    </tr>\n",
              "    <tr>\n",
              "      <th>29</th>\n",
              "      <td>000bf0a9894b2807</td>\n",
              "      <td>0.957648</td>\n",
              "      <td>0.172968</td>\n",
              "      <td>0.698680</td>\n",
              "      <td>7.771908e-02</td>\n",
              "      <td>0.674381</td>\n",
              "      <td>0.096781</td>\n",
              "    </tr>\n",
              "    <tr>\n",
              "      <th>...</th>\n",
              "      <td>...</td>\n",
              "      <td>...</td>\n",
              "      <td>...</td>\n",
              "      <td>...</td>\n",
              "      <td>...</td>\n",
              "      <td>...</td>\n",
              "      <td>...</td>\n",
              "    </tr>\n",
              "    <tr>\n",
              "      <th>153134</th>\n",
              "      <td>fff3ae2e177b6bb3</td>\n",
              "      <td>0.987091</td>\n",
              "      <td>0.332339</td>\n",
              "      <td>0.915856</td>\n",
              "      <td>8.558210e-02</td>\n",
              "      <td>0.829295</td>\n",
              "      <td>0.134689</td>\n",
              "    </tr>\n",
              "    <tr>\n",
              "      <th>153135</th>\n",
              "      <td>fff4109e837f7acc</td>\n",
              "      <td>0.882600</td>\n",
              "      <td>0.999920</td>\n",
              "      <td>0.882318</td>\n",
              "      <td>9.192944e-01</td>\n",
              "      <td>0.994421</td>\n",
              "      <td>0.999769</td>\n",
              "    </tr>\n",
              "    <tr>\n",
              "      <th>153136</th>\n",
              "      <td>fff4373a81ef9f2a</td>\n",
              "      <td>0.149037</td>\n",
              "      <td>0.012822</td>\n",
              "      <td>0.011031</td>\n",
              "      <td>1.682460e-02</td>\n",
              "      <td>0.007401</td>\n",
              "      <td>0.008030</td>\n",
              "    </tr>\n",
              "    <tr>\n",
              "      <th>153137</th>\n",
              "      <td>fff460574ddbcd80</td>\n",
              "      <td>0.165391</td>\n",
              "      <td>0.017235</td>\n",
              "      <td>0.009844</td>\n",
              "      <td>2.515295e-02</td>\n",
              "      <td>0.005660</td>\n",
              "      <td>0.007727</td>\n",
              "    </tr>\n",
              "    <tr>\n",
              "      <th>153138</th>\n",
              "      <td>fff4fc0a1555be5c</td>\n",
              "      <td>0.157919</td>\n",
              "      <td>0.006515</td>\n",
              "      <td>0.013806</td>\n",
              "      <td>1.129900e-02</td>\n",
              "      <td>0.012135</td>\n",
              "      <td>0.006257</td>\n",
              "    </tr>\n",
              "    <tr>\n",
              "      <th>153139</th>\n",
              "      <td>fff5b9bb944d634c</td>\n",
              "      <td>0.994379</td>\n",
              "      <td>0.482360</td>\n",
              "      <td>0.952092</td>\n",
              "      <td>1.409097e-01</td>\n",
              "      <td>0.907018</td>\n",
              "      <td>0.212401</td>\n",
              "    </tr>\n",
              "    <tr>\n",
              "      <th>153140</th>\n",
              "      <td>fff5c4a77fe0c05f</td>\n",
              "      <td>0.358067</td>\n",
              "      <td>0.016860</td>\n",
              "      <td>0.043375</td>\n",
              "      <td>2.145151e-02</td>\n",
              "      <td>0.039756</td>\n",
              "      <td>0.013752</td>\n",
              "    </tr>\n",
              "    <tr>\n",
              "      <th>153141</th>\n",
              "      <td>fff5fb61bd637c82</td>\n",
              "      <td>0.202976</td>\n",
              "      <td>0.007260</td>\n",
              "      <td>0.018043</td>\n",
              "      <td>1.298668e-02</td>\n",
              "      <td>0.015700</td>\n",
              "      <td>0.006330</td>\n",
              "    </tr>\n",
              "    <tr>\n",
              "      <th>153142</th>\n",
              "      <td>fff69311f306df44</td>\n",
              "      <td>0.193347</td>\n",
              "      <td>0.007606</td>\n",
              "      <td>0.015390</td>\n",
              "      <td>1.408114e-02</td>\n",
              "      <td>0.012784</td>\n",
              "      <td>0.005886</td>\n",
              "    </tr>\n",
              "    <tr>\n",
              "      <th>153143</th>\n",
              "      <td>fff6ad63666fb304</td>\n",
              "      <td>0.157919</td>\n",
              "      <td>0.006515</td>\n",
              "      <td>0.013806</td>\n",
              "      <td>1.129900e-02</td>\n",
              "      <td>0.012135</td>\n",
              "      <td>0.006257</td>\n",
              "    </tr>\n",
              "    <tr>\n",
              "      <th>153144</th>\n",
              "      <td>fff7159b3ee95618</td>\n",
              "      <td>0.277836</td>\n",
              "      <td>0.011879</td>\n",
              "      <td>0.031824</td>\n",
              "      <td>1.667966e-02</td>\n",
              "      <td>0.031129</td>\n",
              "      <td>0.010665</td>\n",
              "    </tr>\n",
              "    <tr>\n",
              "      <th>153145</th>\n",
              "      <td>fff718ffe5f05559</td>\n",
              "      <td>0.002825</td>\n",
              "      <td>0.000215</td>\n",
              "      <td>0.000177</td>\n",
              "      <td>5.285438e-04</td>\n",
              "      <td>0.000088</td>\n",
              "      <td>0.000313</td>\n",
              "    </tr>\n",
              "    <tr>\n",
              "      <th>153146</th>\n",
              "      <td>fff7fc22a0cdccd3</td>\n",
              "      <td>0.996243</td>\n",
              "      <td>0.540044</td>\n",
              "      <td>0.968711</td>\n",
              "      <td>1.479990e-01</td>\n",
              "      <td>0.932849</td>\n",
              "      <td>0.265266</td>\n",
              "    </tr>\n",
              "    <tr>\n",
              "      <th>153147</th>\n",
              "      <td>fff83b80284d8440</td>\n",
              "      <td>0.427532</td>\n",
              "      <td>0.020913</td>\n",
              "      <td>0.045828</td>\n",
              "      <td>2.615151e-02</td>\n",
              "      <td>0.038318</td>\n",
              "      <td>0.013752</td>\n",
              "    </tr>\n",
              "    <tr>\n",
              "      <th>153148</th>\n",
              "      <td>fff8ef316d0c6990</td>\n",
              "      <td>0.162465</td>\n",
              "      <td>0.011103</td>\n",
              "      <td>0.011120</td>\n",
              "      <td>1.651569e-02</td>\n",
              "      <td>0.007798</td>\n",
              "      <td>0.006973</td>\n",
              "    </tr>\n",
              "    <tr>\n",
              "      <th>153149</th>\n",
              "      <td>fff8f521a7dbcd47</td>\n",
              "      <td>0.191485</td>\n",
              "      <td>0.016986</td>\n",
              "      <td>0.011211</td>\n",
              "      <td>2.361107e-02</td>\n",
              "      <td>0.006727</td>\n",
              "      <td>0.008086</td>\n",
              "    </tr>\n",
              "    <tr>\n",
              "      <th>153150</th>\n",
              "      <td>fff8f64043129fa2</td>\n",
              "      <td>0.427532</td>\n",
              "      <td>0.020913</td>\n",
              "      <td>0.045828</td>\n",
              "      <td>2.615151e-02</td>\n",
              "      <td>0.038318</td>\n",
              "      <td>0.013752</td>\n",
              "    </tr>\n",
              "    <tr>\n",
              "      <th>153151</th>\n",
              "      <td>fff9d70fe0722906</td>\n",
              "      <td>0.019061</td>\n",
              "      <td>0.001467</td>\n",
              "      <td>0.001093</td>\n",
              "      <td>2.920317e-03</td>\n",
              "      <td>0.000637</td>\n",
              "      <td>0.001584</td>\n",
              "    </tr>\n",
              "    <tr>\n",
              "      <th>153152</th>\n",
              "      <td>fff9fa508f400ee6</td>\n",
              "      <td>0.434222</td>\n",
              "      <td>0.036281</td>\n",
              "      <td>0.040760</td>\n",
              "      <td>4.403587e-02</td>\n",
              "      <td>0.027234</td>\n",
              "      <td>0.015456</td>\n",
              "    </tr>\n",
              "    <tr>\n",
              "      <th>153153</th>\n",
              "      <td>fffa3fae1890b40a</td>\n",
              "      <td>0.127917</td>\n",
              "      <td>0.014875</td>\n",
              "      <td>0.006959</td>\n",
              "      <td>2.228076e-02</td>\n",
              "      <td>0.003451</td>\n",
              "      <td>0.006587</td>\n",
              "    </tr>\n",
              "    <tr>\n",
              "      <th>153154</th>\n",
              "      <td>fffa8a11c4378854</td>\n",
              "      <td>0.158280</td>\n",
              "      <td>0.018192</td>\n",
              "      <td>0.008152</td>\n",
              "      <td>2.839863e-02</td>\n",
              "      <td>0.004246</td>\n",
              "      <td>0.006862</td>\n",
              "    </tr>\n",
              "    <tr>\n",
              "      <th>153155</th>\n",
              "      <td>fffac2a094c8e0e2</td>\n",
              "      <td>0.434222</td>\n",
              "      <td>0.036281</td>\n",
              "      <td>0.040760</td>\n",
              "      <td>4.403587e-02</td>\n",
              "      <td>0.027234</td>\n",
              "      <td>0.015456</td>\n",
              "    </tr>\n",
              "    <tr>\n",
              "      <th>153156</th>\n",
              "      <td>fffb5451268fb5ba</td>\n",
              "      <td>0.134387</td>\n",
              "      <td>0.020019</td>\n",
              "      <td>0.006203</td>\n",
              "      <td>2.868556e-02</td>\n",
              "      <td>0.002711</td>\n",
              "      <td>0.006980</td>\n",
              "    </tr>\n",
              "    <tr>\n",
              "      <th>153157</th>\n",
              "      <td>fffc2b34bbe61c8d</td>\n",
              "      <td>0.076088</td>\n",
              "      <td>0.011080</td>\n",
              "      <td>0.003441</td>\n",
              "      <td>1.842662e-02</td>\n",
              "      <td>0.001543</td>\n",
              "      <td>0.004622</td>\n",
              "    </tr>\n",
              "    <tr>\n",
              "      <th>153158</th>\n",
              "      <td>fffc489742ffe69b</td>\n",
              "      <td>0.434222</td>\n",
              "      <td>0.036281</td>\n",
              "      <td>0.040760</td>\n",
              "      <td>4.403587e-02</td>\n",
              "      <td>0.027234</td>\n",
              "      <td>0.015456</td>\n",
              "    </tr>\n",
              "    <tr>\n",
              "      <th>153159</th>\n",
              "      <td>fffcd0960ee309b5</td>\n",
              "      <td>0.434222</td>\n",
              "      <td>0.036281</td>\n",
              "      <td>0.040760</td>\n",
              "      <td>4.403587e-02</td>\n",
              "      <td>0.027234</td>\n",
              "      <td>0.015456</td>\n",
              "    </tr>\n",
              "    <tr>\n",
              "      <th>153160</th>\n",
              "      <td>fffd7a9a6eb32c16</td>\n",
              "      <td>0.434222</td>\n",
              "      <td>0.036281</td>\n",
              "      <td>0.040760</td>\n",
              "      <td>4.403587e-02</td>\n",
              "      <td>0.027234</td>\n",
              "      <td>0.015456</td>\n",
              "    </tr>\n",
              "    <tr>\n",
              "      <th>153161</th>\n",
              "      <td>fffda9e8d6fafa9e</td>\n",
              "      <td>0.331238</td>\n",
              "      <td>0.056462</td>\n",
              "      <td>0.019910</td>\n",
              "      <td>5.130251e-02</td>\n",
              "      <td>0.008430</td>\n",
              "      <td>0.016373</td>\n",
              "    </tr>\n",
              "    <tr>\n",
              "      <th>153162</th>\n",
              "      <td>fffe8f1340a79fc2</td>\n",
              "      <td>0.060951</td>\n",
              "      <td>0.010171</td>\n",
              "      <td>0.002318</td>\n",
              "      <td>1.726935e-02</td>\n",
              "      <td>0.000956</td>\n",
              "      <td>0.003813</td>\n",
              "    </tr>\n",
              "    <tr>\n",
              "      <th>153163</th>\n",
              "      <td>ffffce3fb183ee80</td>\n",
              "      <td>0.062275</td>\n",
              "      <td>0.010251</td>\n",
              "      <td>0.002583</td>\n",
              "      <td>1.756952e-02</td>\n",
              "      <td>0.001115</td>\n",
              "      <td>0.004045</td>\n",
              "    </tr>\n",
              "  </tbody>\n",
              "</table>\n",
              "<p>153164 rows × 7 columns</p>\n",
              "</div>"
            ],
            "text/plain": [
              "                      id     toxic  ...    insult  identity_hate\n",
              "0       00001cee341fdb12  0.009519  ...  0.000348       0.000935\n",
              "1       0000247867823ef7  0.996834  ...  0.929873       0.259908\n",
              "2       00013b17ad220c46  0.511339  ...  0.120037       0.017404\n",
              "3       00017563c3f7919a  0.974925  ...  0.791521       0.145640\n",
              "4       00017695ad8997eb  0.690902  ...  0.180081       0.020175\n",
              "5       0001ea8717f6de06  0.432565  ...  0.091066       0.013630\n",
              "6       00024115d4cbde0f  0.999411  ...  0.979823       0.385760\n",
              "7       000247e83dcc1211  0.666831  ...  0.184695       0.023148\n",
              "8       00025358d4737918  0.997865  ...  0.952262       0.289713\n",
              "9       00026d1092fe71cc  0.758579  ...  0.228355       0.025075\n",
              "10      0002eadc3b301559  0.605821  ...  0.132665       0.019096\n",
              "11      0002f87b16116a7f  0.988925  ...  1.000000       1.000000\n",
              "12      0003806b11932181  0.076061  ...  0.011246       0.004130\n",
              "13      0003e1cccfd5a40a  0.916439  ...  0.365822       0.037459\n",
              "14      00059ace3e3e9a53  0.991215  ...  0.858625       0.149737\n",
              "15      000634272d0d44eb  0.947961  ...  0.499539       0.055710\n",
              "16      000663aff0fffc80  0.937273  ...  0.639322       0.087550\n",
              "17      000689dd34e20979  0.997773  ...  0.947016       0.278692\n",
              "18      000834769115370c  0.996020  ...  0.908876       0.162228\n",
              "19      000844b52dee5f3f  0.984641  ...  0.846013       0.152412\n",
              "20      00084da5d4ead7aa  0.994360  ...  0.919069       0.227283\n",
              "21      00091c35fa9d0465  0.991429  ...  0.871783       0.158478\n",
              "22      000968ce11f5ee34  0.468165  ...  0.160125       0.026651\n",
              "23      0009734200a85047  0.408117  ...  0.040454       0.010024\n",
              "24      00097b6214686db5  0.999441  ...  1.000000       0.999927\n",
              "25      0009aef4bd9e1697  0.403988  ...  0.094707       0.014648\n",
              "26      000a02d807ae0254  0.070396  ...  0.015644       0.003863\n",
              "27      000a6c6d4e89b9bc  0.964254  ...  0.969168       0.978887\n",
              "28      000bafe2080bba82  0.957648  ...  0.674381       0.096781\n",
              "29      000bf0a9894b2807  0.957648  ...  0.674381       0.096781\n",
              "...                  ...       ...  ...       ...            ...\n",
              "153134  fff3ae2e177b6bb3  0.987091  ...  0.829295       0.134689\n",
              "153135  fff4109e837f7acc  0.882600  ...  0.994421       0.999769\n",
              "153136  fff4373a81ef9f2a  0.149037  ...  0.007401       0.008030\n",
              "153137  fff460574ddbcd80  0.165391  ...  0.005660       0.007727\n",
              "153138  fff4fc0a1555be5c  0.157919  ...  0.012135       0.006257\n",
              "153139  fff5b9bb944d634c  0.994379  ...  0.907018       0.212401\n",
              "153140  fff5c4a77fe0c05f  0.358067  ...  0.039756       0.013752\n",
              "153141  fff5fb61bd637c82  0.202976  ...  0.015700       0.006330\n",
              "153142  fff69311f306df44  0.193347  ...  0.012784       0.005886\n",
              "153143  fff6ad63666fb304  0.157919  ...  0.012135       0.006257\n",
              "153144  fff7159b3ee95618  0.277836  ...  0.031129       0.010665\n",
              "153145  fff718ffe5f05559  0.002825  ...  0.000088       0.000313\n",
              "153146  fff7fc22a0cdccd3  0.996243  ...  0.932849       0.265266\n",
              "153147  fff83b80284d8440  0.427532  ...  0.038318       0.013752\n",
              "153148  fff8ef316d0c6990  0.162465  ...  0.007798       0.006973\n",
              "153149  fff8f521a7dbcd47  0.191485  ...  0.006727       0.008086\n",
              "153150  fff8f64043129fa2  0.427532  ...  0.038318       0.013752\n",
              "153151  fff9d70fe0722906  0.019061  ...  0.000637       0.001584\n",
              "153152  fff9fa508f400ee6  0.434222  ...  0.027234       0.015456\n",
              "153153  fffa3fae1890b40a  0.127917  ...  0.003451       0.006587\n",
              "153154  fffa8a11c4378854  0.158280  ...  0.004246       0.006862\n",
              "153155  fffac2a094c8e0e2  0.434222  ...  0.027234       0.015456\n",
              "153156  fffb5451268fb5ba  0.134387  ...  0.002711       0.006980\n",
              "153157  fffc2b34bbe61c8d  0.076088  ...  0.001543       0.004622\n",
              "153158  fffc489742ffe69b  0.434222  ...  0.027234       0.015456\n",
              "153159  fffcd0960ee309b5  0.434222  ...  0.027234       0.015456\n",
              "153160  fffd7a9a6eb32c16  0.434222  ...  0.027234       0.015456\n",
              "153161  fffda9e8d6fafa9e  0.331238  ...  0.008430       0.016373\n",
              "153162  fffe8f1340a79fc2  0.060951  ...  0.000956       0.003813\n",
              "153163  ffffce3fb183ee80  0.062275  ...  0.001115       0.004045\n",
              "\n",
              "[153164 rows x 7 columns]"
            ]
          },
          "metadata": {
            "tags": []
          },
          "execution_count": 204
        }
      ]
    },
    {
      "cell_type": "code",
      "metadata": {
        "id": "dk6h6kSCIYxv",
        "colab_type": "code",
        "colab": {}
      },
      "source": [
        "df_temp_test.to_csv(\"submission.csv\",index=False)\n"
      ],
      "execution_count": 0,
      "outputs": []
    },
    {
      "cell_type": "code",
      "metadata": {
        "id": "RhnttoA4HL_S",
        "colab_type": "code",
        "colab": {
          "base_uri": "https://localhost:8080/",
          "height": 119
        },
        "outputId": "c986b3d3-817a-4e9a-e7b1-964384f453a2"
      },
      "source": [
        "!ls"
      ],
      "execution_count": 196,
      "outputs": [
        {
          "output_type": "stream",
          "text": [
            "clean_train.csv\t\t\t\t\t   sample_submission.csv\n",
            "download-all\t\t\t\t\t   submission.csv\n",
            "drive\t\t\t\t\t\t   test.csv\n",
            "jigsaw-toxic-comment-classification-challenge.zip  test_labels.csv\n",
            "models\t\t\t\t\t\t   tmp_lm\n",
            "sample_data\t\t\t\t\t   train.csv\n"
          ],
          "name": "stdout"
        }
      ]
    },
    {
      "cell_type": "code",
      "metadata": {
        "id": "BQsHwXrZHXlH",
        "colab_type": "code",
        "colab": {}
      },
      "source": [
        "from google.colab import files\n",
        "files.download('submission.csv')"
      ],
      "execution_count": 0,
      "outputs": []
    },
    {
      "cell_type": "code",
      "metadata": {
        "id": "SL2TcckdHeAL",
        "colab_type": "code",
        "colab": {}
      },
      "source": [
        ""
      ],
      "execution_count": 0,
      "outputs": []
    }
  ]
}