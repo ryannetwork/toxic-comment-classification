{
  "nbformat": 4,
  "nbformat_minor": 0,
  "metadata": {
    "colab": {
      "name": "fastai.ipynb",
      "version": "0.3.2",
      "provenance": [],
      "include_colab_link": true
    },
    "kernelspec": {
      "name": "python3",
      "display_name": "Python 3"
    },
    "accelerator": "GPU"
  },
  "cells": [
    {
      "cell_type": "markdown",
      "metadata": {
        "id": "view-in-github",
        "colab_type": "text"
      },
      "source": [
        "<a href=\"https://colab.research.google.com/github/shikhar00778/toxic-comment-classification/blob/master/fastai.ipynb\" target=\"_parent\"><img src=\"https://colab.research.google.com/assets/colab-badge.svg\" alt=\"Open In Colab\"/></a>"
      ]
    },
    {
      "cell_type": "code",
      "metadata": {
        "id": "So2Rz250FUkQ",
        "colab_type": "code",
        "colab": {
          "base_uri": "https://localhost:8080/",
          "height": 122
        },
        "outputId": "f82ed3c8-fcc1-4a86-db7f-77a21772344c"
      },
      "source": [
        "from google.colab import drive\n",
        "drive.mount('/content/drive')"
      ],
      "execution_count": 4,
      "outputs": [
        {
          "output_type": "stream",
          "text": [
            "Go to this URL in a browser: https://accounts.google.com/o/oauth2/auth?client_id=947318989803-6bn6qk8qdgf4n4g3pfee6491hc0brc4i.apps.googleusercontent.com&redirect_uri=urn%3Aietf%3Awg%3Aoauth%3A2.0%3Aoob&scope=email%20https%3A%2F%2Fwww.googleapis.com%2Fauth%2Fdocs.test%20https%3A%2F%2Fwww.googleapis.com%2Fauth%2Fdrive%20https%3A%2F%2Fwww.googleapis.com%2Fauth%2Fdrive.photos.readonly%20https%3A%2F%2Fwww.googleapis.com%2Fauth%2Fpeopleapi.readonly&response_type=code\n",
            "\n",
            "Enter your authorization code:\n",
            "··········\n",
            "Mounted at /content/drive\n"
          ],
          "name": "stdout"
        }
      ]
    },
    {
      "cell_type": "code",
      "metadata": {
        "id": "E1bSfs73FwG9",
        "colab_type": "code",
        "colab": {}
      },
      "source": [
        "!cp drive/'My Drive'/jigsaw-toxic-comment-classification-challenge.zip ."
      ],
      "execution_count": 0,
      "outputs": []
    },
    {
      "cell_type": "code",
      "metadata": {
        "id": "xOsXhD8eF2pY",
        "colab_type": "code",
        "colab": {
          "base_uri": "https://localhost:8080/",
          "height": 119
        },
        "outputId": "93c469bf-b458-495e-a3a2-86482a958253"
      },
      "source": [
        "!unzip jigsaw-toxic-comment-classification-challenge.zip\n",
        "!mkdir tmp_lm/"
      ],
      "execution_count": 44,
      "outputs": [
        {
          "output_type": "stream",
          "text": [
            "Archive:  jigsaw-toxic-comment-classification-challenge.zip\n",
            "replace test_labels.csv? [y]es, [n]o, [A]ll, [N]one, [r]ename: A\n",
            "  inflating: test_labels.csv         \n",
            "  inflating: sample_submission.csv   \n",
            "  inflating: test.csv                \n",
            "  inflating: train.csv               \n"
          ],
          "name": "stdout"
        }
      ]
    },
    {
      "cell_type": "code",
      "metadata": {
        "id": "s56Zxp-5HFgW",
        "colab_type": "code",
        "colab": {}
      },
      "source": [
        "import pandas as pd\n",
        "import numpy as np"
      ],
      "execution_count": 0,
      "outputs": []
    },
    {
      "cell_type": "code",
      "metadata": {
        "id": "o4F2jChdHMjl",
        "colab_type": "code",
        "colab": {}
      },
      "source": [
        "df = pd.read_csv(\"train.csv\")\n",
        "df_test = pd.read_csv(\"test.csv\")"
      ],
      "execution_count": 0,
      "outputs": []
    },
    {
      "cell_type": "code",
      "metadata": {
        "id": "j4KKnW2JHQFx",
        "colab_type": "code",
        "colab": {}
      },
      "source": [
        "arr = df.columns"
      ],
      "execution_count": 0,
      "outputs": []
    },
    {
      "cell_type": "code",
      "metadata": {
        "id": "zx_5650WHVG9",
        "colab_type": "code",
        "colab": {
          "base_uri": "https://localhost:8080/",
          "height": 34
        },
        "outputId": "a5cd67b1-8dc1-4830-e53a-89e276611a01"
      },
      "source": [
        "classes = arr[2:]\n",
        "classes = np.asarray(classes)\n",
        "classes = classes.tolist()\n",
        "classes"
      ],
      "execution_count": 48,
      "outputs": [
        {
          "output_type": "execute_result",
          "data": {
            "text/plain": [
              "['toxic', 'severe_toxic', 'obscene', 'threat', 'insult', 'identity_hate']"
            ]
          },
          "metadata": {
            "tags": []
          },
          "execution_count": 48
        }
      ]
    },
    {
      "cell_type": "code",
      "metadata": {
        "id": "ads0zcTjHZGX",
        "colab_type": "code",
        "colab": {}
      },
      "source": [
        "def make_data(df):\n",
        "  data=[]\n",
        "  lab=[]\n",
        "  for row,index in df.iterrows():\n",
        "    temp=[]\n",
        "    for class_name in classes:\n",
        "      if index[class_name]==1:\n",
        "        temp.append(class_name)\n",
        "      if len(temp)==0: \n",
        "        temp.append(\"no_class\")\n",
        "    temp = ' '.join(temp)\n",
        "    lab.append(temp)\n",
        "    data.append(index[\"comment_text\"])\n",
        "  X = pd.DataFrame({\"labels\":lab,\"text\":data})\n",
        "  return X"
      ],
      "execution_count": 0,
      "outputs": []
    },
    {
      "cell_type": "code",
      "metadata": {
        "id": "aLqxIsxxK9vZ",
        "colab_type": "code",
        "colab": {}
      },
      "source": [
        "X = make_data(df)\n",
        "X.to_csv(\"clean_train.csv\",index=False)\n",
        "#X = make_data(df_test)\n",
        "#X.to_csv(\"clean_test.csv\",index=False)\n"
      ],
      "execution_count": 0,
      "outputs": []
    },
    {
      "cell_type": "code",
      "metadata": {
        "id": "xE8vjC-jLnaj",
        "colab_type": "code",
        "colab": {}
      },
      "source": [
        "from fastai.text import *\n",
        "path = '.'"
      ],
      "execution_count": 0,
      "outputs": []
    },
    {
      "cell_type": "code",
      "metadata": {
        "id": "blwc8-CvLb7c",
        "colab_type": "code",
        "colab": {}
      },
      "source": [
        "data_lm = TextDataBunch.from_csv(path, 'clean_train.csv', test=\"test.csv\", text_cols=1,max_vocab=60000,min_freq=1, label_cols=0,label_delim=\" \")"
      ],
      "execution_count": 0,
      "outputs": []
    },
    {
      "cell_type": "code",
      "metadata": {
        "id": "ODvcOd-ULyVz",
        "colab_type": "code",
        "colab": {
          "base_uri": "https://localhost:8080/",
          "height": 374
        },
        "outputId": "eeebb909-0c70-445a-cded-749db3e2ccd1"
      },
      "source": [
        "data_lm.show_batch()"
      ],
      "execution_count": 64,
      "outputs": [
        {
          "output_type": "display_data",
          "data": {
            "text/html": [
              "<table border=\"1\" class=\"dataframe\">\n",
              "  <thead>\n",
              "    <tr style=\"text-align: right;\">\n",
              "      <th>text</th>\n",
              "      <th>target</th>\n",
              "    </tr>\n",
              "  </thead>\n",
              "  <tbody>\n",
              "    <tr>\n",
              "      <td>xxbos xxmaj take that ! \\n \\n  xxup in xxup the xxup ass xxup in xxup the xxup ass xxup in xxup the xxup ass xxup in xxup the xxup ass xxup in xxup the xxup ass xxup in xxup the xxup ass xxup in xxup the xxup ass xxup in xxup the xxup ass xxup in xxup the xxup ass xxup in xxup the xxup ass xxup in</td>\n",
              "      <td>obscene;severe_toxic;toxic</td>\n",
              "    </tr>\n",
              "    <tr>\n",
              "      <td>xxbos \" ( ) you are xxup such a fucking twat flap \\n \\n  xxmaj position / / xxmaj artist , xxmaj band , or xxmaj group / / xxmaj song xxmaj title / / xxmaj weeks xxmaj spent xxmaj at # 1 / / xxmaj year \\n \\n  1 . xxmaj mariah xxmaj carey &amp; xxmaj boyz xxup ii xxmaj men- \" \" xxmaj one xxmaj sweet</td>\n",
              "      <td>toxic</td>\n",
              "    </tr>\n",
              "    <tr>\n",
              "      <td>xxbos ' ' ' jforget xxup fuck xxup you xxup faggot xxup gay xxup ass xxup chink xxup nigger xxup cocksucking xxup piece xxup of xxup shit jforget xxup fuck xxup you xxup faggot xxup gay xxup ass xxup chink xxup nigger xxup cocksucking xxup piece xxup of xxup shit jforget xxup fuck xxup you xxup faggot xxup gay xxup ass xxup chink xxup nigger xxup cocksucking xxup piece xxup</td>\n",
              "      <td>identity_hate;insult;obscene;severe_toxic;toxic</td>\n",
              "    </tr>\n",
              "    <tr>\n",
              "      <td>xxbos \" \\n \\n  xxmaj hi , thanks for your thoughts . i have to disagree about your xxunk - argument . xxmaj you say \" \" xxmaj germany \" \" can refer to either \" \" xxmaj west xxmaj germany \" \" or \" \" xxmaj east xxmaj germany \" \" . xxmaj this is - as i already stated - simply not correct , since there never</td>\n",
              "      <td>no_class</td>\n",
              "    </tr>\n",
              "    <tr>\n",
              "      <td>xxbos xxmaj merge of xxmaj county articles \\n \\n  i will be proposing that all the xxmaj county articles in xxmaj england be merged into several articles , representing the 9 official regions of xxmaj england . xxmaj this involves the following xxunk \\n \\n  xxmaj cleveland xxmaj scout xxmaj county ( xxmaj the xxmaj scout xxunk xxmaj scout xxmaj county ( xxmaj the xxmaj scout xxmaj association</td>\n",
              "      <td>no_class</td>\n",
              "    </tr>\n",
              "  </tbody>\n",
              "</table>"
            ],
            "text/plain": [
              "<IPython.core.display.HTML object>"
            ]
          },
          "metadata": {
            "tags": []
          }
        }
      ]
    },
    {
      "cell_type": "code",
      "metadata": {
        "id": "bQ40T8VNnHDJ",
        "colab_type": "code",
        "colab": {}
      },
      "source": [
        ""
      ],
      "execution_count": 0,
      "outputs": []
    },
    {
      "cell_type": "code",
      "metadata": {
        "id": "YcySVSyDOe8G",
        "colab_type": "code",
        "colab": {}
      },
      "source": [
        ""
      ],
      "execution_count": 0,
      "outputs": []
    },
    {
      "cell_type": "code",
      "metadata": {
        "id": "jM0QnJo_ORdb",
        "colab_type": "code",
        "colab": {
          "base_uri": "https://localhost:8080/",
          "height": 340
        },
        "outputId": "bcadaba8-4cd7-43f7-8f0f-2201fb04a6a2"
      },
      "source": [
        "data_lm.save()\n",
        "!mv data_save.pkl tmp_lm/\n",
        "data = load_data(\"tmp_lm/\",bs=64)\n",
        "data.show_batch()"
      ],
      "execution_count": 69,
      "outputs": [
        {
          "output_type": "display_data",
          "data": {
            "text/html": [
              "<table border=\"1\" class=\"dataframe\">\n",
              "  <thead>\n",
              "    <tr style=\"text-align: right;\">\n",
              "      <th>text</th>\n",
              "      <th>target</th>\n",
              "    </tr>\n",
              "  </thead>\n",
              "  <tbody>\n",
              "    <tr>\n",
              "      <td>xxbos xxmaj take that ! \\n \\n  xxup in xxup the xxup ass xxup in xxup the xxup ass xxup in xxup the xxup ass xxup in xxup the xxup ass xxup in xxup the xxup ass xxup in xxup the xxup ass xxup in xxup the xxup ass xxup in xxup the xxup ass xxup in xxup the xxup ass xxup in xxup the xxup ass xxup in</td>\n",
              "      <td>obscene;severe_toxic;toxic</td>\n",
              "    </tr>\n",
              "    <tr>\n",
              "      <td>xxbos i xxup can xxup still xxup post xxup with xxup this xxup computer ... i xxup said xxup block xxup me , xxup come xxup the xxup fuck xxup down xxup here xxup and xxup arrest xxup me ... xxup san xxup diego xxup california , xxup chula xxup vista , xxup fucking xxup get xxup your xxup information xxup right xxup faggot shithead!!i xxup can xxup still xxup</td>\n",
              "      <td>insult;obscene;severe_toxic;toxic</td>\n",
              "    </tr>\n",
              "    <tr>\n",
              "      <td>xxbos xxmaj sam xxmaj guest \\n  xxmaj instructor : xxmaj todd , j \\n  xxmaj political xxmaj science 202 \\n  11 / 3 / 10 \\n  xxmaj impacts the 2010 xxmaj midterm xxmaj congressional xxmaj elections has on the \\n  xxmaj presidential xxmaj election in 2012 \\n  tabin the 2010 midterm congressional elections , the xxmaj republican party took control of the xxmaj house</td>\n",
              "      <td>no_class</td>\n",
              "    </tr>\n",
              "    <tr>\n",
              "      <td>xxbos \" \\n \\n  xxmaj hi . xxmaj the issue here is very simple . xxmaj the article currently states there is \" \" xxup no \" \" evidence that xxup ect causes brain damage in humans or animals . xxmaj the article also states that there are \" \" xxup no \" \" recent reviews that found such evidence . xxmaj both of these claims in the article</td>\n",
              "      <td>no_class</td>\n",
              "    </tr>\n",
              "    <tr>\n",
              "      <td>xxbos \" \\n \\n  xxmaj from xxmaj norway ; xxmaj denmark ; xxmaj iceland ; xxmaj scotland ; xxunk etc . ) ; xxmaj wales ; xxmaj ireland ; xxmaj basques &amp; xxmaj xxunk data ) \\n \\n  by xxmaj gunnar xxmaj thompson \\n \\n  \" \" xxmaj on xxunk 's map , the northwestern continent is called \" \" xxmaj xxunk . \" \" xxmaj this</td>\n",
              "      <td>no_class</td>\n",
              "    </tr>\n",
              "  </tbody>\n",
              "</table>"
            ],
            "text/plain": [
              "<IPython.core.display.HTML object>"
            ]
          },
          "metadata": {
            "tags": []
          }
        }
      ]
    },
    {
      "cell_type": "code",
      "metadata": {
        "id": "I3iGFdqqprG_",
        "colab_type": "code",
        "colab": {}
      },
      "source": [
        ""
      ],
      "execution_count": 0,
      "outputs": []
    },
    {
      "cell_type": "code",
      "metadata": {
        "id": "-LhdwoSGQzKn",
        "colab_type": "code",
        "colab": {}
      },
      "source": [
        "### dont run language model. out of memory error"
      ],
      "execution_count": 0,
      "outputs": []
    },
    {
      "cell_type": "code",
      "metadata": {
        "id": "verdQBe_Pxet",
        "colab_type": "code",
        "colab": {}
      },
      "source": [
        "learn = language_model_learner(data, arch=AWD_LSTM, drop_mult=0.3)\n"
      ],
      "execution_count": 0,
      "outputs": []
    },
    {
      "cell_type": "code",
      "metadata": {
        "id": "NYPIypnlPxkK",
        "colab_type": "code",
        "colab": {}
      },
      "source": [
        "learn.fit_one_cycle(1, 1e-2, moms=(0.8,0.7))\n"
      ],
      "execution_count": 0,
      "outputs": []
    },
    {
      "cell_type": "code",
      "metadata": {
        "id": "TRtyx0FbP7By",
        "colab_type": "code",
        "colab": {}
      },
      "source": [
        "learn.unfreeze()\n",
        "learn.fit_one_cycle(10, 1e-3, moms=(0.8,0.7))"
      ],
      "execution_count": 0,
      "outputs": []
    },
    {
      "cell_type": "code",
      "metadata": {
        "id": "xGUVm6JJP-5E",
        "colab_type": "code",
        "colab": {}
      },
      "source": [
        "learn.save_encoder('fine_tuned_enc')\n"
      ],
      "execution_count": 0,
      "outputs": []
    },
    {
      "cell_type": "code",
      "metadata": {
        "id": "fA3zme0XRAPW",
        "colab_type": "code",
        "colab": {}
      },
      "source": [
        "#run from here"
      ],
      "execution_count": 0,
      "outputs": []
    },
    {
      "cell_type": "code",
      "metadata": {
        "id": "O4v3ybODMxAS",
        "colab_type": "code",
        "colab": {}
      },
      "source": [
        "learn = text_classifier_learner(data, drop_mult=0.5, arch=AWD_LSTM, metrics=accuracy_thresh)\n",
        "#learn.load_encoder('fine_tuned_enc')\n",
        "learn.freeze()"
      ],
      "execution_count": 0,
      "outputs": []
    },
    {
      "cell_type": "code",
      "metadata": {
        "id": "na_zd36gNy3y",
        "colab_type": "code",
        "colab": {
          "base_uri": "https://localhost:8080/",
          "height": 34
        },
        "outputId": "59df90ae-783a-406c-d8e9-ca7fb6057b89"
      },
      "source": [
        "learn.lr_find()"
      ],
      "execution_count": 71,
      "outputs": [
        {
          "output_type": "display_data",
          "data": {
            "text/html": [
              ""
            ],
            "text/plain": [
              "<IPython.core.display.HTML object>"
            ]
          },
          "metadata": {
            "tags": []
          }
        },
        {
          "output_type": "stream",
          "text": [
            "LR Finder is complete, type {learner_name}.recorder.plot() to see the graph.\n"
          ],
          "name": "stdout"
        }
      ]
    },
    {
      "cell_type": "code",
      "metadata": {
        "id": "BWk5RHqoN0aQ",
        "colab_type": "code",
        "colab": {
          "base_uri": "https://localhost:8080/",
          "height": 80
        },
        "outputId": "0e20d09b-5af0-4957-b490-b68242ba82ba"
      },
      "source": [
        "learn.fit_one_cycle(1, 2e-2, moms=(0.8,0.7))"
      ],
      "execution_count": 89,
      "outputs": [
        {
          "output_type": "display_data",
          "data": {
            "text/html": [
              "<table border=\"1\" class=\"dataframe\">\n",
              "  <thead>\n",
              "    <tr style=\"text-align: left;\">\n",
              "      <th>epoch</th>\n",
              "      <th>train_loss</th>\n",
              "      <th>valid_loss</th>\n",
              "      <th>accuracy_thresh</th>\n",
              "      <th>time</th>\n",
              "    </tr>\n",
              "  </thead>\n",
              "  <tbody>\n",
              "    <tr>\n",
              "      <td>0</td>\n",
              "      <td>0.159221</td>\n",
              "      <td>0.156371</td>\n",
              "      <td>0.954070</td>\n",
              "      <td>07:14</td>\n",
              "    </tr>\n",
              "  </tbody>\n",
              "</table>"
            ],
            "text/plain": [
              "<IPython.core.display.HTML object>"
            ]
          },
          "metadata": {
            "tags": []
          }
        }
      ]
    },
    {
      "cell_type": "code",
      "metadata": {
        "id": "JGlOqg1IPgdv",
        "colab_type": "code",
        "colab": {}
      },
      "source": [
        "learn.save('first')\n",
        "learn.load('first');"
      ],
      "execution_count": 0,
      "outputs": []
    },
    {
      "cell_type": "code",
      "metadata": {
        "id": "9kSTQUfPPjSR",
        "colab_type": "code",
        "colab": {
          "base_uri": "https://localhost:8080/",
          "height": 80
        },
        "outputId": "f502078d-0ad6-4688-b1da-47d08c712ee4"
      },
      "source": [
        "learn.freeze_to(-2)\n",
        "learn.fit_one_cycle(1, slice(1e-2/(2.6**4),1e-2), moms=(0.8,0.7))"
      ],
      "execution_count": 91,
      "outputs": [
        {
          "output_type": "display_data",
          "data": {
            "text/html": [
              "<table border=\"1\" class=\"dataframe\">\n",
              "  <thead>\n",
              "    <tr style=\"text-align: left;\">\n",
              "      <th>epoch</th>\n",
              "      <th>train_loss</th>\n",
              "      <th>valid_loss</th>\n",
              "      <th>accuracy_thresh</th>\n",
              "      <th>time</th>\n",
              "    </tr>\n",
              "  </thead>\n",
              "  <tbody>\n",
              "    <tr>\n",
              "      <td>0</td>\n",
              "      <td>0.131026</td>\n",
              "      <td>0.129571</td>\n",
              "      <td>0.958600</td>\n",
              "      <td>08:55</td>\n",
              "    </tr>\n",
              "  </tbody>\n",
              "</table>"
            ],
            "text/plain": [
              "<IPython.core.display.HTML object>"
            ]
          },
          "metadata": {
            "tags": []
          }
        }
      ]
    },
    {
      "cell_type": "code",
      "metadata": {
        "id": "q6TbKk8tPmuq",
        "colab_type": "code",
        "colab": {}
      },
      "source": [
        "learn.save('second')\n",
        "learn.load('second');"
      ],
      "execution_count": 0,
      "outputs": []
    },
    {
      "cell_type": "code",
      "metadata": {
        "id": "TSEQ8jTXPoXU",
        "colab_type": "code",
        "colab": {
          "base_uri": "https://localhost:8080/",
          "height": 80
        },
        "outputId": "80ebe3a3-0f9e-4fe5-c0c8-ee921c36d860"
      },
      "source": [
        "learn.freeze_to(-3)\n",
        "learn.fit_one_cycle(1, slice(5e-3/(2.6**4),5e-3), moms=(0.8,0.7))"
      ],
      "execution_count": 93,
      "outputs": [
        {
          "output_type": "display_data",
          "data": {
            "text/html": [
              "<table border=\"1\" class=\"dataframe\">\n",
              "  <thead>\n",
              "    <tr style=\"text-align: left;\">\n",
              "      <th>epoch</th>\n",
              "      <th>train_loss</th>\n",
              "      <th>valid_loss</th>\n",
              "      <th>accuracy_thresh</th>\n",
              "      <th>time</th>\n",
              "    </tr>\n",
              "  </thead>\n",
              "  <tbody>\n",
              "    <tr>\n",
              "      <td>0</td>\n",
              "      <td>0.087120</td>\n",
              "      <td>0.084733</td>\n",
              "      <td>0.971948</td>\n",
              "      <td>10:33</td>\n",
              "    </tr>\n",
              "  </tbody>\n",
              "</table>"
            ],
            "text/plain": [
              "<IPython.core.display.HTML object>"
            ]
          },
          "metadata": {
            "tags": []
          }
        }
      ]
    },
    {
      "cell_type": "code",
      "metadata": {
        "id": "W47He4PAPp84",
        "colab_type": "code",
        "colab": {}
      },
      "source": [
        "learn.save('third')\n",
        "learn.load('third');"
      ],
      "execution_count": 0,
      "outputs": []
    },
    {
      "cell_type": "code",
      "metadata": {
        "id": "2csQPs5PPsCN",
        "colab_type": "code",
        "colab": {
          "base_uri": "https://localhost:8080/",
          "height": 95
        },
        "outputId": "3fc0d4a2-ca40-45ee-f0b8-3bd4ef910f18"
      },
      "source": [
        "learn.unfreeze()\n",
        "learn.fit_one_cycle(2, slice(1e-3/(2.6**4),1e-3), moms=(0.8,0.7))"
      ],
      "execution_count": 0,
      "outputs": [
        {
          "output_type": "display_data",
          "data": {
            "text/html": [
              "\n",
              "    <div>\n",
              "        <style>\n",
              "            /* Turns off some styling */\n",
              "            progress {\n",
              "                /* gets rid of default border in Firefox and Opera. */\n",
              "                border: none;\n",
              "                /* Needs to be in here for Safari polyfill so background images work as expected. */\n",
              "                background-size: auto;\n",
              "            }\n",
              "            .progress-bar-interrupted, .progress-bar-interrupted::-webkit-progress-bar {\n",
              "                background: #F44336;\n",
              "            }\n",
              "        </style>\n",
              "      <progress value='0' class='' max='2', style='width:300px; height:20px; vertical-align: middle;'></progress>\n",
              "      0.00% [0/2 00:00<00:00]\n",
              "    </div>\n",
              "    \n",
              "<table border=\"1\" class=\"dataframe\">\n",
              "  <thead>\n",
              "    <tr style=\"text-align: left;\">\n",
              "      <th>epoch</th>\n",
              "      <th>train_loss</th>\n",
              "      <th>valid_loss</th>\n",
              "      <th>accuracy_thresh</th>\n",
              "      <th>time</th>\n",
              "    </tr>\n",
              "  </thead>\n",
              "  <tbody>\n",
              "  </tbody>\n",
              "</table><p>\n",
              "\n",
              "    <div>\n",
              "        <style>\n",
              "            /* Turns off some styling */\n",
              "            progress {\n",
              "                /* gets rid of default border in Firefox and Opera. */\n",
              "                border: none;\n",
              "                /* Needs to be in here for Safari polyfill so background images work as expected. */\n",
              "                background-size: auto;\n",
              "            }\n",
              "            .progress-bar-interrupted, .progress-bar-interrupted::-webkit-progress-bar {\n",
              "                background: #F44336;\n",
              "            }\n",
              "        </style>\n",
              "      <progress value='227' class='' max='1994', style='width:300px; height:20px; vertical-align: middle;'></progress>\n",
              "      11.38% [227/1994 01:54<14:51 0.0890]\n",
              "    </div>\n",
              "    "
            ],
            "text/plain": [
              "<IPython.core.display.HTML object>"
            ]
          },
          "metadata": {
            "tags": []
          }
        }
      ]
    },
    {
      "cell_type": "code",
      "metadata": {
        "id": "g6ISegT1yQ2L",
        "colab_type": "code",
        "colab": {}
      },
      "source": [
        "learn.save('fourth')"
      ],
      "execution_count": 0,
      "outputs": []
    },
    {
      "cell_type": "code",
      "metadata": {
        "id": "zAgMNLfbyQ6r",
        "colab_type": "code",
        "colab": {}
      },
      "source": [
        "preds = []\n",
        "sLength = len(df_test['id'])\n",
        "\n",
        "test_size = sLength\n",
        "for i in range(0,test_size):\n",
        "    p = learn.predict(data.test_ds.x[i])\n",
        "    preds.append(p)"
      ],
      "execution_count": 0,
      "outputs": []
    },
    {
      "cell_type": "code",
      "metadata": {
        "id": "fxBPm87ByQ9i",
        "colab_type": "code",
        "colab": {}
      },
      "source": [
        "preds=np.asarray(preds)\n",
        "preds.shape"
      ],
      "execution_count": 0,
      "outputs": []
    },
    {
      "cell_type": "code",
      "metadata": {
        "id": "YPeQeHjSyQ40",
        "colab_type": "code",
        "colab": {}
      },
      "source": [
        "float(preds[1][2][0])"
      ],
      "execution_count": 0,
      "outputs": []
    },
    {
      "cell_type": "code",
      "metadata": {
        "id": "AJf0edna0Dmp",
        "colab_type": "code",
        "colab": {}
      },
      "source": [
        "class_rank = [\"toxic\", \"severe_toxic\", \"obscene\", \"threat\", \"insult\", \"identity_hate\"]\n",
        "class_in_pred = []\n",
        "df_test['toxic'] = Series(np.random.randn(sLength), index=df_test.index)\n",
        "df_test['severe_toxic'] = Series(np.random.randn(sLength), index=df_test.index)\n",
        "df_test['obscene'] = Series(np.random.randn(sLength), index=df_test.index)\n",
        "df_test['threat'] = Series(np.random.randn(sLength), index=df_test.index)\n",
        "df_test['insult'] = Series(np.random.randn(sLength), index=df_test.index)\n",
        "df_test['identity_hate'] = Series(np.random.randn(sLength), index=df_test.index)"
      ],
      "execution_count": 0,
      "outputs": []
    },
    {
      "cell_type": "code",
      "metadata": {
        "id": "O72A_4fpzE3_",
        "colab_type": "code",
        "colab": {}
      },
      "source": [
        "ids = []\n",
        "final_preds = []\n",
        "ct = 0\n",
        "for index,row in df_test.iterrows():\n",
        "  ids.append(index[\"id\"])\n",
        "  temp = []\n",
        "  float_arr = []\n",
        "  \n",
        "  \n",
        "  for class_curr in class_rank:\n",
        "    for i in range(0,7):\n",
        "      if preds[ct][1][i] == \"class_curr\":\n",
        "        df_test[class_curr] = float(preds[ct][1][i])\n",
        "  \n",
        "  \n",
        "  \n",
        "  \n",
        "df_test.to_csv(\"submission.csv\",index=False)"
      ],
      "execution_count": 0,
      "outputs": []
    }
  ]
}