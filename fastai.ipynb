{
  "nbformat": 4,
  "nbformat_minor": 0,
  "metadata": {
    "colab": {
      "name": "fastai.ipynb",
      "version": "0.3.2",
      "provenance": [],
      "include_colab_link": true
    },
    "kernelspec": {
      "name": "python3",
      "display_name": "Python 3"
    },
    "accelerator": "GPU"
  },
  "cells": [
    {
      "cell_type": "markdown",
      "metadata": {
        "id": "view-in-github",
        "colab_type": "text"
      },
      "source": [
        "<a href=\"https://colab.research.google.com/github/shikhar00778/toxic-comment-classification/blob/master/fastai.ipynb\" target=\"_parent\"><img src=\"https://colab.research.google.com/assets/colab-badge.svg\" alt=\"Open In Colab\"/></a>"
      ]
    },
    {
      "cell_type": "code",
      "metadata": {
        "id": "z3qUGVVyFAQO",
        "colab_type": "code",
        "colab": {
          "base_uri": "https://localhost:8080/",
          "height": 34
        },
        "outputId": "76942723-b638-427e-8ca3-624c61ca38b8"
      },
      "source": [
        "!kaggle competitions download -c jigsaw-toxic-comment-classification-challenge  "
      ],
      "execution_count": 20,
      "outputs": [
        {
          "output_type": "stream",
          "text": [
            "401 - Unauthorized\n"
          ],
          "name": "stdout"
        }
      ]
    },
    {
      "cell_type": "code",
      "metadata": {
        "id": "So2Rz250FUkQ",
        "colab_type": "code",
        "colab": {
          "base_uri": "https://localhost:8080/",
          "height": 122
        },
        "outputId": "f82ed3c8-fcc1-4a86-db7f-77a21772344c"
      },
      "source": [
        "from google.colab import drive\n",
        "drive.mount('/content/drive')"
      ],
      "execution_count": 4,
      "outputs": [
        {
          "output_type": "stream",
          "text": [
            "Go to this URL in a browser: https://accounts.google.com/o/oauth2/auth?client_id=947318989803-6bn6qk8qdgf4n4g3pfee6491hc0brc4i.apps.googleusercontent.com&redirect_uri=urn%3Aietf%3Awg%3Aoauth%3A2.0%3Aoob&scope=email%20https%3A%2F%2Fwww.googleapis.com%2Fauth%2Fdocs.test%20https%3A%2F%2Fwww.googleapis.com%2Fauth%2Fdrive%20https%3A%2F%2Fwww.googleapis.com%2Fauth%2Fdrive.photos.readonly%20https%3A%2F%2Fwww.googleapis.com%2Fauth%2Fpeopleapi.readonly&response_type=code\n",
            "\n",
            "Enter your authorization code:\n",
            "··········\n",
            "Mounted at /content/drive\n"
          ],
          "name": "stdout"
        }
      ]
    },
    {
      "cell_type": "code",
      "metadata": {
        "id": "E1bSfs73FwG9",
        "colab_type": "code",
        "colab": {}
      },
      "source": [
        "!cp drive/'My Drive'/jigsaw-toxic-comment-classification-challenge.zip ."
      ],
      "execution_count": 0,
      "outputs": []
    },
    {
      "cell_type": "code",
      "metadata": {
        "id": "xOsXhD8eF2pY",
        "colab_type": "code",
        "colab": {
          "base_uri": "https://localhost:8080/",
          "height": 102
        },
        "outputId": "ec8fd022-a1e8-4dc4-f995-1d66671ac5e5"
      },
      "source": [
        "!unzip jigsaw-toxic-comment-classification-challenge.zip"
      ],
      "execution_count": 22,
      "outputs": [
        {
          "output_type": "stream",
          "text": [
            "Archive:  jigsaw-toxic-comment-classification-challenge.zip\n",
            "  inflating: test_labels.csv         \n",
            "  inflating: sample_submission.csv   \n",
            "  inflating: test.csv                \n",
            "  inflating: train.csv               \n"
          ],
          "name": "stdout"
        }
      ]
    },
    {
      "cell_type": "code",
      "metadata": {
        "id": "BPWI7RPDGNDK",
        "colab_type": "code",
        "colab": {
          "base_uri": "https://localhost:8080/",
          "height": 85
        },
        "outputId": "17707033-94ed-410d-a24c-cd2bb7c7b289"
      },
      "source": [
        ""
      ],
      "execution_count": 24,
      "outputs": [
        {
          "output_type": "stream",
          "text": [
            "download-all\t\t\t\t\t   sample_submission.csv\n",
            "drive\t\t\t\t\t\t   test.csv\n",
            "jigsaw-toxic-comment-classification-challenge.zip  test_labels.csv\n",
            "sample_data\t\t\t\t\t   train.csv\n"
          ],
          "name": "stdout"
        }
      ]
    },
    {
      "cell_type": "code",
      "metadata": {
        "id": "s56Zxp-5HFgW",
        "colab_type": "code",
        "colab": {}
      },
      "source": [
        "import pandas as pd\n",
        "import numpy as np"
      ],
      "execution_count": 0,
      "outputs": []
    },
    {
      "cell_type": "code",
      "metadata": {
        "id": "o4F2jChdHMjl",
        "colab_type": "code",
        "colab": {}
      },
      "source": [
        "df = pd.read_csv(\"train.csv\")"
      ],
      "execution_count": 0,
      "outputs": []
    },
    {
      "cell_type": "code",
      "metadata": {
        "id": "j4KKnW2JHQFx",
        "colab_type": "code",
        "colab": {}
      },
      "source": [
        "arr = df.columns"
      ],
      "execution_count": 0,
      "outputs": []
    },
    {
      "cell_type": "code",
      "metadata": {
        "id": "zx_5650WHVG9",
        "colab_type": "code",
        "colab": {
          "base_uri": "https://localhost:8080/",
          "height": 34
        },
        "outputId": "e5cce97a-197d-4036-b5b2-2615d8ca150d"
      },
      "source": [
        "classes = arr[2:]\n",
        "classes = np.asarray(classes)\n",
        "classes = classes.tolist()\n",
        "classes"
      ],
      "execution_count": 32,
      "outputs": [
        {
          "output_type": "execute_result",
          "data": {
            "text/plain": [
              "['toxic', 'severe_toxic', 'obscene', 'threat', 'insult', 'identity_hate']"
            ]
          },
          "metadata": {
            "tags": []
          },
          "execution_count": 32
        }
      ]
    },
    {
      "cell_type": "code",
      "metadata": {
        "id": "ads0zcTjHZGX",
        "colab_type": "code",
        "colab": {}
      },
      "source": [
        "data=[]\n",
        "lab=[]\n",
        "for row,index in df.iterrows():\n",
        "  temp=[]\n",
        "  for class_name in classes:\n",
        "    if index[class_name]==1:\n",
        "      temp.append(class_name)\n",
        "    if len(temp)==0: \n",
        "      temp.append(\"no_class\")\n",
        "  temp = ' '.join(temp)\n",
        "  lab.append(temp)\n",
        "  data.append(index[\"comment_text\"])\n",
        "X = pd.DataFrame({\"text\":data,\"labels\":lab})"
      ],
      "execution_count": 0,
      "outputs": []
    },
    {
      "cell_type": "code",
      "metadata": {
        "id": "YWEOb8HWITcE",
        "colab_type": "code",
        "colab": {
          "base_uri": "https://localhost:8080/",
          "height": 1969
        },
        "outputId": "b3f251e0-1b57-49bd-b876-2154e48d8fcf"
      },
      "source": [
        "X"
      ],
      "execution_count": 40,
      "outputs": [
        {
          "output_type": "execute_result",
          "data": {
            "text/html": [
              "<div>\n",
              "<style scoped>\n",
              "    .dataframe tbody tr th:only-of-type {\n",
              "        vertical-align: middle;\n",
              "    }\n",
              "\n",
              "    .dataframe tbody tr th {\n",
              "        vertical-align: top;\n",
              "    }\n",
              "\n",
              "    .dataframe thead th {\n",
              "        text-align: right;\n",
              "    }\n",
              "</style>\n",
              "<table border=\"1\" class=\"dataframe\">\n",
              "  <thead>\n",
              "    <tr style=\"text-align: right;\">\n",
              "      <th></th>\n",
              "      <th>text</th>\n",
              "      <th>labels</th>\n",
              "    </tr>\n",
              "  </thead>\n",
              "  <tbody>\n",
              "    <tr>\n",
              "      <th>0</th>\n",
              "      <td>Explanation\\nWhy the edits made under my usern...</td>\n",
              "      <td>no_class</td>\n",
              "    </tr>\n",
              "    <tr>\n",
              "      <th>1</th>\n",
              "      <td>D'aww! He matches this background colour I'm s...</td>\n",
              "      <td>no_class</td>\n",
              "    </tr>\n",
              "    <tr>\n",
              "      <th>2</th>\n",
              "      <td>Hey man, I'm really not trying to edit war. It...</td>\n",
              "      <td>no_class</td>\n",
              "    </tr>\n",
              "    <tr>\n",
              "      <th>3</th>\n",
              "      <td>\"\\nMore\\nI can't make any real suggestions on ...</td>\n",
              "      <td>no_class</td>\n",
              "    </tr>\n",
              "    <tr>\n",
              "      <th>4</th>\n",
              "      <td>You, sir, are my hero. Any chance you remember...</td>\n",
              "      <td>no_class</td>\n",
              "    </tr>\n",
              "    <tr>\n",
              "      <th>5</th>\n",
              "      <td>\"\\n\\nCongratulations from me as well, use the ...</td>\n",
              "      <td>no_class</td>\n",
              "    </tr>\n",
              "    <tr>\n",
              "      <th>6</th>\n",
              "      <td>COCKSUCKER BEFORE YOU PISS AROUND ON MY WORK</td>\n",
              "      <td>toxic severe_toxic obscene insult</td>\n",
              "    </tr>\n",
              "    <tr>\n",
              "      <th>7</th>\n",
              "      <td>Your vandalism to the Matt Shirvington article...</td>\n",
              "      <td>no_class</td>\n",
              "    </tr>\n",
              "    <tr>\n",
              "      <th>8</th>\n",
              "      <td>Sorry if the word 'nonsense' was offensive to ...</td>\n",
              "      <td>no_class</td>\n",
              "    </tr>\n",
              "    <tr>\n",
              "      <th>9</th>\n",
              "      <td>alignment on this subject and which are contra...</td>\n",
              "      <td>no_class</td>\n",
              "    </tr>\n",
              "    <tr>\n",
              "      <th>10</th>\n",
              "      <td>\"\\nFair use rationale for Image:Wonju.jpg\\n\\nT...</td>\n",
              "      <td>no_class</td>\n",
              "    </tr>\n",
              "    <tr>\n",
              "      <th>11</th>\n",
              "      <td>bbq \\n\\nbe a man and lets discuss it-maybe ove...</td>\n",
              "      <td>no_class</td>\n",
              "    </tr>\n",
              "    <tr>\n",
              "      <th>12</th>\n",
              "      <td>Hey... what is it..\\n@ | talk .\\nWhat is it......</td>\n",
              "      <td>toxic</td>\n",
              "    </tr>\n",
              "    <tr>\n",
              "      <th>13</th>\n",
              "      <td>Before you start throwing accusations and warn...</td>\n",
              "      <td>no_class</td>\n",
              "    </tr>\n",
              "    <tr>\n",
              "      <th>14</th>\n",
              "      <td>Oh, and the girl above started her arguments w...</td>\n",
              "      <td>no_class</td>\n",
              "    </tr>\n",
              "    <tr>\n",
              "      <th>15</th>\n",
              "      <td>\"\\n\\nJuelz Santanas Age\\n\\nIn 2002, Juelz Sant...</td>\n",
              "      <td>no_class</td>\n",
              "    </tr>\n",
              "    <tr>\n",
              "      <th>16</th>\n",
              "      <td>Bye! \\n\\nDon't look, come or think of comming ...</td>\n",
              "      <td>toxic</td>\n",
              "    </tr>\n",
              "    <tr>\n",
              "      <th>17</th>\n",
              "      <td>REDIRECT Talk:Voydan Pop Georgiev- Chernodrinski</td>\n",
              "      <td>no_class</td>\n",
              "    </tr>\n",
              "    <tr>\n",
              "      <th>18</th>\n",
              "      <td>The Mitsurugi point made no sense - why not ar...</td>\n",
              "      <td>no_class</td>\n",
              "    </tr>\n",
              "    <tr>\n",
              "      <th>19</th>\n",
              "      <td>Don't mean to bother you \\n\\nI see that you're...</td>\n",
              "      <td>no_class</td>\n",
              "    </tr>\n",
              "    <tr>\n",
              "      <th>20</th>\n",
              "      <td>\"\\n\\n Regarding your recent edits \\n\\nOnce aga...</td>\n",
              "      <td>no_class</td>\n",
              "    </tr>\n",
              "    <tr>\n",
              "      <th>21</th>\n",
              "      <td>\"\\nGood to know. About me, yeah, I'm studying ...</td>\n",
              "      <td>no_class</td>\n",
              "    </tr>\n",
              "    <tr>\n",
              "      <th>22</th>\n",
              "      <td>\"\\n\\n Snowflakes are NOT always symmetrical! \\...</td>\n",
              "      <td>no_class</td>\n",
              "    </tr>\n",
              "    <tr>\n",
              "      <th>23</th>\n",
              "      <td>\"\\n\\n The Signpost: 24 September 2012 \\n\\n Rea...</td>\n",
              "      <td>no_class</td>\n",
              "    </tr>\n",
              "    <tr>\n",
              "      <th>24</th>\n",
              "      <td>\"\\n\\nRe-considering 1st paragraph edit?\\nI don...</td>\n",
              "      <td>no_class</td>\n",
              "    </tr>\n",
              "    <tr>\n",
              "      <th>25</th>\n",
              "      <td>Radial symmetry \\n\\nSeveral now extinct lineag...</td>\n",
              "      <td>no_class</td>\n",
              "    </tr>\n",
              "    <tr>\n",
              "      <th>26</th>\n",
              "      <td>There's no need to apologize. A Wikipedia arti...</td>\n",
              "      <td>no_class</td>\n",
              "    </tr>\n",
              "    <tr>\n",
              "      <th>27</th>\n",
              "      <td>Yes, because the mother of the child in the ca...</td>\n",
              "      <td>no_class</td>\n",
              "    </tr>\n",
              "    <tr>\n",
              "      <th>28</th>\n",
              "      <td>\"\\nOk. But it will take a bit of work but I ca...</td>\n",
              "      <td>no_class</td>\n",
              "    </tr>\n",
              "    <tr>\n",
              "      <th>29</th>\n",
              "      <td>\"== A barnstar for you! ==\\n\\n  The Real Life ...</td>\n",
              "      <td>no_class</td>\n",
              "    </tr>\n",
              "    <tr>\n",
              "      <th>...</th>\n",
              "      <td>...</td>\n",
              "      <td>...</td>\n",
              "    </tr>\n",
              "    <tr>\n",
              "      <th>159541</th>\n",
              "      <td>Your absurd edits \\n\\nYour absurd edits on gre...</td>\n",
              "      <td>toxic obscene insult</td>\n",
              "    </tr>\n",
              "    <tr>\n",
              "      <th>159542</th>\n",
              "      <td>maybe he's got better things to do than spend ...</td>\n",
              "      <td>no_class</td>\n",
              "    </tr>\n",
              "    <tr>\n",
              "      <th>159543</th>\n",
              "      <td>scrap that, it does meet criteria and its gone...</td>\n",
              "      <td>no_class</td>\n",
              "    </tr>\n",
              "    <tr>\n",
              "      <th>159544</th>\n",
              "      <td>You could do worse.</td>\n",
              "      <td>no_class</td>\n",
              "    </tr>\n",
              "    <tr>\n",
              "      <th>159545</th>\n",
              "      <td>, 7 March 2011 (UTC)\\nAre you also User:Bmatts...</td>\n",
              "      <td>no_class</td>\n",
              "    </tr>\n",
              "    <tr>\n",
              "      <th>159546</th>\n",
              "      <td>\"\\n\\nHey listen don't you ever!!!! Delete my e...</td>\n",
              "      <td>toxic insult</td>\n",
              "    </tr>\n",
              "    <tr>\n",
              "      <th>159547</th>\n",
              "      <td>Thank you very, very much.  ·✆</td>\n",
              "      <td>no_class</td>\n",
              "    </tr>\n",
              "    <tr>\n",
              "      <th>159548</th>\n",
              "      <td>Talkback: 15 September 2012</td>\n",
              "      <td>no_class</td>\n",
              "    </tr>\n",
              "    <tr>\n",
              "      <th>159549</th>\n",
              "      <td>2005 (UTC)\\n 06:35, 31 Mar</td>\n",
              "      <td>no_class</td>\n",
              "    </tr>\n",
              "    <tr>\n",
              "      <th>159550</th>\n",
              "      <td>i agree/ on another note lil wayne is a talent...</td>\n",
              "      <td>no_class</td>\n",
              "    </tr>\n",
              "    <tr>\n",
              "      <th>159551</th>\n",
              "      <td>While about half the references are from BYU-I...</td>\n",
              "      <td>no_class</td>\n",
              "    </tr>\n",
              "    <tr>\n",
              "      <th>159552</th>\n",
              "      <td>Prague Spring \\n\\nI think that Prague Spring d...</td>\n",
              "      <td>no_class</td>\n",
              "    </tr>\n",
              "    <tr>\n",
              "      <th>159553</th>\n",
              "      <td>I see this as having been merged; undoing one ...</td>\n",
              "      <td>no_class</td>\n",
              "    </tr>\n",
              "    <tr>\n",
              "      <th>159554</th>\n",
              "      <td>and i'm going to keep posting the stuff u dele...</td>\n",
              "      <td>toxic obscene insult</td>\n",
              "    </tr>\n",
              "    <tr>\n",
              "      <th>159555</th>\n",
              "      <td>\"\\n\\nHow come when you download that MP3 it's ...</td>\n",
              "      <td>no_class</td>\n",
              "    </tr>\n",
              "    <tr>\n",
              "      <th>159556</th>\n",
              "      <td>I'll be on IRC, too, if you have a more specif...</td>\n",
              "      <td>no_class</td>\n",
              "    </tr>\n",
              "    <tr>\n",
              "      <th>159557</th>\n",
              "      <td>It is my opinion that that happens to be off-t...</td>\n",
              "      <td>no_class</td>\n",
              "    </tr>\n",
              "    <tr>\n",
              "      <th>159558</th>\n",
              "      <td>Please stop removing content from Wikipedia; i...</td>\n",
              "      <td>no_class</td>\n",
              "    </tr>\n",
              "    <tr>\n",
              "      <th>159559</th>\n",
              "      <td>Image:Barack-obama-mother.jpg listed for delet...</td>\n",
              "      <td>no_class</td>\n",
              "    </tr>\n",
              "    <tr>\n",
              "      <th>159560</th>\n",
              "      <td>\"Editing of article without Consensus &amp; Remova...</td>\n",
              "      <td>no_class</td>\n",
              "    </tr>\n",
              "    <tr>\n",
              "      <th>159561</th>\n",
              "      <td>\"\\nNo he did not, read it again (I would have ...</td>\n",
              "      <td>no_class</td>\n",
              "    </tr>\n",
              "    <tr>\n",
              "      <th>159562</th>\n",
              "      <td>\"\\n Auto guides and the motoring press are not...</td>\n",
              "      <td>no_class</td>\n",
              "    </tr>\n",
              "    <tr>\n",
              "      <th>159563</th>\n",
              "      <td>\"\\nplease identify what part of BLP applies be...</td>\n",
              "      <td>no_class</td>\n",
              "    </tr>\n",
              "    <tr>\n",
              "      <th>159564</th>\n",
              "      <td>Catalan independentism is the social movement ...</td>\n",
              "      <td>no_class</td>\n",
              "    </tr>\n",
              "    <tr>\n",
              "      <th>159565</th>\n",
              "      <td>The numbers in parentheses are the additional ...</td>\n",
              "      <td>no_class</td>\n",
              "    </tr>\n",
              "    <tr>\n",
              "      <th>159566</th>\n",
              "      <td>\":::::And for the second time of asking, when ...</td>\n",
              "      <td>no_class</td>\n",
              "    </tr>\n",
              "    <tr>\n",
              "      <th>159567</th>\n",
              "      <td>You should be ashamed of yourself \\n\\nThat is ...</td>\n",
              "      <td>no_class</td>\n",
              "    </tr>\n",
              "    <tr>\n",
              "      <th>159568</th>\n",
              "      <td>Spitzer \\n\\nUmm, theres no actual article for ...</td>\n",
              "      <td>no_class</td>\n",
              "    </tr>\n",
              "    <tr>\n",
              "      <th>159569</th>\n",
              "      <td>And it looks like it was actually you who put ...</td>\n",
              "      <td>no_class</td>\n",
              "    </tr>\n",
              "    <tr>\n",
              "      <th>159570</th>\n",
              "      <td>\"\\nAnd ... I really don't think you understand...</td>\n",
              "      <td>no_class</td>\n",
              "    </tr>\n",
              "  </tbody>\n",
              "</table>\n",
              "<p>159571 rows × 2 columns</p>\n",
              "</div>"
            ],
            "text/plain": [
              "                                                     text                             labels\n",
              "0       Explanation\\nWhy the edits made under my usern...                           no_class\n",
              "1       D'aww! He matches this background colour I'm s...                           no_class\n",
              "2       Hey man, I'm really not trying to edit war. It...                           no_class\n",
              "3       \"\\nMore\\nI can't make any real suggestions on ...                           no_class\n",
              "4       You, sir, are my hero. Any chance you remember...                           no_class\n",
              "5       \"\\n\\nCongratulations from me as well, use the ...                           no_class\n",
              "6            COCKSUCKER BEFORE YOU PISS AROUND ON MY WORK  toxic severe_toxic obscene insult\n",
              "7       Your vandalism to the Matt Shirvington article...                           no_class\n",
              "8       Sorry if the word 'nonsense' was offensive to ...                           no_class\n",
              "9       alignment on this subject and which are contra...                           no_class\n",
              "10      \"\\nFair use rationale for Image:Wonju.jpg\\n\\nT...                           no_class\n",
              "11      bbq \\n\\nbe a man and lets discuss it-maybe ove...                           no_class\n",
              "12      Hey... what is it..\\n@ | talk .\\nWhat is it......                              toxic\n",
              "13      Before you start throwing accusations and warn...                           no_class\n",
              "14      Oh, and the girl above started her arguments w...                           no_class\n",
              "15      \"\\n\\nJuelz Santanas Age\\n\\nIn 2002, Juelz Sant...                           no_class\n",
              "16      Bye! \\n\\nDon't look, come or think of comming ...                              toxic\n",
              "17       REDIRECT Talk:Voydan Pop Georgiev- Chernodrinski                           no_class\n",
              "18      The Mitsurugi point made no sense - why not ar...                           no_class\n",
              "19      Don't mean to bother you \\n\\nI see that you're...                           no_class\n",
              "20      \"\\n\\n Regarding your recent edits \\n\\nOnce aga...                           no_class\n",
              "21      \"\\nGood to know. About me, yeah, I'm studying ...                           no_class\n",
              "22      \"\\n\\n Snowflakes are NOT always symmetrical! \\...                           no_class\n",
              "23      \"\\n\\n The Signpost: 24 September 2012 \\n\\n Rea...                           no_class\n",
              "24      \"\\n\\nRe-considering 1st paragraph edit?\\nI don...                           no_class\n",
              "25      Radial symmetry \\n\\nSeveral now extinct lineag...                           no_class\n",
              "26      There's no need to apologize. A Wikipedia arti...                           no_class\n",
              "27      Yes, because the mother of the child in the ca...                           no_class\n",
              "28      \"\\nOk. But it will take a bit of work but I ca...                           no_class\n",
              "29      \"== A barnstar for you! ==\\n\\n  The Real Life ...                           no_class\n",
              "...                                                   ...                                ...\n",
              "159541  Your absurd edits \\n\\nYour absurd edits on gre...               toxic obscene insult\n",
              "159542  maybe he's got better things to do than spend ...                           no_class\n",
              "159543  scrap that, it does meet criteria and its gone...                           no_class\n",
              "159544                                You could do worse.                           no_class\n",
              "159545  , 7 March 2011 (UTC)\\nAre you also User:Bmatts...                           no_class\n",
              "159546  \"\\n\\nHey listen don't you ever!!!! Delete my e...                       toxic insult\n",
              "159547                     Thank you very, very much.  ·✆                           no_class\n",
              "159548                        Talkback: 15 September 2012                           no_class\n",
              "159549                         2005 (UTC)\\n 06:35, 31 Mar                           no_class\n",
              "159550  i agree/ on another note lil wayne is a talent...                           no_class\n",
              "159551  While about half the references are from BYU-I...                           no_class\n",
              "159552  Prague Spring \\n\\nI think that Prague Spring d...                           no_class\n",
              "159553  I see this as having been merged; undoing one ...                           no_class\n",
              "159554  and i'm going to keep posting the stuff u dele...               toxic obscene insult\n",
              "159555  \"\\n\\nHow come when you download that MP3 it's ...                           no_class\n",
              "159556  I'll be on IRC, too, if you have a more specif...                           no_class\n",
              "159557  It is my opinion that that happens to be off-t...                           no_class\n",
              "159558  Please stop removing content from Wikipedia; i...                           no_class\n",
              "159559  Image:Barack-obama-mother.jpg listed for delet...                           no_class\n",
              "159560  \"Editing of article without Consensus & Remova...                           no_class\n",
              "159561  \"\\nNo he did not, read it again (I would have ...                           no_class\n",
              "159562  \"\\n Auto guides and the motoring press are not...                           no_class\n",
              "159563  \"\\nplease identify what part of BLP applies be...                           no_class\n",
              "159564  Catalan independentism is the social movement ...                           no_class\n",
              "159565  The numbers in parentheses are the additional ...                           no_class\n",
              "159566  \":::::And for the second time of asking, when ...                           no_class\n",
              "159567  You should be ashamed of yourself \\n\\nThat is ...                           no_class\n",
              "159568  Spitzer \\n\\nUmm, theres no actual article for ...                           no_class\n",
              "159569  And it looks like it was actually you who put ...                           no_class\n",
              "159570  \"\\nAnd ... I really don't think you understand...                           no_class\n",
              "\n",
              "[159571 rows x 2 columns]"
            ]
          },
          "metadata": {
            "tags": []
          },
          "execution_count": 40
        }
      ]
    },
    {
      "cell_type": "code",
      "metadata": {
        "id": "aLqxIsxxK9vZ",
        "colab_type": "code",
        "colab": {}
      },
      "source": [
        "X.to_csv(\"train.csv\",index=False)"
      ],
      "execution_count": 0,
      "outputs": []
    },
    {
      "cell_type": "code",
      "metadata": {
        "id": "xE8vjC-jLnaj",
        "colab_type": "code",
        "colab": {}
      },
      "source": [
        "from fastai.text import *\n",
        "path = '.'"
      ],
      "execution_count": 0,
      "outputs": []
    },
    {
      "cell_type": "code",
      "metadata": {
        "id": "blwc8-CvLb7c",
        "colab_type": "code",
        "colab": {
          "base_uri": "https://localhost:8080/",
          "height": 37
        },
        "outputId": "aa1d32d8-98d5-4801-9081-1ac0d9597037"
      },
      "source": [
        "data_lm = TextDataBunch.from_csv(path, 'train.csv', text_col=0,label_cols=1,delim=\" \")"
      ],
      "execution_count": 0,
      "outputs": [
        {
          "output_type": "display_data",
          "data": {
            "text/html": [
              "\n",
              "    <div>\n",
              "        <style>\n",
              "            /* Turns off some styling */\n",
              "            progress {\n",
              "                /* gets rid of default border in Firefox and Opera. */\n",
              "                border: none;\n",
              "                /* Needs to be in here for Safari polyfill so background images work as expected. */\n",
              "                background-size: auto;\n",
              "            }\n",
              "            .progress-bar-interrupted, .progress-bar-interrupted::-webkit-progress-bar {\n",
              "                background: #F44336;\n",
              "            }\n",
              "        </style>\n",
              "      <progress value='4' class='' max='4', style='width:300px; height:20px; vertical-align: middle;'></progress>\n",
              "      100.00% [4/4 00:02<00:00]\n",
              "    </div>\n",
              "    "
            ],
            "text/plain": [
              "<IPython.core.display.HTML object>"
            ]
          },
          "metadata": {
            "tags": []
          }
        }
      ]
    },
    {
      "cell_type": "code",
      "metadata": {
        "id": "ODvcOd-ULyVz",
        "colab_type": "code",
        "colab": {}
      },
      "source": [
        ""
      ],
      "execution_count": 0,
      "outputs": []
    }
  ]
}