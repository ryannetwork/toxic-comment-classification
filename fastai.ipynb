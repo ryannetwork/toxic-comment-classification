{
  "nbformat": 4,
  "nbformat_minor": 0,
  "metadata": {
    "colab": {
      "name": "fastai.ipynb",
      "version": "0.3.2",
      "provenance": [],
      "include_colab_link": true
    },
    "kernelspec": {
      "name": "python3",
      "display_name": "Python 3"
    },
    "accelerator": "GPU"
  },
  "cells": [
    {
      "cell_type": "markdown",
      "metadata": {
        "id": "view-in-github",
        "colab_type": "text"
      },
      "source": [
        "<a href=\"https://colab.research.google.com/github/shikhar00778/toxic-comment-classification/blob/master/fastai.ipynb\" target=\"_parent\"><img src=\"https://colab.research.google.com/assets/colab-badge.svg\" alt=\"Open In Colab\"/></a>"
      ]
    },
    {
      "cell_type": "code",
      "metadata": {
        "id": "So2Rz250FUkQ",
        "colab_type": "code",
        "colab": {
          "base_uri": "https://localhost:8080/",
          "height": 122
        },
        "outputId": "f82ed3c8-fcc1-4a86-db7f-77a21772344c"
      },
      "source": [
        "from google.colab import drive\n",
        "drive.mount('/content/drive')"
      ],
      "execution_count": 4,
      "outputs": [
        {
          "output_type": "stream",
          "text": [
            "Go to this URL in a browser: https://accounts.google.com/o/oauth2/auth?client_id=947318989803-6bn6qk8qdgf4n4g3pfee6491hc0brc4i.apps.googleusercontent.com&redirect_uri=urn%3Aietf%3Awg%3Aoauth%3A2.0%3Aoob&scope=email%20https%3A%2F%2Fwww.googleapis.com%2Fauth%2Fdocs.test%20https%3A%2F%2Fwww.googleapis.com%2Fauth%2Fdrive%20https%3A%2F%2Fwww.googleapis.com%2Fauth%2Fdrive.photos.readonly%20https%3A%2F%2Fwww.googleapis.com%2Fauth%2Fpeopleapi.readonly&response_type=code\n",
            "\n",
            "Enter your authorization code:\n",
            "··········\n",
            "Mounted at /content/drive\n"
          ],
          "name": "stdout"
        }
      ]
    },
    {
      "cell_type": "code",
      "metadata": {
        "id": "E1bSfs73FwG9",
        "colab_type": "code",
        "colab": {}
      },
      "source": [
        "!cp drive/'My Drive'/jigsaw-toxic-comment-classification-challenge.zip ."
      ],
      "execution_count": 0,
      "outputs": []
    },
    {
      "cell_type": "code",
      "metadata": {
        "id": "xOsXhD8eF2pY",
        "colab_type": "code",
        "colab": {
          "base_uri": "https://localhost:8080/",
          "height": 119
        },
        "outputId": "93c469bf-b458-495e-a3a2-86482a958253"
      },
      "source": [
        "!unzip jigsaw-toxic-comment-classification-challenge.zip\n",
        "!mkdir tmp_lm/"
      ],
      "execution_count": 44,
      "outputs": [
        {
          "output_type": "stream",
          "text": [
            "Archive:  jigsaw-toxic-comment-classification-challenge.zip\n",
            "replace test_labels.csv? [y]es, [n]o, [A]ll, [N]one, [r]ename: A\n",
            "  inflating: test_labels.csv         \n",
            "  inflating: sample_submission.csv   \n",
            "  inflating: test.csv                \n",
            "  inflating: train.csv               \n"
          ],
          "name": "stdout"
        }
      ]
    },
    {
      "cell_type": "code",
      "metadata": {
        "id": "s56Zxp-5HFgW",
        "colab_type": "code",
        "colab": {}
      },
      "source": [
        "import pandas as pd\n",
        "import numpy as np"
      ],
      "execution_count": 0,
      "outputs": []
    },
    {
      "cell_type": "code",
      "metadata": {
        "id": "o4F2jChdHMjl",
        "colab_type": "code",
        "colab": {}
      },
      "source": [
        "df = pd.read_csv(\"train.csv\")\n",
        "df_test = pd.read_csv(\"test.csv\")"
      ],
      "execution_count": 0,
      "outputs": []
    },
    {
      "cell_type": "code",
      "metadata": {
        "id": "j4KKnW2JHQFx",
        "colab_type": "code",
        "colab": {}
      },
      "source": [
        "arr = df.columns"
      ],
      "execution_count": 0,
      "outputs": []
    },
    {
      "cell_type": "code",
      "metadata": {
        "id": "zx_5650WHVG9",
        "colab_type": "code",
        "colab": {
          "base_uri": "https://localhost:8080/",
          "height": 34
        },
        "outputId": "a5cd67b1-8dc1-4830-e53a-89e276611a01"
      },
      "source": [
        "classes = arr[2:]\n",
        "classes = np.asarray(classes)\n",
        "classes = classes.tolist()\n",
        "classes"
      ],
      "execution_count": 48,
      "outputs": [
        {
          "output_type": "execute_result",
          "data": {
            "text/plain": [
              "['toxic', 'severe_toxic', 'obscene', 'threat', 'insult', 'identity_hate']"
            ]
          },
          "metadata": {
            "tags": []
          },
          "execution_count": 48
        }
      ]
    },
    {
      "cell_type": "code",
      "metadata": {
        "id": "ads0zcTjHZGX",
        "colab_type": "code",
        "colab": {}
      },
      "source": [
        "def make_data(df):\n",
        "  data=[]\n",
        "  lab=[]\n",
        "  for row,index in df.iterrows():\n",
        "    temp=[]\n",
        "    for class_name in classes:\n",
        "      if index[class_name]==1:\n",
        "        temp.append(class_name)\n",
        "      if len(temp)==0: \n",
        "        temp.append(\"no_class\")\n",
        "    temp = ' '.join(temp)\n",
        "    lab.append(temp)\n",
        "    data.append(index[\"comment_text\"])\n",
        "  X = pd.DataFrame({\"labels\":lab,\"text\":data})\n",
        "  return X"
      ],
      "execution_count": 0,
      "outputs": []
    },
    {
      "cell_type": "code",
      "metadata": {
        "id": "aLqxIsxxK9vZ",
        "colab_type": "code",
        "colab": {}
      },
      "source": [
        "X = make_data(df)\n",
        "X.to_csv(\"clean_train.csv\",index=False)\n",
        "#X = make_data(df_test)\n",
        "#X.to_csv(\"clean_test.csv\",index=False)\n"
      ],
      "execution_count": 0,
      "outputs": []
    },
    {
      "cell_type": "code",
      "metadata": {
        "id": "xE8vjC-jLnaj",
        "colab_type": "code",
        "colab": {}
      },
      "source": [
        "from fastai.text import *\n",
        "path = '.'"
      ],
      "execution_count": 0,
      "outputs": []
    },
    {
      "cell_type": "code",
      "metadata": {
        "id": "blwc8-CvLb7c",
        "colab_type": "code",
        "colab": {}
      },
      "source": [
        "data_lm = TextDataBunch.from_csv(path, 'clean_train.csv', test=\"test.csv\", text_cols=1,max_vocab=60000,min_freq=1, label_cols=0,label_delim=\" \")"
      ],
      "execution_count": 0,
      "outputs": []
    },
    {
      "cell_type": "code",
      "metadata": {
        "id": "ODvcOd-ULyVz",
        "colab_type": "code",
        "colab": {
          "base_uri": "https://localhost:8080/",
          "height": 374
        },
        "outputId": "eeebb909-0c70-445a-cded-749db3e2ccd1"
      },
      "source": [
        "data_lm.show_batch()"
      ],
      "execution_count": 64,
      "outputs": [
        {
          "output_type": "display_data",
          "data": {
            "text/html": [
              "<table border=\"1\" class=\"dataframe\">\n",
              "  <thead>\n",
              "    <tr style=\"text-align: right;\">\n",
              "      <th>text</th>\n",
              "      <th>target</th>\n",
              "    </tr>\n",
              "  </thead>\n",
              "  <tbody>\n",
              "    <tr>\n",
              "      <td>xxbos xxmaj take that ! \\n \\n  xxup in xxup the xxup ass xxup in xxup the xxup ass xxup in xxup the xxup ass xxup in xxup the xxup ass xxup in xxup the xxup ass xxup in xxup the xxup ass xxup in xxup the xxup ass xxup in xxup the xxup ass xxup in xxup the xxup ass xxup in xxup the xxup ass xxup in</td>\n",
              "      <td>obscene;severe_toxic;toxic</td>\n",
              "    </tr>\n",
              "    <tr>\n",
              "      <td>xxbos \" ( ) you are xxup such a fucking twat flap \\n \\n  xxmaj position / / xxmaj artist , xxmaj band , or xxmaj group / / xxmaj song xxmaj title / / xxmaj weeks xxmaj spent xxmaj at # 1 / / xxmaj year \\n \\n  1 . xxmaj mariah xxmaj carey &amp; xxmaj boyz xxup ii xxmaj men- \" \" xxmaj one xxmaj sweet</td>\n",
              "      <td>toxic</td>\n",
              "    </tr>\n",
              "    <tr>\n",
              "      <td>xxbos ' ' ' jforget xxup fuck xxup you xxup faggot xxup gay xxup ass xxup chink xxup nigger xxup cocksucking xxup piece xxup of xxup shit jforget xxup fuck xxup you xxup faggot xxup gay xxup ass xxup chink xxup nigger xxup cocksucking xxup piece xxup of xxup shit jforget xxup fuck xxup you xxup faggot xxup gay xxup ass xxup chink xxup nigger xxup cocksucking xxup piece xxup</td>\n",
              "      <td>identity_hate;insult;obscene;severe_toxic;toxic</td>\n",
              "    </tr>\n",
              "    <tr>\n",
              "      <td>xxbos \" \\n \\n  xxmaj hi , thanks for your thoughts . i have to disagree about your xxunk - argument . xxmaj you say \" \" xxmaj germany \" \" can refer to either \" \" xxmaj west xxmaj germany \" \" or \" \" xxmaj east xxmaj germany \" \" . xxmaj this is - as i already stated - simply not correct , since there never</td>\n",
              "      <td>no_class</td>\n",
              "    </tr>\n",
              "    <tr>\n",
              "      <td>xxbos xxmaj merge of xxmaj county articles \\n \\n  i will be proposing that all the xxmaj county articles in xxmaj england be merged into several articles , representing the 9 official regions of xxmaj england . xxmaj this involves the following xxunk \\n \\n  xxmaj cleveland xxmaj scout xxmaj county ( xxmaj the xxmaj scout xxunk xxmaj scout xxmaj county ( xxmaj the xxmaj scout xxmaj association</td>\n",
              "      <td>no_class</td>\n",
              "    </tr>\n",
              "  </tbody>\n",
              "</table>"
            ],
            "text/plain": [
              "<IPython.core.display.HTML object>"
            ]
          },
          "metadata": {
            "tags": []
          }
        }
      ]
    },
    {
      "cell_type": "code",
      "metadata": {
        "id": "bQ40T8VNnHDJ",
        "colab_type": "code",
        "colab": {}
      },
      "source": [
        ""
      ],
      "execution_count": 0,
      "outputs": []
    },
    {
      "cell_type": "code",
      "metadata": {
        "id": "YcySVSyDOe8G",
        "colab_type": "code",
        "colab": {}
      },
      "source": [
        ""
      ],
      "execution_count": 0,
      "outputs": []
    },
    {
      "cell_type": "code",
      "metadata": {
        "id": "jM0QnJo_ORdb",
        "colab_type": "code",
        "colab": {
          "base_uri": "https://localhost:8080/",
          "height": 340
        },
        "outputId": "bcadaba8-4cd7-43f7-8f0f-2201fb04a6a2"
      },
      "source": [
        "data_lm.save()\n",
        "!mv data_save.pkl tmp_lm/\n",
        "data = load_data(\"tmp_lm/\",bs=64)\n",
        "data.show_batch()"
      ],
      "execution_count": 69,
      "outputs": [
        {
          "output_type": "display_data",
          "data": {
            "text/html": [
              "<table border=\"1\" class=\"dataframe\">\n",
              "  <thead>\n",
              "    <tr style=\"text-align: right;\">\n",
              "      <th>text</th>\n",
              "      <th>target</th>\n",
              "    </tr>\n",
              "  </thead>\n",
              "  <tbody>\n",
              "    <tr>\n",
              "      <td>xxbos xxmaj take that ! \\n \\n  xxup in xxup the xxup ass xxup in xxup the xxup ass xxup in xxup the xxup ass xxup in xxup the xxup ass xxup in xxup the xxup ass xxup in xxup the xxup ass xxup in xxup the xxup ass xxup in xxup the xxup ass xxup in xxup the xxup ass xxup in xxup the xxup ass xxup in</td>\n",
              "      <td>obscene;severe_toxic;toxic</td>\n",
              "    </tr>\n",
              "    <tr>\n",
              "      <td>xxbos i xxup can xxup still xxup post xxup with xxup this xxup computer ... i xxup said xxup block xxup me , xxup come xxup the xxup fuck xxup down xxup here xxup and xxup arrest xxup me ... xxup san xxup diego xxup california , xxup chula xxup vista , xxup fucking xxup get xxup your xxup information xxup right xxup faggot shithead!!i xxup can xxup still xxup</td>\n",
              "      <td>insult;obscene;severe_toxic;toxic</td>\n",
              "    </tr>\n",
              "    <tr>\n",
              "      <td>xxbos xxmaj sam xxmaj guest \\n  xxmaj instructor : xxmaj todd , j \\n  xxmaj political xxmaj science 202 \\n  11 / 3 / 10 \\n  xxmaj impacts the 2010 xxmaj midterm xxmaj congressional xxmaj elections has on the \\n  xxmaj presidential xxmaj election in 2012 \\n  tabin the 2010 midterm congressional elections , the xxmaj republican party took control of the xxmaj house</td>\n",
              "      <td>no_class</td>\n",
              "    </tr>\n",
              "    <tr>\n",
              "      <td>xxbos \" \\n \\n  xxmaj hi . xxmaj the issue here is very simple . xxmaj the article currently states there is \" \" xxup no \" \" evidence that xxup ect causes brain damage in humans or animals . xxmaj the article also states that there are \" \" xxup no \" \" recent reviews that found such evidence . xxmaj both of these claims in the article</td>\n",
              "      <td>no_class</td>\n",
              "    </tr>\n",
              "    <tr>\n",
              "      <td>xxbos \" \\n \\n  xxmaj from xxmaj norway ; xxmaj denmark ; xxmaj iceland ; xxmaj scotland ; xxunk etc . ) ; xxmaj wales ; xxmaj ireland ; xxmaj basques &amp; xxmaj xxunk data ) \\n \\n  by xxmaj gunnar xxmaj thompson \\n \\n  \" \" xxmaj on xxunk 's map , the northwestern continent is called \" \" xxmaj xxunk . \" \" xxmaj this</td>\n",
              "      <td>no_class</td>\n",
              "    </tr>\n",
              "  </tbody>\n",
              "</table>"
            ],
            "text/plain": [
              "<IPython.core.display.HTML object>"
            ]
          },
          "metadata": {
            "tags": []
          }
        }
      ]
    },
    {
      "cell_type": "code",
      "metadata": {
        "id": "I3iGFdqqprG_",
        "colab_type": "code",
        "colab": {}
      },
      "source": [
        ""
      ],
      "execution_count": 0,
      "outputs": []
    },
    {
      "cell_type": "code",
      "metadata": {
        "id": "-LhdwoSGQzKn",
        "colab_type": "code",
        "colab": {}
      },
      "source": [
        "### dont run language model. out of memory error"
      ],
      "execution_count": 0,
      "outputs": []
    },
    {
      "cell_type": "code",
      "metadata": {
        "id": "verdQBe_Pxet",
        "colab_type": "code",
        "colab": {}
      },
      "source": [
        "learn = language_model_learner(data, arch=AWD_LSTM, drop_mult=0.3)\n"
      ],
      "execution_count": 0,
      "outputs": []
    },
    {
      "cell_type": "code",
      "metadata": {
        "id": "NYPIypnlPxkK",
        "colab_type": "code",
        "colab": {}
      },
      "source": [
        "learn.fit_one_cycle(1, 1e-2, moms=(0.8,0.7))\n"
      ],
      "execution_count": 0,
      "outputs": []
    },
    {
      "cell_type": "code",
      "metadata": {
        "id": "TRtyx0FbP7By",
        "colab_type": "code",
        "colab": {}
      },
      "source": [
        "learn.unfreeze()\n",
        "learn.fit_one_cycle(10, 1e-3, moms=(0.8,0.7))"
      ],
      "execution_count": 0,
      "outputs": []
    },
    {
      "cell_type": "code",
      "metadata": {
        "id": "xGUVm6JJP-5E",
        "colab_type": "code",
        "colab": {}
      },
      "source": [
        "learn.save_encoder('fine_tuned_enc')\n"
      ],
      "execution_count": 0,
      "outputs": []
    },
    {
      "cell_type": "code",
      "metadata": {
        "id": "fA3zme0XRAPW",
        "colab_type": "code",
        "colab": {}
      },
      "source": [
        "#run from here"
      ],
      "execution_count": 0,
      "outputs": []
    },
    {
      "cell_type": "code",
      "metadata": {
        "id": "O4v3ybODMxAS",
        "colab_type": "code",
        "colab": {}
      },
      "source": [
        "learn = text_classifier_learner(data, drop_mult=0.5, arch=AWD_LSTM, metrics=accuracy_thresh)\n",
        "#learn.load_encoder('fine_tuned_enc')\n",
        "learn.freeze()"
      ],
      "execution_count": 0,
      "outputs": []
    },
    {
      "cell_type": "code",
      "metadata": {
        "id": "na_zd36gNy3y",
        "colab_type": "code",
        "colab": {
          "base_uri": "https://localhost:8080/",
          "height": 34
        },
        "outputId": "59df90ae-783a-406c-d8e9-ca7fb6057b89"
      },
      "source": [
        "learn.lr_find()"
      ],
      "execution_count": 71,
      "outputs": [
        {
          "output_type": "display_data",
          "data": {
            "text/html": [
              ""
            ],
            "text/plain": [
              "<IPython.core.display.HTML object>"
            ]
          },
          "metadata": {
            "tags": []
          }
        },
        {
          "output_type": "stream",
          "text": [
            "LR Finder is complete, type {learner_name}.recorder.plot() to see the graph.\n"
          ],
          "name": "stdout"
        }
      ]
    },
    {
      "cell_type": "code",
      "metadata": {
        "id": "BWk5RHqoN0aQ",
        "colab_type": "code",
        "colab": {
          "base_uri": "https://localhost:8080/",
          "height": 80
        },
        "outputId": "0e20d09b-5af0-4957-b490-b68242ba82ba"
      },
      "source": [
        "learn.fit_one_cycle(1, 2e-2, moms=(0.8,0.7))"
      ],
      "execution_count": 89,
      "outputs": [
        {
          "output_type": "display_data",
          "data": {
            "text/html": [
              "<table border=\"1\" class=\"dataframe\">\n",
              "  <thead>\n",
              "    <tr style=\"text-align: left;\">\n",
              "      <th>epoch</th>\n",
              "      <th>train_loss</th>\n",
              "      <th>valid_loss</th>\n",
              "      <th>accuracy_thresh</th>\n",
              "      <th>time</th>\n",
              "    </tr>\n",
              "  </thead>\n",
              "  <tbody>\n",
              "    <tr>\n",
              "      <td>0</td>\n",
              "      <td>0.159221</td>\n",
              "      <td>0.156371</td>\n",
              "      <td>0.954070</td>\n",
              "      <td>07:14</td>\n",
              "    </tr>\n",
              "  </tbody>\n",
              "</table>"
            ],
            "text/plain": [
              "<IPython.core.display.HTML object>"
            ]
          },
          "metadata": {
            "tags": []
          }
        }
      ]
    },
    {
      "cell_type": "code",
      "metadata": {
        "id": "JGlOqg1IPgdv",
        "colab_type": "code",
        "colab": {}
      },
      "source": [
        "learn.save('first')\n",
        "learn.load('first');"
      ],
      "execution_count": 0,
      "outputs": []
    },
    {
      "cell_type": "code",
      "metadata": {
        "id": "9kSTQUfPPjSR",
        "colab_type": "code",
        "colab": {
          "base_uri": "https://localhost:8080/",
          "height": 80
        },
        "outputId": "f502078d-0ad6-4688-b1da-47d08c712ee4"
      },
      "source": [
        "learn.freeze_to(-2)\n",
        "learn.fit_one_cycle(1, slice(1e-2/(2.6**4),1e-2), moms=(0.8,0.7))"
      ],
      "execution_count": 91,
      "outputs": [
        {
          "output_type": "display_data",
          "data": {
            "text/html": [
              "<table border=\"1\" class=\"dataframe\">\n",
              "  <thead>\n",
              "    <tr style=\"text-align: left;\">\n",
              "      <th>epoch</th>\n",
              "      <th>train_loss</th>\n",
              "      <th>valid_loss</th>\n",
              "      <th>accuracy_thresh</th>\n",
              "      <th>time</th>\n",
              "    </tr>\n",
              "  </thead>\n",
              "  <tbody>\n",
              "    <tr>\n",
              "      <td>0</td>\n",
              "      <td>0.131026</td>\n",
              "      <td>0.129571</td>\n",
              "      <td>0.958600</td>\n",
              "      <td>08:55</td>\n",
              "    </tr>\n",
              "  </tbody>\n",
              "</table>"
            ],
            "text/plain": [
              "<IPython.core.display.HTML object>"
            ]
          },
          "metadata": {
            "tags": []
          }
        }
      ]
    },
    {
      "cell_type": "code",
      "metadata": {
        "id": "q6TbKk8tPmuq",
        "colab_type": "code",
        "colab": {}
      },
      "source": [
        "learn.save('second')\n",
        "learn.load('second');"
      ],
      "execution_count": 0,
      "outputs": []
    },
    {
      "cell_type": "code",
      "metadata": {
        "id": "TSEQ8jTXPoXU",
        "colab_type": "code",
        "colab": {
          "base_uri": "https://localhost:8080/",
          "height": 80
        },
        "outputId": "80ebe3a3-0f9e-4fe5-c0c8-ee921c36d860"
      },
      "source": [
        "learn.freeze_to(-3)\n",
        "learn.fit_one_cycle(1, slice(5e-3/(2.6**4),5e-3), moms=(0.8,0.7))"
      ],
      "execution_count": 93,
      "outputs": [
        {
          "output_type": "display_data",
          "data": {
            "text/html": [
              "<table border=\"1\" class=\"dataframe\">\n",
              "  <thead>\n",
              "    <tr style=\"text-align: left;\">\n",
              "      <th>epoch</th>\n",
              "      <th>train_loss</th>\n",
              "      <th>valid_loss</th>\n",
              "      <th>accuracy_thresh</th>\n",
              "      <th>time</th>\n",
              "    </tr>\n",
              "  </thead>\n",
              "  <tbody>\n",
              "    <tr>\n",
              "      <td>0</td>\n",
              "      <td>0.087120</td>\n",
              "      <td>0.084733</td>\n",
              "      <td>0.971948</td>\n",
              "      <td>10:33</td>\n",
              "    </tr>\n",
              "  </tbody>\n",
              "</table>"
            ],
            "text/plain": [
              "<IPython.core.display.HTML object>"
            ]
          },
          "metadata": {
            "tags": []
          }
        }
      ]
    },
    {
      "cell_type": "code",
      "metadata": {
        "id": "W47He4PAPp84",
        "colab_type": "code",
        "colab": {}
      },
      "source": [
        "learn.save('third')\n",
        "learn.load('third');"
      ],
      "execution_count": 0,
      "outputs": []
    },
    {
      "cell_type": "code",
      "metadata": {
        "id": "2csQPs5PPsCN",
        "colab_type": "code",
        "colab": {
          "base_uri": "https://localhost:8080/",
          "height": 111
        },
        "outputId": "c5a2d3d9-9170-4aee-9d47-8ad321911f08"
      },
      "source": [
        "learn.unfreeze()\n",
        "learn.fit_one_cycle(2, slice(1e-3/(2.6**4),1e-3), moms=(0.8,0.7))"
      ],
      "execution_count": 95,
      "outputs": [
        {
          "output_type": "display_data",
          "data": {
            "text/html": [
              "<table border=\"1\" class=\"dataframe\">\n",
              "  <thead>\n",
              "    <tr style=\"text-align: left;\">\n",
              "      <th>epoch</th>\n",
              "      <th>train_loss</th>\n",
              "      <th>valid_loss</th>\n",
              "      <th>accuracy_thresh</th>\n",
              "      <th>time</th>\n",
              "    </tr>\n",
              "  </thead>\n",
              "  <tbody>\n",
              "    <tr>\n",
              "      <td>0</td>\n",
              "      <td>0.079280</td>\n",
              "      <td>0.074465</td>\n",
              "      <td>0.975045</td>\n",
              "      <td>17:12</td>\n",
              "    </tr>\n",
              "    <tr>\n",
              "      <td>1</td>\n",
              "      <td>0.071430</td>\n",
              "      <td>0.068705</td>\n",
              "      <td>0.977055</td>\n",
              "      <td>16:37</td>\n",
              "    </tr>\n",
              "  </tbody>\n",
              "</table>"
            ],
            "text/plain": [
              "<IPython.core.display.HTML object>"
            ]
          },
          "metadata": {
            "tags": []
          }
        }
      ]
    },
    {
      "cell_type": "code",
      "metadata": {
        "id": "g6ISegT1yQ2L",
        "colab_type": "code",
        "colab": {}
      },
      "source": [
        "learn.save('fourth')"
      ],
      "execution_count": 0,
      "outputs": []
    },
    {
      "cell_type": "code",
      "metadata": {
        "id": "I8bLsk_GEyim",
        "colab_type": "code",
        "colab": {
          "base_uri": "https://localhost:8080/",
          "height": 34
        },
        "outputId": "9a782b2e-a09f-4bb5-ee69-b3090080fce7"
      },
      "source": [
        "len(data.test_ds.x)"
      ],
      "execution_count": 155,
      "outputs": [
        {
          "output_type": "execute_result",
          "data": {
            "text/plain": [
              "153164"
            ]
          },
          "metadata": {
            "tags": []
          },
          "execution_count": 155
        }
      ]
    },
    {
      "cell_type": "code",
      "metadata": {
        "id": "XDc9w3a6ETPm",
        "colab_type": "code",
        "colab": {}
      },
      "source": [
        "p = learn.get_preds(ds_type=DatasetType.Test)"
      ],
      "execution_count": 0,
      "outputs": []
    },
    {
      "cell_type": "code",
      "metadata": {
        "id": "JaoZQ3VyMaed",
        "colab_type": "code",
        "colab": {
          "base_uri": "https://localhost:8080/",
          "height": 34
        },
        "outputId": "a4c3e774-3793-4e71-a272-82036c80a88e"
      },
      "source": [
        "p[0].shape"
      ],
      "execution_count": 163,
      "outputs": [
        {
          "output_type": "execute_result",
          "data": {
            "text/plain": [
              "torch.Size([153164, 7])"
            ]
          },
          "metadata": {
            "tags": []
          },
          "execution_count": 163
        }
      ]
    },
    {
      "cell_type": "code",
      "metadata": {
        "id": "0TwInoYyF7do",
        "colab_type": "code",
        "colab": {
          "base_uri": "https://localhost:8080/",
          "height": 136
        },
        "outputId": "729c4ae3-5dac-49b6-af15-8fd49f771cf7"
      },
      "source": [
        "learn.data.classes"
      ],
      "execution_count": 131,
      "outputs": [
        {
          "output_type": "execute_result",
          "data": {
            "text/plain": [
              "['identity_hate',\n",
              " 'insult',\n",
              " 'no_class',\n",
              " 'obscene',\n",
              " 'severe_toxic',\n",
              " 'threat',\n",
              " 'toxic']"
            ]
          },
          "metadata": {
            "tags": []
          },
          "execution_count": 131
        }
      ]
    },
    {
      "cell_type": "code",
      "metadata": {
        "id": "AJf0edna0Dmp",
        "colab_type": "code",
        "colab": {}
      },
      "source": [
        "class_rank = [\"toxic\", \"severe_toxic\", \"obscene\", \"threat\", \"insult\", \"identity_hate\"]\n",
        "class_in_pred = []\n",
        "df_test['toxic'] = Series(np.random.randn(sLength), index=df_test.index)\n",
        "df_test['severe_toxic'] = Series(np.random.randn(sLength), index=df_test.index)\n",
        "df_test['obscene'] = Series(np.random.randn(sLength), index=df_test.index)\n",
        "df_test['threat'] = Series(np.random.randn(sLength), index=df_test.index)\n",
        "df_test['insult'] = Series(np.random.randn(sLength), index=df_test.index)\n",
        "df_test['identity_hate'] = Series(np.random.randn(sLength), index=df_test.index)"
      ],
      "execution_count": 0,
      "outputs": []
    },
    {
      "cell_type": "code",
      "metadata": {
        "id": "O72A_4fpzE3_",
        "colab_type": "code",
        "colab": {
          "base_uri": "https://localhost:8080/",
          "height": 16558
        },
        "outputId": "07a6add2-a024-42f4-e256-0fd52d276c15"
      },
      "source": [
        "ids = []\n",
        "final_preds = []\n",
        "ct = 0\n",
        "for index,row in tqdm.tqdm(df_test.iterrows()):\n",
        "  ids.append(row[\"id\"])\n",
        "  temp = []\n",
        "  float_arr = []\n",
        "  for class_curr in class_rank:\n",
        "    i = 0\n",
        "    for class_learn in learn.data.classes:\n",
        "      if class_learn == class_curr:\n",
        "        df_test[class_curr] = float(p[0][ct][i])\n",
        "        break\n",
        "      i = i + 1\n",
        "  ct=ct+1\n",
        "df_test.to_csv(\"submission.csv\",index=False)"
      ],
      "execution_count": 0,
      "outputs": [
        {
          "output_type": "stream",
          "text": [
            "\n",
            "\n",
            "\n",
            "0it [00:00, ?it/s]\u001b[A\u001b[A\u001b[A\n",
            "\n",
            "\n",
            "13it [00:00, 127.85it/s]\u001b[A\u001b[A\u001b[A\n",
            "\n",
            "\n",
            "42it [00:00, 153.20it/s]\u001b[A\u001b[A\u001b[A\n",
            "\n",
            "\n",
            "72it [00:00, 179.06it/s]\u001b[A\u001b[A\u001b[A\n",
            "\n",
            "\n",
            "103it [00:00, 204.53it/s]\u001b[A\u001b[A\u001b[A\n",
            "\n",
            "\n",
            "135it [00:00, 228.48it/s]\u001b[A\u001b[A\u001b[A\n",
            "\n",
            "\n",
            "165it [00:00, 245.66it/s]\u001b[A\u001b[A\u001b[A\n",
            "\n",
            "\n",
            "197it [00:00, 262.42it/s]\u001b[A\u001b[A\u001b[A\n",
            "\n",
            "\n",
            "228it [00:00, 273.71it/s]\u001b[A\u001b[A\u001b[A\n",
            "\n",
            "\n",
            "259it [00:00, 283.39it/s]\u001b[A\u001b[A\u001b[A\n",
            "\n",
            "\n",
            "291it [00:01, 290.97it/s]\u001b[A\u001b[A\u001b[A\n",
            "\n",
            "\n",
            "323it [00:01, 296.77it/s]\u001b[A\u001b[A\u001b[A\n",
            "\n",
            "\n",
            "354it [00:01, 297.71it/s]\u001b[A\u001b[A\u001b[A\n",
            "\n",
            "\n",
            "385it [00:01, 299.68it/s]\u001b[A\u001b[A\u001b[A\n",
            "\n",
            "\n",
            "416it [00:01, 301.76it/s]\u001b[A\u001b[A\u001b[A\n",
            "\n",
            "\n",
            "447it [00:01, 300.05it/s]\u001b[A\u001b[A\u001b[A\n",
            "\n",
            "\n",
            "478it [00:01, 294.17it/s]\u001b[A\u001b[A\u001b[A\n",
            "\n",
            "\n",
            "508it [00:01, 295.14it/s]\u001b[A\u001b[A\u001b[A\n",
            "\n",
            "\n",
            "539it [00:01, 296.96it/s]\u001b[A\u001b[A\u001b[A\n",
            "\n",
            "\n",
            "570it [00:01, 299.67it/s]\u001b[A\u001b[A\u001b[A\n",
            "\n",
            "\n",
            "601it [00:02, 298.96it/s]\u001b[A\u001b[A\u001b[A\n",
            "\n",
            "\n",
            "631it [00:02, 296.51it/s]\u001b[A\u001b[A\u001b[A\n",
            "\n",
            "\n",
            "661it [00:02, 296.54it/s]\u001b[A\u001b[A\u001b[A\n",
            "\n",
            "\n",
            "691it [00:02, 295.91it/s]\u001b[A\u001b[A\u001b[A\n",
            "\n",
            "\n",
            "721it [00:02, 296.81it/s]\u001b[A\u001b[A\u001b[A\n",
            "\n",
            "\n",
            "752it [00:02, 298.16it/s]\u001b[A\u001b[A\u001b[A\n",
            "\n",
            "\n",
            "782it [00:02, 290.99it/s]\u001b[A\u001b[A\u001b[A\n",
            "\n",
            "\n",
            "812it [00:02, 293.60it/s]\u001b[A\u001b[A\u001b[A\n",
            "\n",
            "\n",
            "843it [00:02, 295.92it/s]\u001b[A\u001b[A\u001b[A\n",
            "\n",
            "\n",
            "873it [00:02, 296.59it/s]\u001b[A\u001b[A\u001b[A\n",
            "\n",
            "\n",
            "903it [00:03, 296.93it/s]\u001b[A\u001b[A\u001b[A\n",
            "\n",
            "\n",
            "933it [00:03, 297.83it/s]\u001b[A\u001b[A\u001b[A\n",
            "\n",
            "\n",
            "963it [00:03, 298.39it/s]\u001b[A\u001b[A\u001b[A\n",
            "\n",
            "\n",
            "994it [00:03, 299.05it/s]\u001b[A\u001b[A\u001b[A\n",
            "\n",
            "\n",
            "1025it [00:03, 299.87it/s]\u001b[A\u001b[A\u001b[A\n",
            "\n",
            "\n",
            "1056it [00:03, 300.50it/s]\u001b[A\u001b[A\u001b[A\n",
            "\n",
            "\n",
            "1087it [00:03, 295.07it/s]\u001b[A\u001b[A\u001b[A\n",
            "\n",
            "\n",
            "1117it [00:03, 295.11it/s]\u001b[A\u001b[A\u001b[A\n",
            "\n",
            "\n",
            "1147it [00:03, 295.90it/s]\u001b[A\u001b[A\u001b[A\n",
            "\n",
            "\n",
            "1179it [00:03, 300.97it/s]\u001b[A\u001b[A\u001b[A\n",
            "\n",
            "\n",
            "1215it [00:04, 314.35it/s]\u001b[A\u001b[A\u001b[A\n",
            "\n",
            "\n",
            "1249it [00:04, 321.36it/s]\u001b[A\u001b[A\u001b[A\n",
            "\n",
            "\n",
            "1284it [00:04, 328.52it/s]\u001b[A\u001b[A\u001b[A\n",
            "\n",
            "\n",
            "1320it [00:04, 335.22it/s]\u001b[A\u001b[A\u001b[A\n",
            "\n",
            "\n",
            "1356it [00:04, 340.03it/s]\u001b[A\u001b[A\u001b[A\n",
            "\n",
            "\n",
            "1392it [00:04, 344.40it/s]\u001b[A\u001b[A\u001b[A\n",
            "\n",
            "\n",
            "1428it [00:04, 347.67it/s]\u001b[A\u001b[A\u001b[A\n",
            "\n",
            "\n",
            "1463it [00:04, 339.18it/s]\u001b[A\u001b[A\u001b[A\n",
            "\n",
            "\n",
            "1498it [00:04, 341.56it/s]\u001b[A\u001b[A\u001b[A\n",
            "\n",
            "\n",
            "1534it [00:05, 344.87it/s]\u001b[A\u001b[A\u001b[A\n",
            "\n",
            "\n",
            "1569it [00:05, 345.81it/s]\u001b[A\u001b[A\u001b[A\n",
            "\n",
            "\n",
            "1604it [00:05, 346.40it/s]\u001b[A\u001b[A\u001b[A\n",
            "\n",
            "\n",
            "1639it [00:05, 344.93it/s]\u001b[A\u001b[A\u001b[A\n",
            "\n",
            "\n",
            "1674it [00:05, 346.15it/s]\u001b[A\u001b[A\u001b[A\n",
            "\n",
            "\n",
            "1710it [00:05, 347.90it/s]\u001b[A\u001b[A\u001b[A\n",
            "\n",
            "\n",
            "1745it [00:05, 347.89it/s]\u001b[A\u001b[A\u001b[A\n",
            "\n",
            "\n",
            "1780it [00:05, 336.46it/s]\u001b[A\u001b[A\u001b[A\n",
            "\n",
            "\n",
            "1814it [00:05, 322.71it/s]\u001b[A\u001b[A\u001b[A\n",
            "\n",
            "\n",
            "1849it [00:05, 329.43it/s]\u001b[A\u001b[A\u001b[A\n",
            "\n",
            "\n",
            "1885it [00:06, 335.63it/s]\u001b[A\u001b[A\u001b[A\n",
            "\n",
            "\n",
            "1920it [00:06, 338.25it/s]\u001b[A\u001b[A\u001b[A\n",
            "\n",
            "\n",
            "1956it [00:06, 342.46it/s]\u001b[A\u001b[A\u001b[A\n",
            "\n",
            "\n",
            "1991it [00:06, 343.82it/s]\u001b[A\u001b[A\u001b[A\n",
            "\n",
            "\n",
            "2027it [00:06, 346.53it/s]\u001b[A\u001b[A\u001b[A\n",
            "\n",
            "\n",
            "2063it [00:06, 348.16it/s]\u001b[A\u001b[A\u001b[A\n",
            "\n",
            "\n",
            "2099it [00:06, 348.78it/s]\u001b[A\u001b[A\u001b[A\n",
            "\n",
            "\n",
            "2134it [00:06, 349.14it/s]\u001b[A\u001b[A\u001b[A\n",
            "\n",
            "\n",
            "2169it [00:06, 341.29it/s]\u001b[A\u001b[A\u001b[A\n",
            "\n",
            "\n",
            "2204it [00:06, 343.51it/s]\u001b[A\u001b[A\u001b[A\n",
            "\n",
            "\n",
            "2240it [00:07, 345.86it/s]\u001b[A\u001b[A\u001b[A\n",
            "\n",
            "\n",
            "2276it [00:07, 347.31it/s]\u001b[A\u001b[A\u001b[A\n",
            "\n",
            "\n",
            "2311it [00:07, 347.89it/s]\u001b[A\u001b[A\u001b[A\n",
            "\n",
            "\n",
            "2346it [00:07, 348.06it/s]\u001b[A\u001b[A\u001b[A\n",
            "\n",
            "\n",
            "2381it [00:07, 347.29it/s]\u001b[A\u001b[A\u001b[A\n",
            "\n",
            "\n",
            "2417it [00:07, 348.62it/s]\u001b[A\u001b[A\u001b[A\n",
            "\n",
            "\n",
            "2452it [00:07, 347.37it/s]\u001b[A\u001b[A\u001b[A\n",
            "\n",
            "\n",
            "2487it [00:07, 346.02it/s]\u001b[A\u001b[A\u001b[A\n",
            "\n",
            "\n",
            "2522it [00:07, 335.22it/s]\u001b[A\u001b[A\u001b[A\n",
            "\n",
            "\n",
            "2557it [00:08, 337.95it/s]\u001b[A\u001b[A\u001b[A\n",
            "\n",
            "\n",
            "2592it [00:08, 341.33it/s]\u001b[A\u001b[A\u001b[A\n",
            "\n",
            "\n",
            "2627it [00:08, 342.76it/s]\u001b[A\u001b[A\u001b[A\n",
            "\n",
            "\n",
            "2663it [00:08, 345.16it/s]\u001b[A\u001b[A\u001b[A\n",
            "\n",
            "\n",
            "2699it [00:08, 346.58it/s]\u001b[A\u001b[A\u001b[A\n",
            "\n",
            "\n",
            "2734it [00:08, 346.40it/s]\u001b[A\u001b[A\u001b[A\n",
            "\n",
            "\n",
            "2769it [00:08, 344.96it/s]\u001b[A\u001b[A\u001b[A\n",
            "\n",
            "\n",
            "2804it [00:08, 346.06it/s]\u001b[A\u001b[A\u001b[A\n",
            "\n",
            "\n",
            "2839it [00:08, 343.46it/s]\u001b[A\u001b[A\u001b[A\n",
            "\n",
            "\n",
            "2874it [00:08, 338.53it/s]\u001b[A\u001b[A\u001b[A\n",
            "\n",
            "\n",
            "2909it [00:09, 339.16it/s]\u001b[A\u001b[A\u001b[A\n",
            "\n",
            "\n",
            "2944it [00:09, 339.69it/s]\u001b[A\u001b[A\u001b[A\n",
            "\n",
            "\n",
            "2979it [00:09, 342.63it/s]\u001b[A\u001b[A\u001b[A\n",
            "\n",
            "\n",
            "3014it [00:09, 342.18it/s]\u001b[A\u001b[A\u001b[A\n",
            "\n",
            "\n",
            "3049it [00:09, 342.61it/s]\u001b[A\u001b[A\u001b[A\n",
            "\n",
            "\n",
            "3085it [00:09, 345.43it/s]\u001b[A\u001b[A\u001b[A\n",
            "\n",
            "\n",
            "3120it [00:09, 344.51it/s]\u001b[A\u001b[A\u001b[A\n",
            "\n",
            "\n",
            "3156it [00:09, 347.44it/s]\u001b[A\u001b[A\u001b[A\n",
            "\n",
            "\n",
            "3192it [00:09, 348.51it/s]\u001b[A\u001b[A\u001b[A\n",
            "\n",
            "\n",
            "3227it [00:09, 341.86it/s]\u001b[A\u001b[A\u001b[A\n",
            "\n",
            "\n",
            "3263it [00:10, 344.84it/s]\u001b[A\u001b[A\u001b[A\n",
            "\n",
            "\n",
            "3298it [00:10, 345.08it/s]\u001b[A\u001b[A\u001b[A\n",
            "\n",
            "\n",
            "3333it [00:10, 344.23it/s]\u001b[A\u001b[A\u001b[A\n",
            "\n",
            "\n",
            "3368it [00:10, 345.15it/s]\u001b[A\u001b[A\u001b[A\n",
            "\n",
            "\n",
            "3403it [00:10, 344.97it/s]\u001b[A\u001b[A\u001b[A\n",
            "\n",
            "\n",
            "3438it [00:10, 345.89it/s]\u001b[A\u001b[A\u001b[A\n",
            "\n",
            "\n",
            "3473it [00:10, 345.08it/s]\u001b[A\u001b[A\u001b[A\n",
            "\n",
            "\n",
            "3508it [00:10, 344.89it/s]\u001b[A\u001b[A\u001b[A\n",
            "\n",
            "\n",
            "3543it [00:10, 345.42it/s]\u001b[A\u001b[A\u001b[A\n",
            "\n",
            "\n",
            "3578it [00:10, 338.61it/s]\u001b[A\u001b[A\u001b[A\n",
            "\n",
            "\n",
            "3613it [00:11, 340.40it/s]\u001b[A\u001b[A\u001b[A\n",
            "\n",
            "\n",
            "3648it [00:11, 341.94it/s]\u001b[A\u001b[A\u001b[A\n",
            "\n",
            "\n",
            "3683it [00:11, 341.74it/s]\u001b[A\u001b[A\u001b[A\n",
            "\n",
            "\n",
            "3718it [00:11, 342.38it/s]\u001b[A\u001b[A\u001b[A\n",
            "\n",
            "\n",
            "3753it [00:11, 343.38it/s]\u001b[A\u001b[A\u001b[A\n",
            "\n",
            "\n",
            "3788it [00:11, 343.31it/s]\u001b[A\u001b[A\u001b[A\n",
            "\n",
            "\n",
            "3823it [00:11, 342.24it/s]\u001b[A\u001b[A\u001b[A\n",
            "\n",
            "\n",
            "3858it [00:11, 343.02it/s]\u001b[A\u001b[A\u001b[A\n",
            "\n",
            "\n",
            "3893it [00:11, 343.58it/s]\u001b[A\u001b[A\u001b[A\n",
            "\n",
            "\n",
            "3928it [00:11, 339.68it/s]\u001b[A\u001b[A\u001b[A\n",
            "\n",
            "\n",
            "3963it [00:12, 341.14it/s]\u001b[A\u001b[A\u001b[A\n",
            "\n",
            "\n",
            "3998it [00:12, 342.96it/s]\u001b[A\u001b[A\u001b[A\n",
            "\n",
            "\n",
            "4033it [00:12, 342.97it/s]\u001b[A\u001b[A\u001b[A\n",
            "\n",
            "\n",
            "4068it [00:12, 343.73it/s]\u001b[A\u001b[A\u001b[A\n",
            "\n",
            "\n",
            "4104it [00:12, 346.94it/s]\u001b[A\u001b[A\u001b[A\n",
            "\n",
            "\n",
            "4139it [00:12, 346.45it/s]\u001b[A\u001b[A\u001b[A\n",
            "\n",
            "\n",
            "4174it [00:12, 345.76it/s]\u001b[A\u001b[A\u001b[A\n",
            "\n",
            "\n",
            "4209it [00:12, 346.50it/s]\u001b[A\u001b[A\u001b[A\n",
            "\n",
            "\n",
            "4244it [00:12, 346.79it/s]\u001b[A\u001b[A\u001b[A\n",
            "\n",
            "\n",
            "4279it [00:13, 341.25it/s]\u001b[A\u001b[A\u001b[A\n",
            "\n",
            "\n",
            "4314it [00:13, 342.80it/s]\u001b[A\u001b[A\u001b[A\n",
            "\n",
            "\n",
            "4350it [00:13, 346.08it/s]\u001b[A\u001b[A\u001b[A\n",
            "\n",
            "\n",
            "4385it [00:13, 344.86it/s]\u001b[A\u001b[A\u001b[A\n",
            "\n",
            "\n",
            "4420it [00:13, 346.23it/s]\u001b[A\u001b[A\u001b[A\n",
            "\n",
            "\n",
            "4456it [00:13, 348.00it/s]\u001b[A\u001b[A\u001b[A\n",
            "\n",
            "\n",
            "4491it [00:13, 347.59it/s]\u001b[A\u001b[A\u001b[A\n",
            "\n",
            "\n",
            "4527it [00:13, 348.85it/s]\u001b[A\u001b[A\u001b[A\n",
            "\n",
            "\n",
            "4562it [00:13, 347.16it/s]\u001b[A\u001b[A\u001b[A\n",
            "\n",
            "\n",
            "4597it [00:13, 344.67it/s]\u001b[A\u001b[A\u001b[A\n",
            "\n",
            "\n",
            "4632it [00:14, 339.93it/s]\u001b[A\u001b[A\u001b[A\n",
            "\n",
            "\n",
            "4667it [00:14, 338.06it/s]\u001b[A\u001b[A\u001b[A\n",
            "\n",
            "\n",
            "4702it [00:14, 339.76it/s]\u001b[A\u001b[A\u001b[A\n",
            "\n",
            "\n",
            "4737it [00:14, 340.42it/s]\u001b[A\u001b[A\u001b[A\n",
            "\n",
            "\n",
            "4772it [00:14, 341.84it/s]\u001b[A\u001b[A\u001b[A\n",
            "\n",
            "\n",
            "4807it [00:14, 342.23it/s]\u001b[A\u001b[A\u001b[A\n",
            "\n",
            "\n",
            "4842it [00:14, 341.72it/s]\u001b[A\u001b[A\u001b[A\n",
            "\n",
            "\n",
            "4877it [00:14, 342.67it/s]\u001b[A\u001b[A\u001b[A\n",
            "\n",
            "\n",
            "4912it [00:14, 343.77it/s]\u001b[A\u001b[A\u001b[A\n",
            "\n",
            "\n",
            "4947it [00:14, 345.00it/s]\u001b[A\u001b[A\u001b[A\n",
            "\n",
            "\n",
            "4982it [00:15, 344.64it/s]\u001b[A\u001b[A\u001b[A\n",
            "\n",
            "\n",
            "5017it [00:15, 340.14it/s]\u001b[A\u001b[A\u001b[A\n",
            "\n",
            "\n",
            "5053it [00:15, 343.45it/s]\u001b[A\u001b[A\u001b[A\n",
            "\n",
            "\n",
            "5088it [00:15, 345.31it/s]\u001b[A\u001b[A\u001b[A\n",
            "\n",
            "\n",
            "5123it [00:15, 346.25it/s]\u001b[A\u001b[A\u001b[A\n",
            "\n",
            "\n",
            "5158it [00:15, 344.16it/s]\u001b[A\u001b[A\u001b[A\n",
            "\n",
            "\n",
            "5193it [00:15, 345.78it/s]\u001b[A\u001b[A\u001b[A\n",
            "\n",
            "\n",
            "5228it [00:15, 344.33it/s]\u001b[A\u001b[A\u001b[A\n",
            "\n",
            "\n",
            "5263it [00:15, 344.44it/s]\u001b[A\u001b[A\u001b[A\n",
            "\n",
            "\n",
            "5298it [00:15, 340.83it/s]\u001b[A\u001b[A\u001b[A\n",
            "\n",
            "\n",
            "5333it [00:16, 333.15it/s]\u001b[A\u001b[A\u001b[A\n",
            "\n",
            "\n",
            "5367it [00:16, 328.74it/s]\u001b[A\u001b[A\u001b[A\n",
            "\n",
            "\n",
            "5402it [00:16, 332.89it/s]\u001b[A\u001b[A\u001b[A\n",
            "\n",
            "\n",
            "5437it [00:16, 336.74it/s]\u001b[A\u001b[A\u001b[A\n",
            "\n",
            "\n",
            "5472it [00:16, 338.88it/s]\u001b[A\u001b[A\u001b[A\n",
            "\n",
            "\n",
            "5507it [00:16, 339.64it/s]\u001b[A\u001b[A\u001b[A\n",
            "\n",
            "\n",
            "5543it [00:16, 343.18it/s]\u001b[A\u001b[A\u001b[A\n",
            "\n",
            "\n",
            "5578it [00:16, 344.36it/s]\u001b[A\u001b[A\u001b[A\n",
            "\n",
            "\n",
            "5613it [00:16, 344.83it/s]\u001b[A\u001b[A\u001b[A\n",
            "\n",
            "\n",
            "5648it [00:17, 345.03it/s]\u001b[A\u001b[A\u001b[A\n",
            "\n",
            "\n",
            "5683it [00:17, 344.70it/s]\u001b[A\u001b[A\u001b[A\n",
            "\n",
            "\n",
            "5718it [00:17, 338.09it/s]\u001b[A\u001b[A\u001b[A\n",
            "\n",
            "\n",
            "5752it [00:17, 336.89it/s]\u001b[A\u001b[A\u001b[A\n",
            "\n",
            "\n",
            "5787it [00:17, 338.34it/s]\u001b[A\u001b[A\u001b[A\n",
            "\n",
            "\n",
            "5822it [00:17, 339.95it/s]\u001b[A\u001b[A\u001b[A\n",
            "\n",
            "\n",
            "5857it [00:17, 339.11it/s]\u001b[A\u001b[A\u001b[A\n",
            "\n",
            "\n",
            "5892it [00:17, 341.03it/s]\u001b[A\u001b[A\u001b[A\n",
            "\n",
            "\n",
            "5927it [00:17, 341.79it/s]\u001b[A\u001b[A\u001b[A\n",
            "\n",
            "\n",
            "5962it [00:17, 343.82it/s]\u001b[A\u001b[A\u001b[A\n",
            "\n",
            "\n",
            "5998it [00:18, 347.13it/s]\u001b[A\u001b[A\u001b[A\n",
            "\n",
            "\n",
            "6033it [00:18, 347.03it/s]\u001b[A\u001b[A\u001b[A\n",
            "\n",
            "\n",
            "6068it [00:18, 340.62it/s]\u001b[A\u001b[A\u001b[A\n",
            "\n",
            "\n",
            "6103it [00:18, 342.95it/s]\u001b[A\u001b[A\u001b[A\n",
            "\n",
            "\n",
            "6138it [00:18, 340.05it/s]\u001b[A\u001b[A\u001b[A\n",
            "\n",
            "\n",
            "6173it [00:18, 340.45it/s]\u001b[A\u001b[A\u001b[A\n",
            "\n",
            "\n",
            "6208it [00:18, 341.32it/s]\u001b[A\u001b[A\u001b[A\n",
            "\n",
            "\n",
            "6243it [00:18, 342.00it/s]\u001b[A\u001b[A\u001b[A\n",
            "\n",
            "\n",
            "6278it [00:18, 340.03it/s]\u001b[A\u001b[A\u001b[A\n",
            "\n",
            "\n",
            "6313it [00:18, 341.35it/s]\u001b[A\u001b[A\u001b[A\n",
            "\n",
            "\n",
            "6348it [00:19, 342.57it/s]\u001b[A\u001b[A\u001b[A\n",
            "\n",
            "\n",
            "6383it [00:19, 338.35it/s]\u001b[A\u001b[A\u001b[A\n",
            "\n",
            "\n",
            "6417it [00:19, 332.56it/s]\u001b[A\u001b[A\u001b[A\n",
            "\n",
            "\n",
            "6452it [00:19, 335.34it/s]\u001b[A\u001b[A\u001b[A\n",
            "\n",
            "\n",
            "6487it [00:19, 337.17it/s]\u001b[A\u001b[A\u001b[A\n",
            "\n",
            "\n",
            "6522it [00:19, 339.62it/s]\u001b[A\u001b[A\u001b[A\n",
            "\n",
            "\n",
            "6557it [00:19, 342.19it/s]\u001b[A\u001b[A\u001b[A\n",
            "\n",
            "\n",
            "6592it [00:19, 343.76it/s]\u001b[A\u001b[A\u001b[A\n",
            "\n",
            "\n",
            "6627it [00:19, 344.78it/s]\u001b[A\u001b[A\u001b[A\n",
            "\n",
            "\n",
            "6662it [00:19, 346.27it/s]\u001b[A\u001b[A\u001b[A\n",
            "\n",
            "\n",
            "6697it [00:20, 346.64it/s]\u001b[A\u001b[A\u001b[A\n",
            "\n",
            "\n",
            "6732it [00:20, 345.49it/s]\u001b[A\u001b[A\u001b[A\n",
            "\n",
            "\n",
            "6767it [00:20, 338.92it/s]\u001b[A\u001b[A\u001b[A\n",
            "\n",
            "\n",
            "6802it [00:20, 341.26it/s]\u001b[A\u001b[A\u001b[A\n",
            "\n",
            "\n",
            "6838it [00:20, 344.54it/s]\u001b[A\u001b[A\u001b[A\n",
            "\n",
            "\n",
            "6873it [00:20, 345.91it/s]\u001b[A\u001b[A\u001b[A\n",
            "\n",
            "\n",
            "6908it [00:20, 345.12it/s]\u001b[A\u001b[A\u001b[A\n",
            "\n",
            "\n",
            "6944it [00:20, 346.81it/s]\u001b[A\u001b[A\u001b[A\n",
            "\n",
            "\n",
            "6979it [00:20, 346.54it/s]\u001b[A\u001b[A\u001b[A\n",
            "\n",
            "\n",
            "7015it [00:20, 348.58it/s]\u001b[A\u001b[A\u001b[A\n",
            "\n",
            "\n",
            "7051it [00:21, 349.69it/s]\u001b[A\u001b[A\u001b[A\n",
            "\n",
            "\n",
            "7087it [00:21, 350.06it/s]\u001b[A\u001b[A\u001b[A\n",
            "\n",
            "\n",
            "7123it [00:21, 340.52it/s]\u001b[A\u001b[A\u001b[A\n",
            "\n",
            "\n",
            "7158it [00:21, 341.22it/s]\u001b[A\u001b[A\u001b[A\n",
            "\n",
            "\n",
            "7193it [00:21, 340.82it/s]\u001b[A\u001b[A\u001b[A\n",
            "\n",
            "\n",
            "7228it [00:21, 342.58it/s]\u001b[A\u001b[A\u001b[A\n",
            "\n",
            "\n",
            "7263it [00:21, 343.15it/s]\u001b[A\u001b[A\u001b[A\n",
            "\n",
            "\n",
            "7298it [00:21, 342.47it/s]\u001b[A\u001b[A\u001b[A\n",
            "\n",
            "\n",
            "7333it [00:21, 344.38it/s]\u001b[A\u001b[A\u001b[A\n",
            "\n",
            "\n",
            "7369it [00:22, 346.35it/s]\u001b[A\u001b[A\u001b[A\n",
            "\n",
            "\n",
            "7404it [00:22, 345.16it/s]\u001b[A\u001b[A\u001b[A\n",
            "\n",
            "\n",
            "7439it [00:22, 345.75it/s]\u001b[A\u001b[A\u001b[A\n",
            "\n",
            "\n",
            "7474it [00:22, 340.80it/s]\u001b[A\u001b[A\u001b[A\n",
            "\n",
            "\n",
            "7509it [00:22, 343.06it/s]\u001b[A\u001b[A\u001b[A\n",
            "\n",
            "\n",
            "7544it [00:22, 344.97it/s]\u001b[A\u001b[A\u001b[A\n",
            "\n",
            "\n",
            "7580it [00:22, 347.21it/s]\u001b[A\u001b[A\u001b[A\n",
            "\n",
            "\n",
            "7615it [00:22, 346.82it/s]\u001b[A\u001b[A\u001b[A\n",
            "\n",
            "\n",
            "7650it [00:22, 346.80it/s]\u001b[A\u001b[A\u001b[A\n",
            "\n",
            "\n",
            "7685it [00:22, 345.31it/s]\u001b[A\u001b[A\u001b[A\n",
            "\n",
            "\n",
            "7720it [00:23, 344.48it/s]\u001b[A\u001b[A\u001b[A\n",
            "\n",
            "\n",
            "7755it [00:23, 345.26it/s]\u001b[A\u001b[A\u001b[A\n",
            "\n",
            "\n",
            "7790it [00:23, 344.18it/s]\u001b[A\u001b[A\u001b[A\n",
            "\n",
            "\n",
            "7825it [00:23, 337.24it/s]\u001b[A\u001b[A\u001b[A\n",
            "\n",
            "\n",
            "7860it [00:23, 339.17it/s]\u001b[A\u001b[A\u001b[A\n",
            "\n",
            "\n",
            "7894it [00:23, 338.96it/s]\u001b[A\u001b[A\u001b[A\n",
            "\n",
            "\n",
            "7929it [00:23, 340.19it/s]\u001b[A\u001b[A\u001b[A\n",
            "\n",
            "\n",
            "7964it [00:23, 340.95it/s]\u001b[A\u001b[A\u001b[A\n",
            "\n",
            "\n",
            "7999it [00:23, 342.54it/s]\u001b[A\u001b[A\u001b[A\n",
            "\n",
            "\n",
            "8034it [00:23, 344.66it/s]\u001b[A\u001b[A\u001b[A\n",
            "\n",
            "\n",
            "8069it [00:24, 343.22it/s]\u001b[A\u001b[A\u001b[A\n",
            "\n",
            "\n",
            "8104it [00:24, 343.21it/s]\u001b[A\u001b[A\u001b[A\n",
            "\n",
            "\n",
            "8139it [00:24, 343.57it/s]\u001b[A\u001b[A\u001b[A\n",
            "\n",
            "\n",
            "8174it [00:24, 337.96it/s]\u001b[A\u001b[A\u001b[A\n",
            "\n",
            "\n",
            "8209it [00:24, 338.97it/s]\u001b[A\u001b[A\u001b[A\n",
            "\n",
            "\n",
            "8243it [00:24, 339.17it/s]\u001b[A\u001b[A\u001b[A\n",
            "\n",
            "\n",
            "8277it [00:24, 338.76it/s]\u001b[A\u001b[A\u001b[A\n",
            "\n",
            "\n",
            "8312it [00:24, 339.94it/s]\u001b[A\u001b[A\u001b[A\n",
            "\n",
            "\n",
            "8347it [00:24, 340.09it/s]\u001b[A\u001b[A\u001b[A\n",
            "\n",
            "\n",
            "8383it [00:24, 343.53it/s]\u001b[A\u001b[A\u001b[A\n",
            "\n",
            "\n",
            "8418it [00:25, 344.33it/s]\u001b[A\u001b[A\u001b[A\n",
            "\n",
            "\n",
            "8453it [00:25, 343.10it/s]\u001b[A\u001b[A\u001b[A\n",
            "\n",
            "\n",
            "8488it [00:25, 344.75it/s]\u001b[A\u001b[A\u001b[A\n",
            "\n",
            "\n",
            "8523it [00:25, 337.39it/s]\u001b[A\u001b[A\u001b[A\n",
            "\n",
            "\n",
            "8557it [00:25, 337.08it/s]\u001b[A\u001b[A\u001b[A\n",
            "\n",
            "\n",
            "8592it [00:25, 339.86it/s]\u001b[A\u001b[A\u001b[A\n",
            "\n",
            "\n",
            "8628it [00:25, 343.18it/s]\u001b[A\u001b[A\u001b[A\n",
            "\n",
            "\n",
            "8663it [00:25, 342.83it/s]\u001b[A\u001b[A\u001b[A\n",
            "\n",
            "\n",
            "8698it [00:25, 342.53it/s]\u001b[A\u001b[A\u001b[A\n",
            "\n",
            "\n",
            "8734it [00:26, 344.93it/s]\u001b[A\u001b[A\u001b[A\n",
            "\n",
            "\n",
            "8769it [00:26, 345.00it/s]\u001b[A\u001b[A\u001b[A\n",
            "\n",
            "\n",
            "8804it [00:26, 345.50it/s]\u001b[A\u001b[A\u001b[A\n",
            "\n",
            "\n",
            "8840it [00:26, 346.93it/s]\u001b[A\u001b[A\u001b[A\n",
            "\n",
            "\n",
            "8875it [00:26, 331.27it/s]\u001b[A\u001b[A\u001b[A\n",
            "\n",
            "\n",
            "8909it [00:26, 332.85it/s]\u001b[A\u001b[A\u001b[A\n",
            "\n",
            "\n",
            "8944it [00:26, 337.03it/s]\u001b[A\u001b[A\u001b[A\n",
            "\n",
            "\n",
            "8979it [00:26, 340.53it/s]\u001b[A\u001b[A\u001b[A\n",
            "\n",
            "\n",
            "9014it [00:26, 340.88it/s]\u001b[A\u001b[A\u001b[A\n",
            "\n",
            "\n",
            "9050it [00:26, 344.20it/s]\u001b[A\u001b[A\u001b[A\n",
            "\n",
            "\n",
            "9085it [00:27, 345.13it/s]\u001b[A\u001b[A\u001b[A\n",
            "\n",
            "\n",
            "9121it [00:27, 347.40it/s]\u001b[A\u001b[A\u001b[A\n",
            "\n",
            "\n",
            "9157it [00:27, 349.20it/s]\u001b[A\u001b[A\u001b[A\n",
            "\n",
            "\n",
            "9192it [00:27, 347.17it/s]\u001b[A\u001b[A\u001b[A\n",
            "\n",
            "\n",
            "9227it [00:27, 345.45it/s]\u001b[A\u001b[A\u001b[A\n",
            "\n",
            "\n",
            "9262it [00:27, 341.42it/s]\u001b[A\u001b[A\u001b[A\n",
            "\n",
            "\n",
            "9297it [00:27, 342.72it/s]\u001b[A\u001b[A\u001b[A\n",
            "\n",
            "\n",
            "9332it [00:27, 341.14it/s]\u001b[A\u001b[A\u001b[A\n",
            "\n",
            "\n",
            "9367it [00:27, 340.25it/s]\u001b[A\u001b[A\u001b[A\n",
            "\n",
            "\n",
            "9402it [00:27, 341.91it/s]\u001b[A\u001b[A\u001b[A\n",
            "\n",
            "\n",
            "9437it [00:28, 342.79it/s]\u001b[A\u001b[A\u001b[A\n",
            "\n",
            "\n",
            "9472it [00:28, 342.29it/s]\u001b[A\u001b[A\u001b[A\n",
            "\n",
            "\n",
            "9507it [00:28, 342.60it/s]\u001b[A\u001b[A\u001b[A\n",
            "\n",
            "\n",
            "9542it [00:28, 342.27it/s]\u001b[A\u001b[A\u001b[A\n",
            "\n",
            "\n",
            "9577it [00:28, 343.82it/s]\u001b[A\u001b[A\u001b[A\n",
            "\n",
            "\n",
            "9612it [00:28, 335.80it/s]\u001b[A\u001b[A\u001b[A\n",
            "\n",
            "\n",
            "9647it [00:28, 337.25it/s]\u001b[A\u001b[A\u001b[A\n",
            "\n",
            "\n",
            "9682it [00:28, 338.77it/s]\u001b[A\u001b[A\u001b[A\n",
            "\n",
            "\n",
            "9716it [00:28, 338.67it/s]\u001b[A\u001b[A\u001b[A\n",
            "\n",
            "\n",
            "9751it [00:28, 341.00it/s]\u001b[A\u001b[A\u001b[A\n",
            "\n",
            "\n",
            "9786it [00:29, 342.16it/s]\u001b[A\u001b[A\u001b[A\n",
            "\n",
            "\n",
            "9821it [00:29, 342.85it/s]\u001b[A\u001b[A\u001b[A\n",
            "\n",
            "\n",
            "9856it [00:29, 344.66it/s]\u001b[A\u001b[A\u001b[A\n",
            "\n",
            "\n",
            "9891it [00:29, 344.98it/s]\u001b[A\u001b[A\u001b[A\n",
            "\n",
            "\n",
            "9926it [00:29, 345.27it/s]\u001b[A\u001b[A\u001b[A\n",
            "\n",
            "\n",
            "9961it [00:29, 340.30it/s]\u001b[A\u001b[A\u001b[A\n",
            "\n",
            "\n",
            "9996it [00:29, 342.23it/s]\u001b[A\u001b[A\u001b[A\n",
            "\n",
            "\n",
            "10032it [00:29, 345.37it/s]\u001b[A\u001b[A\u001b[A\n",
            "\n",
            "\n",
            "10067it [00:29, 345.21it/s]\u001b[A\u001b[A\u001b[A\n",
            "\n",
            "\n",
            "10102it [00:30, 344.31it/s]\u001b[A\u001b[A\u001b[A\n",
            "\n",
            "\n",
            "10137it [00:30, 339.95it/s]\u001b[A\u001b[A\u001b[A\n",
            "\n",
            "\n",
            "10172it [00:30, 341.40it/s]\u001b[A\u001b[A\u001b[A\n",
            "\n",
            "\n",
            "10207it [00:30, 342.21it/s]\u001b[A\u001b[A\u001b[A\n",
            "\n",
            "\n",
            "10243it [00:30, 345.34it/s]\u001b[A\u001b[A\u001b[A\n",
            "\n",
            "\n",
            "10278it [00:30, 345.51it/s]\u001b[A\u001b[A\u001b[A\n",
            "\n",
            "\n",
            "10313it [00:30, 335.67it/s]\u001b[A\u001b[A\u001b[A\n",
            "\n",
            "\n",
            "10348it [00:30, 339.80it/s]\u001b[A\u001b[A\u001b[A\n",
            "\n",
            "\n",
            "10383it [00:30, 342.49it/s]\u001b[A\u001b[A\u001b[A\n",
            "\n",
            "\n",
            "10418it [00:30, 344.42it/s]\u001b[A\u001b[A\u001b[A\n",
            "\n",
            "\n",
            "10453it [00:31, 345.46it/s]\u001b[A\u001b[A\u001b[A\n",
            "\n",
            "\n",
            "10488it [00:31, 344.99it/s]\u001b[A\u001b[A\u001b[A\n",
            "\n",
            "\n",
            "10523it [00:31, 346.23it/s]\u001b[A\u001b[A\u001b[A\n",
            "\n",
            "\n",
            "10558it [00:31, 346.31it/s]\u001b[A\u001b[A\u001b[A\n",
            "\n",
            "\n",
            "10593it [00:31, 346.73it/s]\u001b[A\u001b[A\u001b[A\n",
            "\n",
            "\n",
            "10629it [00:31, 347.74it/s]\u001b[A\u001b[A\u001b[A\n",
            "\n",
            "\n",
            "10664it [00:31, 339.12it/s]\u001b[A\u001b[A\u001b[A\n",
            "\n",
            "\n",
            "10699it [00:31, 342.07it/s]\u001b[A\u001b[A\u001b[A\n",
            "\n",
            "\n",
            "10734it [00:31, 343.19it/s]\u001b[A\u001b[A\u001b[A\n",
            "\n",
            "\n",
            "10769it [00:31, 344.23it/s]\u001b[A\u001b[A\u001b[A\n",
            "\n",
            "\n",
            "10804it [00:32, 345.81it/s]\u001b[A\u001b[A\u001b[A\n",
            "\n",
            "\n",
            "10839it [00:32, 345.99it/s]\u001b[A\u001b[A\u001b[A\n",
            "\n",
            "\n",
            "10875it [00:32, 346.67it/s]\u001b[A\u001b[A\u001b[A\n",
            "\n",
            "\n",
            "10910it [00:32, 347.48it/s]\u001b[A\u001b[A\u001b[A\n",
            "\n",
            "\n",
            "10946it [00:32, 348.16it/s]\u001b[A\u001b[A\u001b[A\n",
            "\n",
            "\n",
            "10981it [00:32, 339.38it/s]\u001b[A\u001b[A\u001b[A\n",
            "\n",
            "\n",
            "11015it [00:32, 332.00it/s]\u001b[A\u001b[A\u001b[A\n",
            "\n",
            "\n",
            "11050it [00:32, 335.34it/s]\u001b[A\u001b[A\u001b[A\n",
            "\n",
            "\n",
            "11085it [00:32, 338.11it/s]\u001b[A\u001b[A\u001b[A\n",
            "\n",
            "\n",
            "11120it [00:32, 340.96it/s]\u001b[A\u001b[A\u001b[A\n",
            "\n",
            "\n",
            "11155it [00:33, 343.41it/s]\u001b[A\u001b[A\u001b[A"
          ],
          "name": "stderr"
        }
      ]
    },
    {
      "cell_type": "code",
      "metadata": {
        "id": "C7cJ7bE0HzY2",
        "colab_type": "code",
        "colab": {}
      },
      "source": [
        "df_temp_test = df_test\n"
      ],
      "execution_count": 0,
      "outputs": []
    },
    {
      "cell_type": "code",
      "metadata": {
        "id": "dk6h6kSCIYxv",
        "colab_type": "code",
        "colab": {}
      },
      "source": [
        "df_temp_test= df_temp_test.drop(columns=['comment_text'])\n",
        "df_temp_test.to_csv(\"submission.csv\",index=False)\n",
        "df_temp_test"
      ],
      "execution_count": 0,
      "outputs": []
    },
    {
      "cell_type": "code",
      "metadata": {
        "id": "RhnttoA4HL_S",
        "colab_type": "code",
        "colab": {}
      },
      "source": [
        "!ls"
      ],
      "execution_count": 0,
      "outputs": []
    },
    {
      "cell_type": "code",
      "metadata": {
        "id": "BQsHwXrZHXlH",
        "colab_type": "code",
        "colab": {}
      },
      "source": [
        "from google.colab import files\n",
        "files.download('submission.csv')"
      ],
      "execution_count": 0,
      "outputs": []
    },
    {
      "cell_type": "code",
      "metadata": {
        "id": "SL2TcckdHeAL",
        "colab_type": "code",
        "colab": {}
      },
      "source": [
        ""
      ],
      "execution_count": 0,
      "outputs": []
    }
  ]
}