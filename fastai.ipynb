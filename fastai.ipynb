{
  "nbformat": 4,
  "nbformat_minor": 0,
  "metadata": {
    "colab": {
      "name": "fastai.ipynb",
      "version": "0.3.2",
      "provenance": [],
      "include_colab_link": true
    },
    "kernelspec": {
      "name": "python3",
      "display_name": "Python 3"
    },
    "accelerator": "GPU"
  },
  "cells": [
    {
      "cell_type": "markdown",
      "metadata": {
        "id": "view-in-github",
        "colab_type": "text"
      },
      "source": [
        "<a href=\"https://colab.research.google.com/github/shikhar00778/toxic-comment-classification/blob/master/fastai.ipynb\" target=\"_parent\"><img src=\"https://colab.research.google.com/assets/colab-badge.svg\" alt=\"Open In Colab\"/></a>"
      ]
    },
    {
      "cell_type": "code",
      "metadata": {
        "id": "So2Rz250FUkQ",
        "colab_type": "code",
        "colab": {
          "base_uri": "https://localhost:8080/",
          "height": 122
        },
        "outputId": "f82ed3c8-fcc1-4a86-db7f-77a21772344c"
      },
      "source": [
        "from google.colab import drive\n",
        "drive.mount('/content/drive')"
      ],
      "execution_count": 4,
      "outputs": [
        {
          "output_type": "stream",
          "text": [
            "Go to this URL in a browser: https://accounts.google.com/o/oauth2/auth?client_id=947318989803-6bn6qk8qdgf4n4g3pfee6491hc0brc4i.apps.googleusercontent.com&redirect_uri=urn%3Aietf%3Awg%3Aoauth%3A2.0%3Aoob&scope=email%20https%3A%2F%2Fwww.googleapis.com%2Fauth%2Fdocs.test%20https%3A%2F%2Fwww.googleapis.com%2Fauth%2Fdrive%20https%3A%2F%2Fwww.googleapis.com%2Fauth%2Fdrive.photos.readonly%20https%3A%2F%2Fwww.googleapis.com%2Fauth%2Fpeopleapi.readonly&response_type=code\n",
            "\n",
            "Enter your authorization code:\n",
            "··········\n",
            "Mounted at /content/drive\n"
          ],
          "name": "stdout"
        }
      ]
    },
    {
      "cell_type": "code",
      "metadata": {
        "id": "E1bSfs73FwG9",
        "colab_type": "code",
        "colab": {}
      },
      "source": [
        "!cp drive/'My Drive'/jigsaw-toxic-comment-classification-challenge.zip ."
      ],
      "execution_count": 0,
      "outputs": []
    },
    {
      "cell_type": "code",
      "metadata": {
        "id": "xOsXhD8eF2pY",
        "colab_type": "code",
        "colab": {
          "base_uri": "https://localhost:8080/",
          "height": 102
        },
        "outputId": "ec8fd022-a1e8-4dc4-f995-1d66671ac5e5"
      },
      "source": [
        "!unzip jigsaw-toxic-comment-classification-challenge.zip"
      ],
      "execution_count": 22,
      "outputs": [
        {
          "output_type": "stream",
          "text": [
            "Archive:  jigsaw-toxic-comment-classification-challenge.zip\n",
            "  inflating: test_labels.csv         \n",
            "  inflating: sample_submission.csv   \n",
            "  inflating: test.csv                \n",
            "  inflating: train.csv               \n"
          ],
          "name": "stdout"
        }
      ]
    },
    {
      "cell_type": "code",
      "metadata": {
        "id": "s56Zxp-5HFgW",
        "colab_type": "code",
        "colab": {}
      },
      "source": [
        "import pandas as pd\n",
        "import numpy as np"
      ],
      "execution_count": 0,
      "outputs": []
    },
    {
      "cell_type": "code",
      "metadata": {
        "id": "o4F2jChdHMjl",
        "colab_type": "code",
        "colab": {}
      },
      "source": [
        "df = pd.read_csv(\"train.csv\")"
      ],
      "execution_count": 0,
      "outputs": []
    },
    {
      "cell_type": "code",
      "metadata": {
        "id": "j4KKnW2JHQFx",
        "colab_type": "code",
        "colab": {}
      },
      "source": [
        "arr = df.columns"
      ],
      "execution_count": 0,
      "outputs": []
    },
    {
      "cell_type": "code",
      "metadata": {
        "id": "zx_5650WHVG9",
        "colab_type": "code",
        "colab": {
          "base_uri": "https://localhost:8080/",
          "height": 34
        },
        "outputId": "e5cce97a-197d-4036-b5b2-2615d8ca150d"
      },
      "source": [
        "classes = arr[2:]\n",
        "classes = np.asarray(classes)\n",
        "classes = classes.tolist()\n",
        "classes"
      ],
      "execution_count": 32,
      "outputs": [
        {
          "output_type": "execute_result",
          "data": {
            "text/plain": [
              "['toxic', 'severe_toxic', 'obscene', 'threat', 'insult', 'identity_hate']"
            ]
          },
          "metadata": {
            "tags": []
          },
          "execution_count": 32
        }
      ]
    },
    {
      "cell_type": "code",
      "metadata": {
        "id": "ads0zcTjHZGX",
        "colab_type": "code",
        "colab": {}
      },
      "source": [
        "data=[]\n",
        "lab=[]\n",
        "for row,index in df.iterrows():\n",
        "  temp=[]\n",
        "  for class_name in classes:\n",
        "    if index[class_name]==1:\n",
        "      temp.append(class_name)\n",
        "    if len(temp)==0: \n",
        "      temp.append(\"no_class\")\n",
        "  temp = ' '.join(temp)\n",
        "  lab.append(temp)\n",
        "  data.append(index[\"comment_text\"])\n",
        "X = pd.DataFrame({\"text\":data,\"labels\":lab})"
      ],
      "execution_count": 0,
      "outputs": []
    },
    {
      "cell_type": "code",
      "metadata": {
        "id": "aLqxIsxxK9vZ",
        "colab_type": "code",
        "colab": {}
      },
      "source": [
        "X.to_csv(\"train.csv\",index=False)"
      ],
      "execution_count": 0,
      "outputs": []
    },
    {
      "cell_type": "code",
      "metadata": {
        "id": "xE8vjC-jLnaj",
        "colab_type": "code",
        "colab": {}
      },
      "source": [
        "from fastai.text import *\n",
        "path = '.'"
      ],
      "execution_count": 0,
      "outputs": []
    },
    {
      "cell_type": "code",
      "metadata": {
        "id": "blwc8-CvLb7c",
        "colab_type": "code",
        "colab": {}
      },
      "source": [
        "data_lm = TextDataBunch.from_csv(path, 'train.csv', text_cols=0,label_cols=1,label_delim=\" \")"
      ],
      "execution_count": 0,
      "outputs": []
    },
    {
      "cell_type": "code",
      "metadata": {
        "id": "ODvcOd-ULyVz",
        "colab_type": "code",
        "colab": {
          "base_uri": "https://localhost:8080/",
          "height": 340
        },
        "outputId": "78810bac-52e2-4b77-d5a8-86ad146cb5fa"
      },
      "source": [
        "data_lm.show_batch()"
      ],
      "execution_count": 68,
      "outputs": [
        {
          "output_type": "display_data",
          "data": {
            "text/html": [
              "<table border=\"1\" class=\"dataframe\">\n",
              "  <thead>\n",
              "    <tr style=\"text-align: right;\">\n",
              "      <th>text</th>\n",
              "      <th>target</th>\n",
              "    </tr>\n",
              "  </thead>\n",
              "  <tbody>\n",
              "    <tr>\n",
              "      <td>xxbos xxmaj take that ! \\n \\n  xxup in xxup the xxup ass xxup in xxup the xxup ass xxup in xxup the xxup ass xxup in xxup the xxup ass xxup in xxup the xxup ass xxup in xxup the xxup ass xxup in xxup the xxup ass xxup in xxup the xxup ass xxup in xxup the xxup ass xxup in xxup the xxup ass xxup in</td>\n",
              "      <td>obscene;severe_toxic;toxic</td>\n",
              "    </tr>\n",
              "    <tr>\n",
              "      <td>xxbos xxup shut xxup the xxup fuck xxup up ! \\n  xxup shut xxup the xxup fuck xxup up ! \\n  xxup shut xxup the xxup fuck xxup up ! \\n  xxup shut xxup the xxup fuck xxup up ! \\n  xxup shut xxup the xxup fuck xxup up ! \\n  xxup shut xxup the xxup fuck xxup up ! \\n  xxup shut xxup</td>\n",
              "      <td>obscene;severe_toxic;toxic</td>\n",
              "    </tr>\n",
              "    <tr>\n",
              "      <td>xxbos xxup lmao xxup what xxup weak xxup threats , i xxup havent xxup been xxup banned xxup yet xxup bitch , xxup go xxup vandalism xxup lmao xxup what xxup weak xxup threats , i xxup havent xxup been xxup banned xxup yet xxup bitch , xxup go xxup vandalism xxup lmao xxup what xxup weak xxup threats , i xxup havent xxup been xxup banned xxup yet xxup</td>\n",
              "      <td>insult;obscene;severe_toxic;toxic</td>\n",
              "    </tr>\n",
              "    <tr>\n",
              "      <td>xxbos i xxup can xxup still xxup post xxup with xxup this xxup computer ... i xxup said xxup block xxup me , xxup come xxup the xxup fuck xxup down xxup here xxup and xxup arrest xxup me ... xxup san xxup diego xxup california , xxup chula xxup vista , xxup fucking xxup get xxup your xxup information xxup right xxup faggot shithead!!i xxup can xxup still xxup</td>\n",
              "      <td>insult;obscene;severe_toxic;toxic</td>\n",
              "    </tr>\n",
              "    <tr>\n",
              "      <td>xxbos wiki xxup noobs wiki xxup noobs wiki xxup noobs wiki xxup noobs wiki xxup noobs wiki xxup noobs wiki xxup noobs wiki xxup noobs wiki xxup noobs wiki xxup noobs wiki xxup noobs wiki xxup noobs wiki xxup noobs wiki xxup noobs wiki xxup noobs wiki xxup noobs wiki xxup noobs wiki xxup noobs wiki xxup noobs wiki xxup noobs wiki xxup noobs wiki xxup noobs wiki xxup noobs</td>\n",
              "      <td>toxic</td>\n",
              "    </tr>\n",
              "  </tbody>\n",
              "</table>"
            ],
            "text/plain": [
              "<IPython.core.display.HTML object>"
            ]
          },
          "metadata": {
            "tags": []
          }
        }
      ]
    },
    {
      "cell_type": "code",
      "metadata": {
        "id": "YcySVSyDOe8G",
        "colab_type": "code",
        "colab": {}
      },
      "source": [
        "!mv data_save.pkl tmp_lm/"
      ],
      "execution_count": 0,
      "outputs": []
    },
    {
      "cell_type": "code",
      "metadata": {
        "id": "jM0QnJo_ORdb",
        "colab_type": "code",
        "colab": {
          "base_uri": "https://localhost:8080/",
          "height": 340
        },
        "outputId": "95c0219d-8f76-45e4-e481-6090d5de7822"
      },
      "source": [
        "#data_lm.save()\n",
        "data = load_data(\"tmp_lm/\",bs=64)\n",
        "data.show_batch()"
      ],
      "execution_count": 8,
      "outputs": [
        {
          "output_type": "display_data",
          "data": {
            "text/html": [
              "<table border=\"1\" class=\"dataframe\">\n",
              "  <thead>\n",
              "    <tr style=\"text-align: right;\">\n",
              "      <th>text</th>\n",
              "      <th>target</th>\n",
              "    </tr>\n",
              "  </thead>\n",
              "  <tbody>\n",
              "    <tr>\n",
              "      <td>xxbos xxmaj take that ! \\n \\n  xxup in xxup the xxup ass xxup in xxup the xxup ass xxup in xxup the xxup ass xxup in xxup the xxup ass xxup in xxup the xxup ass xxup in xxup the xxup ass xxup in xxup the xxup ass xxup in xxup the xxup ass xxup in xxup the xxup ass xxup in xxup the xxup ass xxup in</td>\n",
              "      <td>obscene;severe_toxic;toxic</td>\n",
              "    </tr>\n",
              "    <tr>\n",
              "      <td>xxbos xxup suck xxup my xxup cock d xxup suck xxup my xxup cock d xxup suck xxup my xxup cock d xxup suck xxup my xxup cock d xxup suck xxup my xxup cock d xxup suck xxup my xxup cock d xxup suck xxup my xxup cock d xxup suck xxup my xxup cock d xxup suck xxup my xxup cock d xxup suck xxup my xxup cock</td>\n",
              "      <td>insult;obscene;severe_toxic;toxic</td>\n",
              "    </tr>\n",
              "    <tr>\n",
              "      <td>xxbos xxmaj yo \\n \\n  xxup fuck xxup you xxup bitch!!fuck xxup you xxup bitch!!fuck xxup you xxup bitch!!fuck xxup you xxup bitch!!fuck xxup you xxup bitch!!fuck xxup you xxup bitch!!fuck xxup you xxup bitch!!fuck xxup you xxup bitch!!fuck xxup you xxup bitch!!fuck xxup you xxup bitch!!fuck xxup you xxup bitch!!fuck xxup you xxup bitch!!fuck xxup you xxup bitch!!fuck xxup you xxup bitch!!fuck xxup you xxup bitch!!fuck xxup you</td>\n",
              "      <td>insult;obscene;severe_toxic;toxic</td>\n",
              "    </tr>\n",
              "    <tr>\n",
              "      <td>xxbos \" \\n  xxmaj dear xxmaj val , who is also a mormon [ or a parrots , ' ai n't sure ] \\n \\n  i found very strange that each time i am answering to one wikipedian / mormons question , it is another who react to it instead of the one to whom it is adress to . \\n  i do not see why you</td>\n",
              "      <td>no_class</td>\n",
              "    </tr>\n",
              "    <tr>\n",
              "      <td>xxbos xxup ceremonies xxup at xxup mindrolling xxup monastery \\n \\n  xxmaj vajrasattva xxmaj drubchen- 10th xxmaj day of 1st xxmaj lunar xxmaj month \\n \\n  xxmaj the xxmaj vajrasattva xxmaj drubchen is a seven day ceremony based on the xxmaj xxunk xxmaj xxunk or xxmaj mindrolling xxmaj vajrasattva ritual . xxmaj xxunk xxmaj xxunk is part of the xxmaj vajrasattva cycle of teachings discovered by xxmaj chogyal</td>\n",
              "      <td>no_class</td>\n",
              "    </tr>\n",
              "  </tbody>\n",
              "</table>"
            ],
            "text/plain": [
              "<IPython.core.display.HTML object>"
            ]
          },
          "metadata": {
            "tags": []
          }
        }
      ]
    },
    {
      "cell_type": "code",
      "metadata": {
        "id": "-LhdwoSGQzKn",
        "colab_type": "code",
        "colab": {}
      },
      "source": [
        "### dont run language model. out of memory error"
      ],
      "execution_count": 0,
      "outputs": []
    },
    {
      "cell_type": "code",
      "metadata": {
        "id": "verdQBe_Pxet",
        "colab_type": "code",
        "colab": {}
      },
      "source": [
        "learn = language_model_learner(data, arch=AWD_LSTM, drop_mult=0.3)\n"
      ],
      "execution_count": 0,
      "outputs": []
    },
    {
      "cell_type": "code",
      "metadata": {
        "id": "NYPIypnlPxkK",
        "colab_type": "code",
        "colab": {}
      },
      "source": [
        "learn.fit_one_cycle(1, 1e-2, moms=(0.8,0.7))\n"
      ],
      "execution_count": 0,
      "outputs": []
    },
    {
      "cell_type": "code",
      "metadata": {
        "id": "TRtyx0FbP7By",
        "colab_type": "code",
        "colab": {}
      },
      "source": [
        "learn.unfreeze()\n",
        "learn.fit_one_cycle(10, 1e-3, moms=(0.8,0.7))"
      ],
      "execution_count": 0,
      "outputs": []
    },
    {
      "cell_type": "code",
      "metadata": {
        "id": "xGUVm6JJP-5E",
        "colab_type": "code",
        "colab": {}
      },
      "source": [
        "learn.save_encoder('fine_tuned_enc')\n"
      ],
      "execution_count": 0,
      "outputs": []
    },
    {
      "cell_type": "code",
      "metadata": {
        "id": "fA3zme0XRAPW",
        "colab_type": "code",
        "colab": {}
      },
      "source": [
        "#run from here"
      ],
      "execution_count": 0,
      "outputs": []
    },
    {
      "cell_type": "code",
      "metadata": {
        "id": "O4v3ybODMxAS",
        "colab_type": "code",
        "colab": {}
      },
      "source": [
        "learn = text_classifier_learner(data, drop_mult=0.5, arch=AWD_LSTM, metrics=accuracy)\n",
        "#learn.load_encoder('fine_tuned_enc')\n",
        "learn.freeze()\n",
        "\n"
      ],
      "execution_count": 0,
      "outputs": []
    },
    {
      "cell_type": "code",
      "metadata": {
        "id": "na_zd36gNy3y",
        "colab_type": "code",
        "colab": {
          "base_uri": "https://localhost:8080/",
          "height": 34
        },
        "outputId": "48e565bb-a37a-4a18-a123-f4ff6082a99b"
      },
      "source": [
        "learn.lr_find()\n"
      ],
      "execution_count": 10,
      "outputs": [
        {
          "output_type": "display_data",
          "data": {
            "text/html": [
              ""
            ],
            "text/plain": [
              "<IPython.core.display.HTML object>"
            ]
          },
          "metadata": {
            "tags": []
          }
        },
        {
          "output_type": "stream",
          "text": [
            "LR Finder is complete, type {learner_name}.recorder.plot() to see the graph.\n"
          ],
          "name": "stdout"
        }
      ]
    },
    {
      "cell_type": "code",
      "metadata": {
        "id": "BWk5RHqoN0aQ",
        "colab_type": "code",
        "colab": {
          "base_uri": "https://localhost:8080/",
          "height": 95
        },
        "outputId": "3852f75b-14ac-46e7-c4fd-ed17a7cc57b5"
      },
      "source": [
        "learn.fit_one_cycle(1, 2e-2, moms=(0.8,0.7))\n"
      ],
      "execution_count": 0,
      "outputs": [
        {
          "output_type": "display_data",
          "data": {
            "text/html": [
              "\n",
              "    <div>\n",
              "        <style>\n",
              "            /* Turns off some styling */\n",
              "            progress {\n",
              "                /* gets rid of default border in Firefox and Opera. */\n",
              "                border: none;\n",
              "                /* Needs to be in here for Safari polyfill so background images work as expected. */\n",
              "                background-size: auto;\n",
              "            }\n",
              "            .progress-bar-interrupted, .progress-bar-interrupted::-webkit-progress-bar {\n",
              "                background: #F44336;\n",
              "            }\n",
              "        </style>\n",
              "      <progress value='0' class='' max='1', style='width:300px; height:20px; vertical-align: middle;'></progress>\n",
              "      0.00% [0/1 00:00<00:00]\n",
              "    </div>\n",
              "    \n",
              "<table border=\"1\" class=\"dataframe\">\n",
              "  <thead>\n",
              "    <tr style=\"text-align: left;\">\n",
              "      <th>epoch</th>\n",
              "      <th>train_loss</th>\n",
              "      <th>valid_loss</th>\n",
              "      <th>accuracy</th>\n",
              "      <th>time</th>\n",
              "    </tr>\n",
              "  </thead>\n",
              "  <tbody>\n",
              "  </tbody>\n",
              "</table><p>\n",
              "\n",
              "    <div>\n",
              "        <style>\n",
              "            /* Turns off some styling */\n",
              "            progress {\n",
              "                /* gets rid of default border in Firefox and Opera. */\n",
              "                border: none;\n",
              "                /* Needs to be in here for Safari polyfill so background images work as expected. */\n",
              "                background-size: auto;\n",
              "            }\n",
              "            .progress-bar-interrupted, .progress-bar-interrupted::-webkit-progress-bar {\n",
              "                background: #F44336;\n",
              "            }\n",
              "        </style>\n",
              "      <progress value='462' class='' max='1994', style='width:300px; height:20px; vertical-align: middle;'></progress>\n",
              "      23.17% [462/1994 01:05<03:36 0.1601]\n",
              "    </div>\n",
              "    "
            ],
            "text/plain": [
              "<IPython.core.display.HTML object>"
            ]
          },
          "metadata": {
            "tags": []
          }
        }
      ]
    },
    {
      "cell_type": "code",
      "metadata": {
        "id": "JGlOqg1IPgdv",
        "colab_type": "code",
        "colab": {}
      },
      "source": [
        "learn.save('first')\n",
        "learn.load('first');\n"
      ],
      "execution_count": 0,
      "outputs": []
    },
    {
      "cell_type": "code",
      "metadata": {
        "id": "9kSTQUfPPjSR",
        "colab_type": "code",
        "colab": {}
      },
      "source": [
        "learn.freeze_to(-2)\n",
        "learn.fit_one_cycle(1, slice(1e-2/(2.6**4),1e-2), moms=(0.8,0.7))"
      ],
      "execution_count": 0,
      "outputs": []
    },
    {
      "cell_type": "code",
      "metadata": {
        "id": "q6TbKk8tPmuq",
        "colab_type": "code",
        "colab": {}
      },
      "source": [
        "learn.save('second')\n",
        "learn.load('second');\n"
      ],
      "execution_count": 0,
      "outputs": []
    },
    {
      "cell_type": "code",
      "metadata": {
        "id": "TSEQ8jTXPoXU",
        "colab_type": "code",
        "colab": {}
      },
      "source": [
        "learn.freeze_to(-3)\n",
        "learn.fit_one_cycle(1, slice(5e-3/(2.6**4),5e-3), moms=(0.8,0.7))"
      ],
      "execution_count": 0,
      "outputs": []
    },
    {
      "cell_type": "code",
      "metadata": {
        "id": "W47He4PAPp84",
        "colab_type": "code",
        "colab": {}
      },
      "source": [
        "learn.save('third')\n",
        "learn.load('third');\n"
      ],
      "execution_count": 0,
      "outputs": []
    },
    {
      "cell_type": "code",
      "metadata": {
        "id": "2csQPs5PPsCN",
        "colab_type": "code",
        "colab": {}
      },
      "source": [
        "learn.unfreeze()\n",
        "learn.fit_one_cycle(2, slice(1e-3/(2.6**4),1e-3), moms=(0.8,0.7))"
      ],
      "execution_count": 0,
      "outputs": []
    }
  ]
}