{
  "nbformat": 4,
  "nbformat_minor": 0,
  "metadata": {
    "colab": {
      "name": "FFT Logmel.ipynb",
      "version": "0.3.2",
      "provenance": [],
      "collapsed_sections": [],
      "include_colab_link": true
    },
    "kernelspec": {
      "name": "python3",
      "display_name": "Python 3"
    },
    "accelerator": "GPU"
  },
  "cells": [
    {
      "cell_type": "markdown",
      "metadata": {
        "id": "view-in-github",
        "colab_type": "text"
      },
      "source": [
        "<a href=\"https://colab.research.google.com/github/shikhar00778/toxic-comment-classification/blob/master/FFT_Logmel.ipynb\" target=\"_parent\"><img src=\"https://colab.research.google.com/assets/colab-badge.svg\" alt=\"Open In Colab\"/></a>"
      ]
    },
    {
      "cell_type": "code",
      "metadata": {
        "id": "LIj_Ft3bxVwq",
        "colab_type": "code",
        "colab": {}
      },
      "source": [
        "import requests \n",
        "from bs4 import BeautifulSoup "
      ],
      "execution_count": 0,
      "outputs": []
    },
    {
      "cell_type": "code",
      "metadata": {
        "id": "vKWkA5KbxWV4",
        "colab_type": "code",
        "colab": {}
      },
      "source": [
        "\n",
        "  \n",
        "def get_video_links(): \n",
        "      \n",
        "    # create response object \n",
        "    r = requests.get(archive_url) \n",
        "      \n",
        "    # create beautiful-soup object \n",
        "    soup = BeautifulSoup(r.content,'html5lib') \n",
        "      \n",
        "    # find all links on web-page \n",
        "    links = soup.findAll('a') \n",
        "    #print(links)\n",
        "    # filter the link sending with .mp4 \n",
        "    video_links = [archive_url + link['href'] for link in links if link['href'].endswith('tgz')] \n",
        "  \n",
        "    return video_links "
      ],
      "execution_count": 0,
      "outputs": []
    },
    {
      "cell_type": "code",
      "metadata": {
        "id": "uqHoBPKsyJCG",
        "colab_type": "code",
        "colab": {}
      },
      "source": [
        "def download_video_series(video_links , language): \n",
        "  \n",
        "    for link in tqdm.tqdm(video_links): \n",
        "  \n",
        "        \n",
        "        if not os.path.exists(language):\n",
        "          os.makedirs(language)\n",
        "        \n",
        "        file_name = os.path.join(language,link.split('/')[-1])    \n",
        "  \n",
        "        #print(\"Downloading file\" , file_name) \n",
        "          \n",
        "        # create response object \n",
        "        r = requests.get(link, stream = True) \n",
        "          \n",
        "        # download started \n",
        "        with open(file_name, 'wb') as f: \n",
        "            for chunk in r.iter_content(chunk_size = 1024*1024): \n",
        "                if chunk: \n",
        "                    f.write(chunk) \n",
        "          \n",
        "        #print(\"downloaded!\",file_name)\n",
        "  \n",
        "    #print(\"All videos downloaded!\")\n",
        "    return"
      ],
      "execution_count": 0,
      "outputs": []
    },
    {
      "cell_type": "code",
      "metadata": {
        "id": "DMfi91j50O1c",
        "colab_type": "code",
        "colab": {}
      },
      "source": [
        "lang = ['en' , 'es' , 'fr' , 'it' , 'de' , 'ru']"
      ],
      "execution_count": 0,
      "outputs": []
    },
    {
      "cell_type": "code",
      "metadata": {
        "id": "3TAZ77Je8kTT",
        "colab_type": "code",
        "colab": {}
      },
      "source": [
        "import os\n",
        "import tqdm"
      ],
      "execution_count": 0,
      "outputs": []
    },
    {
      "cell_type": "code",
      "metadata": {
        "id": "0mNuUWhE0h16",
        "colab_type": "code",
        "outputId": "17d73c98-4062-4826-f6e7-358b0ab65d53",
        "colab": {
          "base_uri": "https://localhost:8080/",
          "height": 119
        }
      },
      "source": [
        "\n",
        "\n",
        "for j in lang:\n",
        "  archive_url = \"http://www.repository.voxforge1.org/downloads/\"+j+\"/Trunk/Audio/Main/8kHz_16bit/\"\n",
        "  video_links = get_video_links()[:1000]\n",
        "  download_video_series(video_links , j)\n",
        "  "
      ],
      "execution_count": 0,
      "outputs": [
        {
          "output_type": "stream",
          "text": [
            "100%|██████████| 1000/1000 [06:25<00:00,  2.55it/s]\n",
            "100%|██████████| 1000/1000 [07:02<00:00,  2.35it/s]\n",
            "100%|██████████| 1000/1000 [06:37<00:00,  2.61it/s]\n",
            "100%|██████████| 1000/1000 [06:46<00:00,  2.45it/s]\n",
            "100%|██████████| 1000/1000 [07:07<00:00,  2.59it/s]\n",
            "100%|██████████| 646/646 [04:59<00:00,  2.34it/s]\n"
          ],
          "name": "stderr"
        }
      ]
    },
    {
      "cell_type": "code",
      "metadata": {
        "id": "hjWmcNnTxifI",
        "colab_type": "code",
        "outputId": "a13a3c50-c80d-4250-d9b0-31d2bb768bec",
        "colab": {
          "base_uri": "https://localhost:8080/",
          "height": 34
        }
      },
      "source": [
        "!ls"
      ],
      "execution_count": 0,
      "outputs": [
        {
          "output_type": "stream",
          "text": [
            "de  en\tes  fr\tit  ru\tsample_data\n"
          ],
          "name": "stdout"
        }
      ]
    },
    {
      "cell_type": "code",
      "metadata": {
        "id": "CbgcYUiM8RiE",
        "colab_type": "code",
        "colab": {}
      },
      "source": [
        "!mkdir data"
      ],
      "execution_count": 0,
      "outputs": []
    },
    {
      "cell_type": "code",
      "metadata": {
        "id": "D3TBIYCf75rK",
        "colab_type": "code",
        "colab": {}
      },
      "source": [
        "for j in lang:\n",
        "  for files in os.listdir(j):\n",
        "    \n",
        "    tmp_path = os.path.join('data',j)\n",
        "    \n",
        "    if not os.path.exists(tmp_path):\n",
        "      os.makedirs(tmp_path)\n",
        "    \n",
        "    cmd = \"tar -xvzf \"+os.path.join(j,files)+\" -C \"+ tmp_path\n",
        "    os.system(cmd)"
      ],
      "execution_count": 0,
      "outputs": []
    },
    {
      "cell_type": "code",
      "metadata": {
        "id": "S8XtYOqn98GH",
        "colab_type": "code",
        "outputId": "ba19b8dc-4f12-45cf-9e4d-32f584ec06cf",
        "colab": {
          "base_uri": "https://localhost:8080/",
          "height": 34
        }
      },
      "source": [
        "!ls data"
      ],
      "execution_count": 0,
      "outputs": [
        {
          "output_type": "stream",
          "text": [
            "de  en\tes  fr\tit  ru\n"
          ],
          "name": "stdout"
        }
      ]
    },
    {
      "cell_type": "code",
      "metadata": {
        "id": "W0dQcDLZA5Sb",
        "colab_type": "code",
        "outputId": "d0088d23-a239-4bd9-bf5f-ad1db62a1c15",
        "colab": {
          "base_uri": "https://localhost:8080/",
          "height": 51
        }
      },
      "source": [
        "!ls data/en/1337ad-20170321-ajg/wav\n"
      ],
      "execution_count": 0,
      "outputs": [
        {
          "output_type": "stream",
          "text": [
            "en-0532.wav  en-0534.wav  en-0536.wav  en-0538.wav  en-0540.wav\n",
            "en-0533.wav  en-0535.wav  en-0537.wav  en-0539.wav  en-0541.wav\n"
          ],
          "name": "stdout"
        }
      ]
    },
    {
      "cell_type": "code",
      "metadata": {
        "id": "7RZs9BCtDKDh",
        "colab_type": "code",
        "colab": {}
      },
      "source": [
        "!mkdir wav_data"
      ],
      "execution_count": 0,
      "outputs": []
    },
    {
      "cell_type": "code",
      "metadata": {
        "id": "tbPqsrvJDQ5I",
        "colab_type": "code",
        "outputId": "28a4e1b9-4fcd-437d-be44-8fb6cb1e6edd",
        "colab": {
          "base_uri": "https://localhost:8080/",
          "height": 34
        }
      },
      "source": [
        "!ls"
      ],
      "execution_count": 0,
      "outputs": [
        {
          "output_type": "stream",
          "text": [
            "data  de  en  es  fr  it  ru  sample_data  wav_data\n"
          ],
          "name": "stdout"
        }
      ]
    },
    {
      "cell_type": "code",
      "metadata": {
        "id": "1EQgn-Z4TfFS",
        "colab_type": "code",
        "outputId": "1966c9c5-4735-479b-fa66-b315ce61b91f",
        "colab": {
          "base_uri": "https://localhost:8080/",
          "height": 34
        }
      },
      "source": [
        "t = 1\n",
        "for root, dirs, files in tqdm.tqdm(os.walk(\"data\")):\n",
        "    \n",
        "        \n",
        "    prefix = os.path.basename(root)\n",
        "    for f in files:\n",
        "      if len(f.split('.')) > 1 and f.split('.')[1] == 'wav':\n",
        "        os.rename(os.path.join(root, f), os.path.join(root ,f.split('.')[0]+'_'+str(t)+'.wav'))\n",
        "        t = t+1"
      ],
      "execution_count": 0,
      "outputs": [
        {
          "output_type": "stream",
          "text": [
            "16951it [00:03, 4999.08it/s]\n"
          ],
          "name": "stderr"
        }
      ]
    },
    {
      "cell_type": "code",
      "metadata": {
        "id": "NO8V63IKhKFM",
        "colab_type": "code",
        "outputId": "61b3852f-5354-4870-cba5-a56d8e490d71",
        "colab": {
          "base_uri": "https://localhost:8080/",
          "height": 68
        }
      },
      "source": [
        "!ls data/en/1028-20100710-hne/wav"
      ],
      "execution_count": 0,
      "outputs": [
        {
          "output_type": "stream",
          "text": [
            "ar-01_60247.wav  ar-04_60252.wav  ar-07_60246.wav  rp-31_60251.wav\n",
            "ar-02_60255.wav  ar-05_60250.wav  rp-29_60248.wav\n",
            "ar-03_60249.wav  ar-06_60253.wav  rp-30_60254.wav\n"
          ],
          "name": "stdout"
        }
      ]
    },
    {
      "cell_type": "code",
      "metadata": {
        "id": "ZEl9cG0gtHhP",
        "colab_type": "code",
        "colab": {}
      },
      "source": [
        "!mkdir fast/train"
      ],
      "execution_count": 0,
      "outputs": []
    },
    {
      "cell_type": "code",
      "metadata": {
        "id": "601PewUxDA_-",
        "colab_type": "code",
        "colab": {}
      },
      "source": [
        "for j in lang:\n",
        "  tmp_path = os.path.join('wav_data',j) \n",
        "  \n",
        "  if not os.path.exists(tmp_path):\n",
        "    os.makedirs(tmp_path)    \n",
        "    \n",
        "  cmd = 'find data/'+j+'/ -name \"*.wav\" -type f -exec cp {} ./wav_data/'+j+'/ \\;'\n",
        "  os.system(cmd)"
      ],
      "execution_count": 0,
      "outputs": []
    },
    {
      "cell_type": "code",
      "metadata": {
        "id": "S2emGiMZCpP0",
        "colab_type": "code",
        "outputId": "35f99b13-925f-4b27-f82b-9168ffa5202d",
        "colab": {
          "base_uri": "https://localhost:8080/",
          "height": 34
        }
      },
      "source": [
        "!ls wav_data/ru/  -l | wc -l"
      ],
      "execution_count": 0,
      "outputs": [
        {
          "output_type": "stream",
          "text": [
            "9372\n"
          ],
          "name": "stdout"
        }
      ]
    },
    {
      "cell_type": "code",
      "metadata": {
        "id": "XJypKGTkk2rr",
        "colab_type": "code",
        "colab": {}
      },
      "source": [
        "lang_dict= {'en':1,'es':2,'it':3,'ru':4,'de':5,'fr':6}"
      ],
      "execution_count": 0,
      "outputs": []
    },
    {
      "cell_type": "code",
      "metadata": {
        "id": "utZBAAtTTHB8",
        "colab_type": "code",
        "colab": {}
      },
      "source": [
        "file_list = []\n",
        "label = []\n",
        "for folder in os.listdir(\"wav_data\"):\n",
        "  files = os.listdir(\"wav_data/\"+folder)\n",
        "  files = files[:1000]\n",
        "  for file in files:\n",
        "    file_list.append(\"wav_data/\"+folder+\"/\"+file)\n",
        "    label.append(lang_dict[folder])"
      ],
      "execution_count": 0,
      "outputs": []
    },
    {
      "cell_type": "code",
      "metadata": {
        "id": "81-gY_lFlpRf",
        "colab_type": "code",
        "outputId": "53400c57-bfe2-4cc3-cfc3-cd0a8c1c81f3",
        "colab": {
          "base_uri": "https://localhost:8080/",
          "height": 34
        }
      },
      "source": [
        "len(label)"
      ],
      "execution_count": 0,
      "outputs": [
        {
          "output_type": "execute_result",
          "data": {
            "text/plain": [
              "6000"
            ]
          },
          "metadata": {
            "tags": []
          },
          "execution_count": 30
        }
      ]
    },
    {
      "cell_type": "code",
      "metadata": {
        "id": "P2ue_i3Qltm_",
        "colab_type": "code",
        "colab": {}
      },
      "source": [
        "import pandas as pd\n",
        "df = pd.DataFrame({\"file\":file_list,\"label\":label})"
      ],
      "execution_count": 0,
      "outputs": []
    },
    {
      "cell_type": "code",
      "metadata": {
        "id": "1OtLllrjl7zC",
        "colab_type": "code",
        "outputId": "2c741c66-9bdf-4322-f83a-607f62b51e97",
        "colab": {
          "base_uri": "https://localhost:8080/",
          "height": 204
        }
      },
      "source": [
        "df.head()"
      ],
      "execution_count": 0,
      "outputs": [
        {
          "output_type": "execute_result",
          "data": {
            "text/html": [
              "<div>\n",
              "<style scoped>\n",
              "    .dataframe tbody tr th:only-of-type {\n",
              "        vertical-align: middle;\n",
              "    }\n",
              "\n",
              "    .dataframe tbody tr th {\n",
              "        vertical-align: top;\n",
              "    }\n",
              "\n",
              "    .dataframe thead th {\n",
              "        text-align: right;\n",
              "    }\n",
              "</style>\n",
              "<table border=\"1\" class=\"dataframe\">\n",
              "  <thead>\n",
              "    <tr style=\"text-align: right;\">\n",
              "      <th></th>\n",
              "      <th>file</th>\n",
              "      <th>label</th>\n",
              "    </tr>\n",
              "  </thead>\n",
              "  <tbody>\n",
              "    <tr>\n",
              "      <th>0</th>\n",
              "      <td>wav_data/es/es-0031_10556.wav</td>\n",
              "      <td>2</td>\n",
              "    </tr>\n",
              "    <tr>\n",
              "      <th>1</th>\n",
              "      <td>wav_data/es/06_5389.wav</td>\n",
              "      <td>2</td>\n",
              "    </tr>\n",
              "    <tr>\n",
              "      <th>2</th>\n",
              "      <td>wav_data/es/es-0027_6905.wav</td>\n",
              "      <td>2</td>\n",
              "    </tr>\n",
              "    <tr>\n",
              "      <th>3</th>\n",
              "      <td>wav_data/es/21_4580.wav</td>\n",
              "      <td>2</td>\n",
              "    </tr>\n",
              "    <tr>\n",
              "      <th>4</th>\n",
              "      <td>wav_data/es/85_4224.wav</td>\n",
              "      <td>2</td>\n",
              "    </tr>\n",
              "  </tbody>\n",
              "</table>\n",
              "</div>"
            ],
            "text/plain": [
              "                            file  label\n",
              "0  wav_data/es/es-0031_10556.wav      2\n",
              "1        wav_data/es/06_5389.wav      2\n",
              "2   wav_data/es/es-0027_6905.wav      2\n",
              "3        wav_data/es/21_4580.wav      2\n",
              "4        wav_data/es/85_4224.wav      2"
            ]
          },
          "metadata": {
            "tags": []
          },
          "execution_count": 36
        }
      ]
    },
    {
      "cell_type": "code",
      "metadata": {
        "id": "DZdFavtNmTnK",
        "colab_type": "code",
        "colab": {}
      },
      "source": [
        "df.to_csv(\"trainingData.csv\",index=False)"
      ],
      "execution_count": 0,
      "outputs": []
    },
    {
      "cell_type": "code",
      "metadata": {
        "id": "dOef_2bRmk-7",
        "colab_type": "code",
        "colab": {}
      },
      "source": [
        ""
      ],
      "execution_count": 0,
      "outputs": []
    },
    {
      "cell_type": "code",
      "metadata": {
        "id": "HkZY4OqzWuBP",
        "colab_type": "code",
        "colab": {}
      },
      "source": [
        "import numpy as np\n",
        "import matplotlib.pyplot as plt\n",
        "import librosa.display\n",
        "import tqdm\n",
        "import os\n",
        "import librosa"
      ],
      "execution_count": 0,
      "outputs": []
    },
    {
      "cell_type": "code",
      "metadata": {
        "id": "2HQB9Yu_XZRo",
        "colab_type": "code",
        "colab": {}
      },
      "source": [
        "import pandas as pd\n",
        "df = pd.read_csv(\"trainingData.csv\")"
      ],
      "execution_count": 0,
      "outputs": []
    },
    {
      "cell_type": "code",
      "metadata": {
        "id": "DT4PhUl4ZSOS",
        "colab_type": "code",
        "outputId": "5cb75547-aa22-4428-fbd9-a924ba48dc26",
        "colab": {
          "base_uri": "https://localhost:8080/",
          "height": 204
        }
      },
      "source": [
        "df.head()"
      ],
      "execution_count": 0,
      "outputs": [
        {
          "output_type": "execute_result",
          "data": {
            "text/html": [
              "<div>\n",
              "<style scoped>\n",
              "    .dataframe tbody tr th:only-of-type {\n",
              "        vertical-align: middle;\n",
              "    }\n",
              "\n",
              "    .dataframe tbody tr th {\n",
              "        vertical-align: top;\n",
              "    }\n",
              "\n",
              "    .dataframe thead th {\n",
              "        text-align: right;\n",
              "    }\n",
              "</style>\n",
              "<table border=\"1\" class=\"dataframe\">\n",
              "  <thead>\n",
              "    <tr style=\"text-align: right;\">\n",
              "      <th></th>\n",
              "      <th>file</th>\n",
              "      <th>label</th>\n",
              "    </tr>\n",
              "  </thead>\n",
              "  <tbody>\n",
              "    <tr>\n",
              "      <th>0</th>\n",
              "      <td>wav_data/es/es-0031_10556.wav</td>\n",
              "      <td>2</td>\n",
              "    </tr>\n",
              "    <tr>\n",
              "      <th>1</th>\n",
              "      <td>wav_data/es/06_5389.wav</td>\n",
              "      <td>2</td>\n",
              "    </tr>\n",
              "    <tr>\n",
              "      <th>2</th>\n",
              "      <td>wav_data/es/es-0027_6905.wav</td>\n",
              "      <td>2</td>\n",
              "    </tr>\n",
              "    <tr>\n",
              "      <th>3</th>\n",
              "      <td>wav_data/es/21_4580.wav</td>\n",
              "      <td>2</td>\n",
              "    </tr>\n",
              "    <tr>\n",
              "      <th>4</th>\n",
              "      <td>wav_data/es/85_4224.wav</td>\n",
              "      <td>2</td>\n",
              "    </tr>\n",
              "  </tbody>\n",
              "</table>\n",
              "</div>"
            ],
            "text/plain": [
              "                            file  label\n",
              "0  wav_data/es/es-0031_10556.wav      2\n",
              "1        wav_data/es/06_5389.wav      2\n",
              "2   wav_data/es/es-0027_6905.wav      2\n",
              "3        wav_data/es/21_4580.wav      2\n",
              "4        wav_data/es/85_4224.wav      2"
            ]
          },
          "metadata": {
            "tags": []
          },
          "execution_count": 41
        }
      ]
    },
    {
      "cell_type": "code",
      "metadata": {
        "id": "xvnhldvPnA5d",
        "colab_type": "code",
        "colab": {}
      },
      "source": [
        "y,sr = librosa.load(\"wav_data/es/es-0027_6905.wav\",sr=8000)"
      ],
      "execution_count": 0,
      "outputs": []
    },
    {
      "cell_type": "code",
      "metadata": {
        "id": "8KCZ1zCenH0f",
        "colab_type": "code",
        "outputId": "0985d53e-dc70-46a7-9ffe-231e77aae218",
        "colab": {
          "base_uri": "https://localhost:8080/",
          "height": 34
        }
      },
      "source": [
        "y.shape[0]"
      ],
      "execution_count": 0,
      "outputs": [
        {
          "output_type": "execute_result",
          "data": {
            "text/plain": [
              "82000"
            ]
          },
          "metadata": {
            "tags": []
          },
          "execution_count": 47
        }
      ]
    },
    {
      "cell_type": "code",
      "metadata": {
        "id": "faY1ZibLWv6x",
        "colab_type": "code",
        "colab": {}
      },
      "source": [
        "x = np.empty((6000,80000))\n",
        "y = np.empty((6000,1))"
      ],
      "execution_count": 0,
      "outputs": []
    },
    {
      "cell_type": "code",
      "metadata": {
        "id": "mE_w-DGS34vJ",
        "colab_type": "code",
        "outputId": "57ad19ff-8b68-4bca-e333-4438497aa187",
        "colab": {
          "base_uri": "https://localhost:8080/",
          "height": 85
        }
      },
      "source": [
        "!pip install pydub"
      ],
      "execution_count": 0,
      "outputs": [
        {
          "output_type": "stream",
          "text": [
            "Collecting pydub\n",
            "  Downloading https://files.pythonhosted.org/packages/79/db/eaf620b73a1eec3c8c6f8f5b0b236a50f9da88ad57802154b7ba7664d0b8/pydub-0.23.1-py2.py3-none-any.whl\n",
            "Installing collected packages: pydub\n",
            "Successfully installed pydub-0.23.1\n"
          ],
          "name": "stdout"
        }
      ]
    },
    {
      "cell_type": "code",
      "metadata": {
        "id": "HeUPele64BGC",
        "colab_type": "code",
        "outputId": "0bd8b0ec-d9b5-4491-c75e-ab926e45c095",
        "colab": {
          "base_uri": "https://localhost:8080/",
          "height": 75
        }
      },
      "source": [
        "ipd.Audio(\"wav_data/es/85_4224.wav\")"
      ],
      "execution_count": 0,
      "outputs": [
        {
          "output_type": "execute_result",
          "data": {
            "text/html": [
              "\n",
              "                <audio controls=\"controls\" >\n",
              "                    <source src=\"data:audio/x-wav;base64,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\" type=\"audio/x-wav\" />\n",
              "                    Your browser does not support the audio element.\n",
              "                </audio>\n",
              "              "
            ],
            "text/plain": [
              "<IPython.lib.display.Audio object>"
            ]
          },
          "metadata": {
            "tags": []
          },
          "execution_count": 84
        }
      ]
    },
    {
      "cell_type": "code",
      "metadata": {
        "id": "vEuUDM8s3QYv",
        "colab_type": "code",
        "outputId": "df44a978-b4b2-4d58-f9fc-7da73790448e",
        "colab": {
          "base_uri": "https://localhost:8080/",
          "height": 187
        }
      },
      "source": [
        "from pydub import AudioSegment\n",
        "from pydub.playback import play\n",
        "import IPython.display as ipd\n",
        "\n",
        "ct = 0\n",
        "for index,rows in df.iterrows():\n",
        "  path = rows[0]\n",
        "  label = rows[1]\n",
        "  print(path)\n",
        "  ct=ct+1\n",
        "  if ct==10:\n",
        "    break\n",
        "  "
      ],
      "execution_count": 0,
      "outputs": [
        {
          "output_type": "stream",
          "text": [
            "wav_data/es/es-0031_10556.wav\n",
            "wav_data/es/06_5389.wav\n",
            "wav_data/es/es-0027_6905.wav\n",
            "wav_data/es/21_4580.wav\n",
            "wav_data/es/85_4224.wav\n",
            "wav_data/es/es-0010_8852.wav\n",
            "wav_data/es/es-0039_428.wav\n",
            "wav_data/es/es-0003_4279.wav\n",
            "wav_data/es/87_8063.wav\n",
            "wav_data/es/es-0013_1768.wav\n"
          ],
          "name": "stdout"
        }
      ]
    },
    {
      "cell_type": "code",
      "metadata": {
        "id": "0QcmpOedBqW9",
        "colab_type": "code",
        "colab": {}
      },
      "source": [
        "import scipy.io.wavfile"
      ],
      "execution_count": 0,
      "outputs": []
    },
    {
      "cell_type": "code",
      "metadata": {
        "id": "c9tvG77kDCiW",
        "colab_type": "code",
        "outputId": "26912ae8-3815-441d-ad5f-b71a393974da",
        "colab": {
          "base_uri": "https://localhost:8080/",
          "height": 289
        }
      },
      "source": [
        "!ls fft"
      ],
      "execution_count": 0,
      "outputs": [
        {
          "output_type": "stream",
          "text": [
            "06_5389.wav.png        es-0009_4084.wav.png  es-0025_4046.wav.png\n",
            "119_6544.wav.png       es-0010_459.wav.png   es-0026_5601.wav.png\n",
            "21_4580.wav.png        es-0010_8852.wav.png  es-0026_8998.wav.png\n",
            "41_5369.wav.png        es-0011_7880.wav.png  es-0027_5160.wav.png\n",
            "46_7976.wav.png        es-0013_1768.wav.png  es-0027_6905.wav.png\n",
            "81_4217.wav.png        es-0013_8808.wav.png  es-0029_3413.wav.png\n",
            "81_8024.wav.png        es-0015_6958.wav.png  es-0029_7308.wav.png\n",
            "85_4224.wav.png        es-0017_220.wav.png   es-0031_10556.wav.png\n",
            "87_8063.wav.png        es-0018_4262.wav.png  es-0032_1305.wav.png\n",
            "es-0000_3440.wav.png   es-0019_1732.wav.png  es-0032_1878.wav.png\n",
            "es-0003_4279.wav.png   es-0021_4427.wav.png  es-0035_10652.wav.png\n",
            "es-0004_2483.wav.png   es-0022_4001.wav.png  es-0039_428.wav.png\n",
            "es-0004_4811.wav.png   es-0023_8647.wav.png  es-0039_588.wav.png\n",
            "es-0005_10688.wav.png  es-0024_7860.wav.png  es-0040_2078.wav.png\n",
            "es-0005_8793.wav.png   es-0025_1684.wav.png  es-0041_1930.wav.png\n",
            "es-0008_8230.wav.png   es-0025_3926.wav.png\n"
          ],
          "name": "stdout"
        }
      ]
    },
    {
      "cell_type": "code",
      "metadata": {
        "id": "ImzjXVYxAQ8s",
        "colab_type": "code",
        "colab": {}
      },
      "source": [
        "def process_audio(input_path,output_path):\n",
        "  #sr,audio = scipy.io.wavfile.read(input_path)\n",
        "  #while audio.shape[0]<length:\n",
        "  #  audio=np.concatenate((audio,audio),axis=None)\n",
        "  #audio=audio[:length]\n",
        "\n",
        " \n",
        "\n",
        "\n",
        "  #plt.specgram(audio,Fs=sr)\n",
        "\n",
        "  y,sr = librosa.load(input_path)\n",
        "  S = librosa.feature.melspectrogram(y=y, sr=sr, n_mels=64,fmax=8000)\n",
        "  plt.figure(figsize=(8, 4))\n",
        "  librosa.display.specshow(librosa.power_to_db(S,ref=np.max),y_axis='mel', fmax=8000,x_axis='time')\n",
        "  #plt.colorbar(format='%+2.0f dB')\n",
        "  #plt.title('Mel spectrogram')\n",
        "  #plt.tight_layout()\n",
        "\n",
        "\n",
        "  '''pre_emphasis = 0.97\n",
        "  y=audio\n",
        "  emphasized_signal = np.append(y[0], y[1:] - pre_emphasis * y[:-1])\n",
        "  y = emphasized_signal\n",
        "  S = np.abs(librosa.stft(y))\n",
        "  log_S = librosa.power_to_db(S, ref=np.max)\n",
        "  librosa.display.specshow(log_S,x_axis='time',y_axis='log')'''\n",
        "  fig1 = plt.gcf()\n",
        "  plt.axis('off')\n",
        "  #plt.show()\n",
        "  #fig1.set_size_inches(4,4)\n",
        "  plt.savefig(output_path)\n",
        "  plt.cla()\n",
        "  plt.clf()\n",
        "  plt.close()"
      ],
      "execution_count": 0,
      "outputs": []
    },
    {
      "cell_type": "code",
      "metadata": {
        "id": "Va4p5WAZnYUC",
        "colab_type": "code",
        "colab": {}
      },
      "source": [
        "length = 80000\n",
        "ct = 0\n",
        "\n",
        "for index,rows in tqdm.tqdm(df.iterrows()):\n",
        "  if index > 3000:\n",
        "    continue\n",
        "  path = rows[0]\n",
        "  label = rows[1]\n",
        "  process_audio(path,\"logmel/\"+path.split(\"/\")[2]+\".png\")\n",
        "  '''audio, sr = librosa.load(path,sr=8000)\n",
        "  while audio.shape[0]<length:\n",
        "    audio=np.concatenate((audio,audio),axis=None)\n",
        "  audio=audio[:length]\n",
        "  pre_emphasis = 0.97\n",
        "  emphasized_signal = np.append(audio[0], audio[1:] - pre_emphasis * audio[:-1])'''\n",
        "  #x[ct] = emphasized_signal\n",
        "  y[ct] = label\n",
        "  #print(lang)\n",
        "  #print(ct)\n",
        "  ct=ct+1"
      ],
      "execution_count": 0,
      "outputs": []
    },
    {
      "cell_type": "code",
      "metadata": {
        "id": "y9DYvDxhdZU5",
        "colab_type": "code",
        "colab": {}
      },
      "source": [
        "!mkdir logmel/"
      ],
      "execution_count": 0,
      "outputs": []
    },
    {
      "cell_type": "code",
      "metadata": {
        "id": "1gBS4GO5PPoD",
        "colab_type": "code",
        "colab": {}
      },
      "source": [
        "!ls fft "
      ],
      "execution_count": 0,
      "outputs": []
    },
    {
      "cell_type": "code",
      "metadata": {
        "id": "XgbNyiFqPext",
        "colab_type": "code",
        "colab": {}
      },
      "source": [
        "!mkdir fastai_data"
      ],
      "execution_count": 0,
      "outputs": []
    },
    {
      "cell_type": "code",
      "metadata": {
        "id": "4VwEE9kMauPG",
        "colab_type": "code",
        "colab": {}
      },
      "source": [
        "df = pd.read_csv('trainingData.csv')"
      ],
      "execution_count": 0,
      "outputs": []
    },
    {
      "cell_type": "code",
      "metadata": {
        "id": "rVHMPlFmPq3r",
        "colab_type": "code",
        "colab": {}
      },
      "source": [
        "name = []\n",
        "for index , row in df.iterrows():\n",
        "  name.append(row[0].split('/')[2].split('.')[0])"
      ],
      "execution_count": 0,
      "outputs": []
    },
    {
      "cell_type": "code",
      "metadata": {
        "id": "irnuhrgDRagb",
        "colab_type": "code",
        "colab": {}
      },
      "source": [
        "df['name'] = name"
      ],
      "execution_count": 0,
      "outputs": []
    },
    {
      "cell_type": "code",
      "metadata": {
        "id": "DyX95194bgIw",
        "colab_type": "code",
        "colab": {}
      },
      "source": [
        "import tqdm"
      ],
      "execution_count": 0,
      "outputs": []
    },
    {
      "cell_type": "code",
      "metadata": {
        "id": "s0RHqFcpP26r",
        "colab_type": "code",
        "outputId": "4416b545-778f-4b3c-8864-f3d46431771a",
        "colab": {
          "base_uri": "https://localhost:8080/",
          "height": 34
        }
      },
      "source": [
        "for files in tqdm.tqdm(os.listdir('fft')):\n",
        "  folder = str(list(df.loc[df['name'] == files.split('.')[0]]['label'])[0])\n",
        "  #print(folder)\n",
        "  tmp_path = os.path.join('fast/train',folder)\n",
        "  if not os.path.exists(tmp_path):\n",
        "    os.makedirs(tmp_path)\n",
        "  \n",
        "  cmd = 'cp fft/'+files+' fast/train/'+folder\n",
        "  #print(cmd)\n",
        "  os.system(cmd)\n",
        "  #break"
      ],
      "execution_count": 28,
      "outputs": [
        {
          "output_type": "stream",
          "text": [
            "100%|██████████| 6000/6000 [01:15<00:00, 79.09it/s]\n"
          ],
          "name": "stderr"
        }
      ]
    },
    {
      "cell_type": "code",
      "metadata": {
        "id": "e973k_kM5K-Q",
        "colab_type": "code",
        "colab": {}
      },
      "source": [
        "!mkdir fastlogmel/valid"
      ],
      "execution_count": 0,
      "outputs": []
    },
    {
      "cell_type": "code",
      "metadata": {
        "id": "UAClCqP45xjk",
        "colab_type": "code",
        "colab": {}
      },
      "source": [
        "import tqdm\n",
        "import os\n",
        "import pandas as pd"
      ],
      "execution_count": 0,
      "outputs": []
    },
    {
      "cell_type": "code",
      "metadata": {
        "id": "2nT6Woxa53px",
        "colab_type": "code",
        "colab": {}
      },
      "source": [
        "df = pd.read_csv('trainingData.csv')"
      ],
      "execution_count": 0,
      "outputs": []
    },
    {
      "cell_type": "code",
      "metadata": {
        "id": "GWpx418T5BtU",
        "colab_type": "code",
        "colab": {
          "base_uri": "https://localhost:8080/",
          "height": 34
        },
        "outputId": "ca0e0862-5dff-4b42-ed93-fd1361d151d4"
      },
      "source": [
        "for files in tqdm.tqdm(os.listdir('logmel')):\n",
        "  folder = str(list(df.loc[df['name'] == files.split('.')[0]]['label'])[0])\n",
        "  #print(folder)\n",
        "  tmp_path = os.path.join('fastlogmel/train',folder)\n",
        "  if not os.path.exists(tmp_path):\n",
        "    os.makedirs(tmp_path)\n",
        "  \n",
        "  cmd = 'cp logmel/'+files+' fastlogmel/train/'+folder\n",
        "  #print(cmd)\n",
        "  os.system(cmd)"
      ],
      "execution_count": 12,
      "outputs": [
        {
          "output_type": "stream",
          "text": [
            "100%|██████████| 6000/6000 [00:58<00:00, 101.94it/s]\n"
          ],
          "name": "stderr"
        }
      ]
    },
    {
      "cell_type": "code",
      "metadata": {
        "id": "ElUeqljU6RkU",
        "colab_type": "code",
        "colab": {
          "base_uri": "https://localhost:8080/",
          "height": 34
        },
        "outputId": "01c3327b-6872-4b5b-b8ea-525cf6d59291"
      },
      "source": [
        "!ls fastlogmel/train/1 | wc -l"
      ],
      "execution_count": 14,
      "outputs": [
        {
          "output_type": "stream",
          "text": [
            "1000\n"
          ],
          "name": "stdout"
        }
      ]
    },
    {
      "cell_type": "code",
      "metadata": {
        "id": "uVYb_8N_cBRY",
        "colab_type": "code",
        "colab": {}
      },
      "source": [
        "!rm -r fast/train/fastai_data/"
      ],
      "execution_count": 0,
      "outputs": []
    },
    {
      "cell_type": "code",
      "metadata": {
        "id": "BqKs6W_2b8gS",
        "colab_type": "code",
        "colab": {}
      },
      "source": [
        "!mv fastai_data/ fast/train/"
      ],
      "execution_count": 0,
      "outputs": []
    },
    {
      "cell_type": "code",
      "metadata": {
        "id": "6ziQUNypS-4N",
        "colab_type": "code",
        "colab": {}
      },
      "source": [
        "from fastai.vision import *"
      ],
      "execution_count": 0,
      "outputs": []
    },
    {
      "cell_type": "code",
      "metadata": {
        "id": "4I-lBD3-S-12",
        "colab_type": "code",
        "colab": {}
      },
      "source": [
        "path = \"fast/\"\n",
        "tfms = get_transforms(do_flip=False)\n",
        "\n",
        "data = ImageDataBunch.from_folder(path, ds_tfms=tfms, size=24,valid_pct=0.3)\n"
      ],
      "execution_count": 0,
      "outputs": []
    },
    {
      "cell_type": "code",
      "metadata": {
        "id": "i_70ZFllS-zq",
        "colab_type": "code",
        "outputId": "7f44bc86-4392-4628-d871-2d8c11a82ce1",
        "colab": {
          "base_uri": "https://localhost:8080/",
          "height": 85
        }
      },
      "source": [
        "learn = create_cnn(data, models.resnet50, metrics=error_rate)\n"
      ],
      "execution_count": 0,
      "outputs": [
        {
          "output_type": "stream",
          "text": [
            "/usr/local/lib/python3.6/dist-packages/fastai/vision/learner.py:105: UserWarning: `create_cnn` is deprecated and is now named `cnn_learner`.\n",
            "  warn(\"`create_cnn` is deprecated and is now named `cnn_learner`.\")\n",
            "Downloading: \"https://download.pytorch.org/models/resnet50-19c8e357.pth\" to /root/.cache/torch/checkpoints/resnet50-19c8e357.pth\n",
            "100%|██████████| 102502400/102502400 [00:04<00:00, 21874853.47it/s]\n"
          ],
          "name": "stderr"
        }
      ]
    },
    {
      "cell_type": "code",
      "metadata": {
        "id": "rwOh-7B1S-vO",
        "colab_type": "code",
        "outputId": "017ff1a4-8319-4fe0-a2c8-04087d8b602c",
        "colab": {
          "base_uri": "https://localhost:8080/",
          "height": 300
        }
      },
      "source": [
        "learn.lr_find()\n",
        "learn.recorder.plot()"
      ],
      "execution_count": 0,
      "outputs": [
        {
          "output_type": "display_data",
          "data": {
            "text/html": [
              ""
            ],
            "text/plain": [
              "<IPython.core.display.HTML object>"
            ]
          },
          "metadata": {
            "tags": []
          }
        },
        {
          "output_type": "stream",
          "text": [
            "LR Finder is complete, type {learner_name}.recorder.plot() to see the graph.\n"
          ],
          "name": "stdout"
        },
        {
          "output_type": "display_data",
          "data": {
            "image/png": "[encoded data removed]",
            "text/plain": [
              "<Figure size 432x288 with 1 Axes>"
            ]
          },
          "metadata": {
            "tags": []
          }
        }
      ]
    },
    {
      "cell_type": "code",
      "metadata": {
        "id": "Ne8ufmQZS-jD",
        "colab_type": "code",
        "outputId": "40047fea-2c0d-475f-b05b-0f3f93e9a4d4",
        "colab": {
          "base_uri": "https://localhost:8080/",
          "height": 111
        }
      },
      "source": [
        "learn.unfreeze()\n",
        "learn.fit_one_cycle(2, max_lr=slice(1e-6,1e-4))"
      ],
      "execution_count": 0,
      "outputs": [
        {
          "output_type": "display_data",
          "data": {
            "text/html": [
              "<table border=\"1\" class=\"dataframe\">\n",
              "  <thead>\n",
              "    <tr style=\"text-align: left;\">\n",
              "      <th>epoch</th>\n",
              "      <th>train_loss</th>\n",
              "      <th>valid_loss</th>\n",
              "      <th>error_rate</th>\n",
              "      <th>time</th>\n",
              "    </tr>\n",
              "  </thead>\n",
              "  <tbody>\n",
              "    <tr>\n",
              "      <td>0</td>\n",
              "      <td>2.175680</td>\n",
              "      <td>1.858750</td>\n",
              "      <td>0.785556</td>\n",
              "      <td>00:31</td>\n",
              "    </tr>\n",
              "    <tr>\n",
              "      <td>1</td>\n",
              "      <td>2.136058</td>\n",
              "      <td>1.816351</td>\n",
              "      <td>0.750556</td>\n",
              "      <td>00:28</td>\n",
              "    </tr>\n",
              "  </tbody>\n",
              "</table>"
            ],
            "text/plain": [
              "<IPython.core.display.HTML object>"
            ]
          },
          "metadata": {
            "tags": []
          }
        }
      ]
    },
    {
      "cell_type": "code",
      "metadata": {
        "id": "JOcumMK5S-fZ",
        "colab_type": "code",
        "colab": {}
      },
      "source": [
        "learn.fit_one_cycle(50, max_lr=slice(1e-3))"
      ],
      "execution_count": 0,
      "outputs": []
    },
    {
      "cell_type": "code",
      "metadata": {
        "id": "quMkFxLEW5Im",
        "colab_type": "code",
        "colab": {}
      },
      "source": [
        "from keras.layers import *\n",
        "from keras.callbacks import *\n",
        "from keras.models import *\n",
        "from keras.utils import *\n",
        "from keras.optimizers import *"
      ],
      "execution_count": 0,
      "outputs": []
    },
    {
      "cell_type": "code",
      "metadata": {
        "id": "HLb_t1cro1wu",
        "colab_type": "code",
        "colab": {
          "base_uri": "https://localhost:8080/",
          "height": 122
        },
        "outputId": "d052ebfd-584a-4ea2-9d8c-a89cadfd82c1"
      },
      "source": [
        "from google.colab import drive\n",
        "drive.mount('/content/drive')"
      ],
      "execution_count": 2,
      "outputs": [
        {
          "output_type": "stream",
          "text": [
            "Go to this URL in a browser: https://accounts.google.com/o/oauth2/auth?client_id=947318989803-6bn6qk8qdgf4n4g3pfee6491hc0brc4i.apps.googleusercontent.com&redirect_uri=urn%3Aietf%3Awg%3Aoauth%3A2.0%3Aoob&scope=email%20https%3A%2F%2Fwww.googleapis.com%2Fauth%2Fdocs.test%20https%3A%2F%2Fwww.googleapis.com%2Fauth%2Fdrive%20https%3A%2F%2Fwww.googleapis.com%2Fauth%2Fdrive.photos.readonly%20https%3A%2F%2Fwww.googleapis.com%2Fauth%2Fpeopleapi.readonly&response_type=code\n",
            "\n",
            "Enter your authorization code:\n",
            "··········\n",
            "Mounted at /content/drive\n"
          ],
          "name": "stdout"
        }
      ]
    },
    {
      "cell_type": "code",
      "metadata": {
        "id": "JEHErAT1p433",
        "colab_type": "code",
        "colab": {}
      },
      "source": [
        "!cp drive/'My Drive'/wav_data.zip ."
      ],
      "execution_count": 0,
      "outputs": []
    },
    {
      "cell_type": "code",
      "metadata": {
        "id": "9fH5oS9Zo9Kf",
        "colab_type": "code",
        "colab": {}
      },
      "source": [
        "!cp drive/'My Drive'/fft.zip ."
      ],
      "execution_count": 0,
      "outputs": []
    },
    {
      "cell_type": "code",
      "metadata": {
        "id": "Ge3AYlYxpSMB",
        "colab_type": "code",
        "colab": {
          "base_uri": "https://localhost:8080/",
          "height": 34
        },
        "outputId": "f02b44db-bdb4-4312-a5cf-c88e69c370f7"
      },
      "source": [
        "!ls"
      ],
      "execution_count": 11,
      "outputs": [
        {
          "output_type": "stream",
          "text": [
            "drive  fft  fft.zip  sample_data  wav_data.zip\n"
          ],
          "name": "stdout"
        }
      ]
    },
    {
      "cell_type": "code",
      "metadata": {
        "id": "AiKzpfjCqaLg",
        "colab_type": "code",
        "colab": {}
      },
      "source": [
        "!unzip wav_data.zip"
      ],
      "execution_count": 0,
      "outputs": []
    },
    {
      "cell_type": "code",
      "metadata": {
        "id": "Weg4LuaasJdr",
        "colab_type": "code",
        "colab": {}
      },
      "source": [
        ""
      ],
      "execution_count": 0,
      "outputs": []
    },
    {
      "cell_type": "code",
      "metadata": {
        "colab_type": "code",
        "id": "U7TAYJFqsKbJ",
        "colab": {}
      },
      "source": [
        "file_list = []\n",
        "label = []\n",
        "for folder in os.listdir(\"wav_data\"):\n",
        "  files = os.listdir(\"wav_data/\"+folder)\n",
        "  files = files[:1000]\n",
        "  for file in files:\n",
        "    file_list.append(\"wav_data/\"+folder+\"/\"+file)\n",
        "    label.append(lang_dict[folder])"
      ],
      "execution_count": 0,
      "outputs": []
    },
    {
      "cell_type": "code",
      "metadata": {
        "colab_type": "code",
        "outputId": "9da7f2f0-54fe-4c85-e1e0-5e96052a9a9c",
        "id": "2JtfdfzcsKbV",
        "colab": {
          "base_uri": "https://localhost:8080/",
          "height": 34
        }
      },
      "source": [
        "len(label)"
      ],
      "execution_count": 17,
      "outputs": [
        {
          "output_type": "execute_result",
          "data": {
            "text/plain": [
              "6000"
            ]
          },
          "metadata": {
            "tags": []
          },
          "execution_count": 17
        }
      ]
    },
    {
      "cell_type": "code",
      "metadata": {
        "colab_type": "code",
        "id": "5qfg94frsKbc",
        "colab": {}
      },
      "source": [
        "import pandas as pd\n",
        "df = pd.DataFrame({\"file\":file_list,\"label\":label})"
      ],
      "execution_count": 0,
      "outputs": []
    },
    {
      "cell_type": "code",
      "metadata": {
        "id": "JhdvU7ObsXj6",
        "colab_type": "code",
        "colab": {}
      },
      "source": [
        "df.to_csv('trainingData.csv' , index = False)"
      ],
      "execution_count": 0,
      "outputs": []
    },
    {
      "cell_type": "code",
      "metadata": {
        "id": "LqIfqRLzsoIM",
        "colab_type": "code",
        "colab": {}
      },
      "source": [
        "df"
      ],
      "execution_count": 0,
      "outputs": []
    },
    {
      "cell_type": "code",
      "metadata": {
        "id": "NwuNc71PpawW",
        "colab_type": "code",
        "colab": {}
      },
      "source": [
        "!unzip fft.zip"
      ],
      "execution_count": 0,
      "outputs": []
    },
    {
      "cell_type": "code",
      "metadata": {
        "id": "G1vSXJTmrutJ",
        "colab_type": "code",
        "colab": {}
      },
      "source": [
        "for folder in os.listdir(\"wav_data/\"):\n",
        "  for files in os.listdir()"
      ],
      "execution_count": 0,
      "outputs": []
    },
    {
      "cell_type": "code",
      "metadata": {
        "id": "04u2I4nVpa6o",
        "colab_type": "code",
        "colab": {}
      },
      "source": [
        "!ls fft"
      ],
      "execution_count": 0,
      "outputs": []
    },
    {
      "cell_type": "code",
      "metadata": {
        "id": "XDmyHSIKpa4g",
        "colab_type": "code",
        "colab": {}
      },
      "source": [
        ""
      ],
      "execution_count": 0,
      "outputs": []
    },
    {
      "cell_type": "code",
      "metadata": {
        "id": "fDSbJ2M6pa1w",
        "colab_type": "code",
        "colab": {}
      },
      "source": [
        ""
      ],
      "execution_count": 0,
      "outputs": []
    },
    {
      "cell_type": "code",
      "metadata": {
        "id": "D81nMlnZeS-C",
        "colab_type": "code",
        "colab": {}
      },
      "source": [
        "np.save(\"raw_audio.npy\",x)\n",
        "np.save(\"raw_labels.npy\",y)"
      ],
      "execution_count": 0,
      "outputs": []
    },
    {
      "cell_type": "code",
      "metadata": {
        "id": "l767WaZHW5K-",
        "colab_type": "code",
        "colab": {}
      },
      "source": [
        "from sklearn.model_selection import train_test_split\n",
        "X_train, X_test, y_train, y_test = train_test_split(x, y, test_size=0.20, random_state=42)"
      ],
      "execution_count": 0,
      "outputs": []
    },
    {
      "cell_type": "code",
      "metadata": {
        "id": "P2xOpYayYbYG",
        "colab_type": "code",
        "colab": {}
      },
      "source": [
        "y_train = to_categorical(y_train)\n",
        "y_test = to_categorical(y_test)"
      ],
      "execution_count": 0,
      "outputs": []
    },
    {
      "cell_type": "code",
      "metadata": {
        "id": "S76Kud1nzNIb",
        "colab_type": "code",
        "outputId": "8a3c448b-5770-4095-e00b-b5c3e28f8696",
        "colab": {
          "base_uri": "https://localhost:8080/",
          "height": 34
        }
      },
      "source": [
        "np.count_nonzero(y==0)"
      ],
      "execution_count": 0,
      "outputs": [
        {
          "output_type": "execute_result",
          "data": {
            "text/plain": [
              "0"
            ]
          },
          "metadata": {
            "tags": []
          },
          "execution_count": 63
        }
      ]
    },
    {
      "cell_type": "code",
      "metadata": {
        "id": "fsy6UiVYuBgl",
        "colab_type": "code",
        "outputId": "d19dc05e-a442-4602-9e82-8cde3a48726c",
        "colab": {
          "base_uri": "https://localhost:8080/",
          "height": 34
        }
      },
      "source": [
        "y_test.shape"
      ],
      "execution_count": 0,
      "outputs": [
        {
          "output_type": "execute_result",
          "data": {
            "text/plain": [
              "(1200, 7)"
            ]
          },
          "metadata": {
            "tags": []
          },
          "execution_count": 55
        }
      ]
    },
    {
      "cell_type": "code",
      "metadata": {
        "id": "7aV_OgTLW5NJ",
        "colab_type": "code",
        "colab": {}
      },
      "source": [
        " def get_1d_conv_model():\n",
        "    \n",
        "    nclass = 7\n",
        "    input_length = 80000\n",
        "    \n",
        "    inp = Input(shape=(input_length,1))\n",
        "    #x = BatchNormalization()(inp)\n",
        "    x = Convolution1D(32, 9, activation='relu', padding=\"same\")(inp)\n",
        "    x = Convolution1D(32, 9, activation='relu', padding=\"same\")(x)\n",
        "    x = MaxPool1D(16)(x)\n",
        "    x = Dropout(rate=0.1)(x)\n",
        "    \n",
        "    x = Convolution1D(64, 3, activation='relu', padding=\"same\")(x)\n",
        "    x = Convolution1D(64, 3, activation='relu', padding=\"same\")(x)\n",
        "    x = MaxPool1D(4)(x)\n",
        "    x = Dropout(rate=0.1)(x)\n",
        "    \n",
        "    x = Convolution1D(64, 3, activation='relu', padding=\"same\")(x)\n",
        "    x = Convolution1D(64, 3, activation='relu', padding=\"same\")(x)\n",
        "    x = MaxPool1D(4)(x)\n",
        "    x = Dropout(rate=0.1)(x)\n",
        "    \n",
        "    x = Convolution1D(128, 3, activation='relu', padding=\"same\")(x)\n",
        "    x = Convolution1D(128, 3, activation='relu', padding=\"same\")(x)\n",
        "    x = MaxPool1D(4)(x)\n",
        "    x = Dropout(rate=0.1)(x)\n",
        "    \n",
        "    x = Convolution1D(256, 3, activation='relu', padding=\"same\")(x)\n",
        "    x = Convolution1D(256, 3, activation='relu', padding=\"same\")(x)\n",
        "    \n",
        "    \n",
        "    #x = LSTM(128, activation='relu')(x)\n",
        "    #x = GlobalAveragePooling1D()(x)\n",
        "    x_1d_branch_1 = GlobalAveragePooling1D()(x)\n",
        "    x_1d_branch_2 = GlobalMaxPool1D()(x)\n",
        "    x_1d = concatenate([x_1d_branch_1, x_1d_branch_2])\n",
        "    \n",
        "\n",
        "    #x = Dense(64, activation='relu')(x)\n",
        "    #\n",
        "    x = Dense(512, activation='relu')(x_1d)\n",
        "    x = Dropout(rate=0.5)(x)\n",
        "    out = Dense(nclass, activation='softmax')(x)\n",
        "\n",
        "    model = Model(inputs=inp, outputs=out)\n",
        "    print(model.summary())\n",
        "    #opt = optimizers.Adam(config.learning_rate)\n",
        "\n",
        "    #model.compile(optimizer=opt, loss=losses.categorical_crossentropy, metrics=['acc'])\n",
        "    return model"
      ],
      "execution_count": 0,
      "outputs": []
    },
    {
      "cell_type": "code",
      "metadata": {
        "id": "xWu2APkJW5PO",
        "colab_type": "code",
        "colab": {}
      },
      "source": [
        "\n",
        "x_train=np.reshape(X_train,(X_train.shape[0],X_train.shape[1],1))\n",
        "X_test=np.reshape(X_test,(X_test.shape[0],X_test.shape[1],1))\n",
        "model = get_1d_conv_model()\n",
        "stop = EarlyStopping(monitor='val_loss',patience = 15)\n",
        "reduce_lr = ReduceLROnPlateau(monitor='val_loss', factor=0.3, patience=3, min_lr=0.00001)\n",
        "model.compile(optimizer=Adam(0.001),metrics=['accuracy'],loss='categorical_crossentropy')\n",
        "mcp_save = ModelCheckpoint('mdl_wts_1d_combined.hdf5', verbose=1, save_best_only=True,save_weights_only=False, monitor='val_loss', mode='min')\n",
        "model.fit(x_train, y_train, epochs=100, batch_size=16,verbose=1,callbacks=[reduce_lr,mcp_save,stop], validation_data=(X_test,y_test))\n"
      ],
      "execution_count": 0,
      "outputs": []
    },
    {
      "cell_type": "code",
      "metadata": {
        "id": "H0h0MoXj_Nzv",
        "colab_type": "code",
        "colab": {}
      },
      "source": [
        "import numpy as np"
      ],
      "execution_count": 0,
      "outputs": []
    },
    {
      "cell_type": "code",
      "metadata": {
        "id": "63SEVqjVoO-g",
        "colab_type": "code",
        "colab": {}
      },
      "source": [
        "for j in os.listdir('fastlogmel/train'):\n",
        "  tmp_pth = os.path.join('fastlogmel/train',j)\n",
        "  files = os.listdir(tmp_pth)\n",
        "  rnd_files = np.random.choice(files,int(len(files)*.2))\n",
        "  if not os.path.exists(\"fastlogmel/valid/\"+j):\n",
        "    os.makedirs(\"fastlogmel/valid/\"+j)\n",
        "  for file_li in rnd_files:\n",
        "    #rnd_files = np.random.choice(files,1)\n",
        "    cmd = 'mv fastlogmel/train/'+j+\"/\"+file_li+' fastlogmel/valid/'+j+\"/\"+file_li\n",
        "    os.system(cmd)\n",
        "    #files = os.listdir(tmp_pth)\n",
        "    #curr-=1"
      ],
      "execution_count": 0,
      "outputs": []
    },
    {
      "cell_type": "code",
      "metadata": {
        "id": "SJ2fSiX2Zju6",
        "colab_type": "code",
        "outputId": "c673159d-4309-4f63-acfb-4be1cbabaaee",
        "colab": {
          "base_uri": "https://localhost:8080/",
          "height": 34
        }
      },
      "source": [
        "!find fastlogmel/train/ -name \"*.png\" | wc -l #1095 4905"
      ],
      "execution_count": 19,
      "outputs": [
        {
          "output_type": "stream",
          "text": [
            "4905\n"
          ],
          "name": "stdout"
        }
      ]
    },
    {
      "cell_type": "code",
      "metadata": {
        "id": "0kMNooXtldAG",
        "colab_type": "code",
        "colab": {}
      },
      "source": [
        "def eraser(input_img):\n",
        "  p=0.55\n",
        "  s_l=0.12\n",
        "  s_h=0.4\n",
        "  r_1=0.3 \n",
        "  r_2=1/0.25 \n",
        "  v_l=0 \n",
        "  v_h=255 \n",
        "  pixel_level=True\n",
        "  img_h, img_w, img_c = input_img.shape\n",
        "  p_1 = np.random.rand()\n",
        "\n",
        "  if p_1 > p:\n",
        "      return input_img\n",
        "\n",
        "  while True:\n",
        "      s = np.random.uniform(s_l, s_h) * img_h * img_w\n",
        "      r = np.random.uniform(r_1, r_2)\n",
        "      w = int(np.sqrt(s / r))\n",
        "      h = int(np.sqrt(s * r))\n",
        "      left = np.random.randint(0, img_w)\n",
        "      top = np.random.randint(0, img_h)\n",
        "\n",
        "      if left + w <= img_w and top + h <= img_h:\n",
        "          break\n",
        "\n",
        "  if pixel_level:\n",
        "      c = np.random.uniform(v_l, v_h, (h, w, img_c))\n",
        "  else:\n",
        "      c = np.random.uniform(v_l, v_h)\n",
        "\n",
        "  input_img[top:top + h, left:left + w, :] = c\n",
        "\n",
        "  return input_img"
      ],
      "execution_count": 0,
      "outputs": []
    },
    {
      "cell_type": "code",
      "metadata": {
        "id": "NHamy44Yl-_e",
        "colab_type": "code",
        "colab": {}
      },
      "source": [
        "class MixupImageDataGenerator():\n",
        "    def __init__(self, generator, directory, batch_size, img_height, img_width, alpha=0.45, subset=None):\n",
        "        \"\"\"Constructor for mixup image data generator.\n",
        "\n",
        "        Arguments:\n",
        "            generator {object} -- An instance of Keras ImageDataGenerator.\n",
        "            directory {str} -- Image directory.\n",
        "            batch_size {int} -- Batch size.\n",
        "            img_height {int} -- Image height in pixels.\n",
        "            img_width {int} -- Image width in pixels.\n",
        "\n",
        "        Keyword Arguments:\n",
        "            alpha {float} -- Mixup beta distribution alpha parameter. (default: {0.2})\n",
        "            subset {str} -- 'training' or 'validation' if validation_split is specified in\n",
        "            `generator` (ImageDataGenerator).(default: {None})\n",
        "        \"\"\"\n",
        "\n",
        "        self.batch_index = 0\n",
        "        self.batch_size = batch_size\n",
        "        self.alpha = alpha\n",
        "\n",
        "        # First iterator yielding tuples of (x, y)\n",
        "        self.generator1 = generator.flow_from_directory(directory,\n",
        "                                                        target_size=(\n",
        "                                                            img_height, img_width),\n",
        "                                                        class_mode=\"categorical\",\n",
        "                                                        batch_size=batch_size,\n",
        "                                                        shuffle=True)\n",
        "\n",
        "        # Second iterator yielding tuples of (x, y)\n",
        "        self.generator2 = generator.flow_from_directory(directory,\n",
        "                                                        target_size=(\n",
        "                                                            img_height, img_width),\n",
        "                                                        class_mode=\"categorical\",\n",
        "                                                        batch_size=batch_size,\n",
        "                                                        shuffle=True)\n",
        "\n",
        "        # Number of images across all classes in image directory.\n",
        "        self.n = self.generator1.samples\n",
        "\n",
        "    def reset_index(self):\n",
        "        \"\"\"Reset the generator indexes array.\n",
        "        \"\"\"\n",
        "\n",
        "        self.generator1._set_index_array()\n",
        "        self.generator2._set_index_array()\n",
        "\n",
        "    def on_epoch_end(self):\n",
        "        self.reset_index()\n",
        "\n",
        "    def reset(self):\n",
        "        self.batch_index = 0\n",
        "\n",
        "    def __len__(self):\n",
        "        # round up\n",
        "        return (self.n + self.batch_size - 1) // self.batch_size\n",
        "\n",
        "    def get_steps_per_epoch(self):\n",
        "        \"\"\"Get number of steps per epoch based on batch size and\n",
        "        number of images.\n",
        "\n",
        "        Returns:\n",
        "            int -- steps per epoch.\n",
        "        \"\"\"\n",
        "\n",
        "        return self.n // self.batch_size\n",
        "\n",
        "    def __next__(self):\n",
        "        \"\"\"Get next batch input/output pair.\n",
        "\n",
        "        Returns:\n",
        "            tuple -- batch of input/output pair, (inputs, outputs).\n",
        "        \"\"\"\n",
        "\n",
        "        if self.batch_index == 0:\n",
        "            self.reset_index()\n",
        "\n",
        "        current_index = (self.batch_index * self.batch_size) % self.n\n",
        "        if self.n > current_index + self.batch_size:\n",
        "            self.batch_index += 1\n",
        "        else:\n",
        "            self.batch_index = 0\n",
        "\n",
        "        # random sample the lambda value from beta distribution.\n",
        "        l = np.random.beta(self.alpha, self.alpha, self.batch_size)\n",
        "\n",
        "        X_l = l.reshape(self.batch_size, 1, 1, 1)\n",
        "        y_l = l.reshape(self.batch_size, 1)\n",
        "\n",
        "        # Get a pair of inputs and outputs from two iterators.\n",
        "        X1, y1 = self.generator1.next()\n",
        "        X2, y2 = self.generator2.next()\n",
        "        \n",
        "        X = X1 \n",
        "        y = y1\n",
        "        # Perform the mixup.\n",
        "        try:\n",
        "          X = X1 * X_l + X2 * (1 - X_l)\n",
        "          y = y1 * y_l + y2 * (1 - y_l)\n",
        "        except:\n",
        "          ct=0\n",
        "        return X, y\n",
        "\n",
        "    def __iter__(self):\n",
        "        while True:\n",
        "            yield next(self)"
      ],
      "execution_count": 0,
      "outputs": []
    },
    {
      "cell_type": "code",
      "metadata": {
        "id": "UldPd_XLmpCu",
        "colab_type": "code",
        "colab": {}
      },
      "source": [
        "img_width = 288\n",
        "img_height = 288"
      ],
      "execution_count": 0,
      "outputs": []
    },
    {
      "cell_type": "code",
      "metadata": {
        "id": "EJQVYyq5dkR9",
        "colab_type": "code",
        "colab": {}
      },
      "source": [
        "def inceptionA(x):\n",
        "  incep_1 =  Conv2D(kernel_size=1,strides=1,filters=32,activation='relu',padding='same')(x)\n",
        "  \n",
        "  incep_2 = Conv2D(kernel_size=1,strides=1,filters=32,activation='relu',padding='same')(x)\n",
        "  incep_2 = Conv2D(kernel_size=5,strides=1,filters=32,activation='relu',padding='same')(incep_2)\n",
        "  \n",
        "  incep_3 = Conv2D(kernel_size=1,strides=1,filters=32,activation='relu',padding='same')(x)\n",
        "  incep_3 = Conv2D(kernel_size=3,strides=1,filters=32,activation='relu',padding='same')(incep_3)\n",
        "  incep_3 = Conv2D(kernel_size=3,strides=1,filters=32,activation='relu',padding='same')(incep_3)\n",
        "\n",
        "  incep_4 = MaxPooling2D(pool_size=2,strides=1,padding='same')(x)\n",
        "  incep_4 = Conv2D(kernel_size=1,strides=1,filters=32,activation='relu',padding='same')(incep_4)\n",
        "  \n",
        "  outputs = concatenate([incep_1,incep_2,incep_3,incep_4],axis=3)\n",
        "  return outputs\n",
        "\n",
        "def inceptionB(x):\n",
        "  incep_1 =  Conv2D(kernel_size=3,strides=1,filters=32,activation='relu',padding='same')(x)\n",
        "  \n",
        "  incep_2 = Conv2D(kernel_size=1,strides=1,filters=32,activation='relu',padding='same')(x)\n",
        "  incep_2 = Conv2D(kernel_size=3,strides=1,filters=32,activation='relu',padding='same')(incep_2)\n",
        "  incep_2 = Conv2D(kernel_size=3,strides=1,filters=32,activation='relu',padding='same')(incep_2)\n",
        "  \n",
        "  incep_3 = MaxPooling2D(pool_size=2,strides=1,padding='same')(x)  \n",
        "  outputs = concatenate([incep_1,incep_2,incep_3],axis=3)\n",
        "  return outputs\n",
        "  \n",
        "def inceptionC(x):\n",
        "  incep_1 =  Conv2D(kernel_size=1,strides=1,filters=32,activation='relu',padding='same')(x)\n",
        "  \n",
        "  incep_2 = Conv2D(kernel_size=1, strides=1,filters=32,activation='relu',padding='same')(x)\n",
        "  incep_2 = Conv2D(kernel_size=(1,7), strides=1,filters=32,activation='relu',padding='same')(incep_2)\n",
        "  incep_2 = Conv2D(kernel_size=(7,1), strides=1,filters=32,activation='relu',padding='same')(incep_2)\n",
        "  \n",
        "  incep_3 = Conv2D(kernel_size=1,strides=1,filters=32,activation='relu',padding='same')(x)\n",
        "  incep_3 = Conv2D(kernel_size=(7,1), strides=1,filters=32,activation='relu',padding='same')(incep_3)\n",
        "  incep_3 = Conv2D(kernel_size=(1,7), strides=1,filters=32,activation='relu',padding='same')(incep_3)\n",
        "  incep_3 = Conv2D(kernel_size=(7,1), strides=1,filters=32,activation='relu',padding='same')(incep_3)\n",
        "  incep_3 = Conv2D(kernel_size=(1,7), strides=1,filters=32,activation='relu',padding='same')(incep_3)\n",
        "\n",
        "  incep_4 = MaxPooling2D(pool_size=2,strides=1,padding='same')(x)\n",
        "  incep_4 = Conv2D(kernel_size=1,strides=1,filters=32,activation='relu',padding='same')(incep_4)\n",
        "  \n",
        "  outputs = concatenate([incep_1,incep_2,incep_3,incep_4],axis=3)\n",
        "  return outputs\n",
        "\n",
        "def define_model():\n",
        "  features, timesteps, channels = img_width, img_height, 3\n",
        "  inputs = Input(shape=(features,timesteps,channels))\n",
        "  \n",
        "  x = Conv2D(kernel_size=3,strides=2,filters=64,activation='relu')(inputs)\n",
        "  x = BatchNormalization()(x)\n",
        "  x = Conv2D(kernel_size=3,strides=1,filters=64,activation='relu')(x)\n",
        "  x = BatchNormalization()(x)\n",
        "  x = Conv2D(kernel_size=3,strides=1,filters=64,activation='relu')(x)\n",
        "  x = BatchNormalization()(x)\n",
        "  x = MaxPooling2D(strides=2,pool_size=3)(x) \n",
        "  x = Dropout(0.10)(x)\n",
        "  \n",
        "  \n",
        "  \n",
        "  for i in range(1):\n",
        "    x = inceptionA(x)\n",
        "  #x = BatchNormalization()(x)\n",
        "  x = Dropout(0.10)(x)\n",
        "  x = inceptionB(x)\n",
        "  #x = BatchNormalization()(x)\n",
        "  x = Dropout(0.10)(x)\n",
        "  for i in range(1):\n",
        "    x = inceptionC(x)\n",
        "  #x = BatchNormalization()(x)\n",
        "  x = Dropout(0.25)(x)\n",
        "  \n",
        "  x_g = GlobalAveragePooling2D()(x)\n",
        "  x_m = GlobalMaxPooling2D()(x)\n",
        "  x = concatenate([x_m,x_g])\n",
        "  x = Dense(256)(x)\n",
        "  pred = Dense(6,activation='softmax')(x)\n",
        "  \n",
        "  model = Model(inputs=inputs,outputs=pred)\n",
        "  return model\n",
        "  \n",
        "  \n",
        "  \n",
        "\n"
      ],
      "execution_count": 0,
      "outputs": []
    },
    {
      "cell_type": "code",
      "metadata": {
        "id": "NIfOiaFm-FYB",
        "colab_type": "code",
        "colab": {
          "base_uri": "https://localhost:8080/",
          "height": 34
        },
        "outputId": "dbaa784b-62d3-49ff-ff42-946cb707d46a"
      },
      "source": [
        "from keras.preprocessing.image import *"
      ],
      "execution_count": 24,
      "outputs": [
        {
          "output_type": "stream",
          "text": [
            "Using TensorFlow backend.\n"
          ],
          "name": "stderr"
        }
      ]
    },
    {
      "cell_type": "code",
      "metadata": {
        "id": "xB4TGHigaEee",
        "colab_type": "code",
        "colab": {}
      },
      "source": [
        "!ls wav_data/de"
      ],
      "execution_count": 0,
      "outputs": []
    },
    {
      "cell_type": "code",
      "metadata": {
        "id": "GrgC0rBvaQTh",
        "colab_type": "code",
        "colab": {
          "base_uri": "https://localhost:8080/",
          "height": 153
        },
        "outputId": "a59f09b3-338f-4e86-caf8-b89d0d0cbb71"
      },
      "source": [
        "!pip install python_speech_features"
      ],
      "execution_count": 79,
      "outputs": [
        {
          "output_type": "stream",
          "text": [
            "Collecting python_speech_features\n",
            "  Downloading https://files.pythonhosted.org/packages/ff/d1/94c59e20a2631985fbd2124c45177abaa9e0a4eee8ba8a305aa26fc02a8e/python_speech_features-0.6.tar.gz\n",
            "Building wheels for collected packages: python-speech-features\n",
            "  Building wheel for python-speech-features (setup.py) ... \u001b[?25l\u001b[?25hdone\n",
            "  Stored in directory: /root/.cache/pip/wheels/3c/42/7c/f60e9d1b40015cd69b213ad90f7c18a9264cd745b9888134be\n",
            "Successfully built python-speech-features\n",
            "Installing collected packages: python-speech-features\n",
            "Successfully installed python-speech-features-0.6\n"
          ],
          "name": "stdout"
        }
      ]
    },
    {
      "cell_type": "code",
      "metadata": {
        "id": "qm-ejmT-bNjJ",
        "colab_type": "code",
        "colab": {}
      },
      "source": [
        "import librosa\n",
        "y,sr = librosa.load('wav_data/de/de10-001_25231.wav')\n",
        "S = librosa.feature.melspectrogram(y=y, sr=sr, n_mels=64,fmax=8000)"
      ],
      "execution_count": 0,
      "outputs": []
    },
    {
      "cell_type": "code",
      "metadata": {
        "id": "ygrLVlpLbgLC",
        "colab_type": "code",
        "colab": {
          "base_uri": "https://localhost:8080/",
          "height": 297
        },
        "outputId": "f4c772e0-bd14-4024-bd36-a3aa5736ed8c"
      },
      "source": [
        "import matplotlib.pyplot as plt\n",
        "import librosa.display\n",
        "y,sr = librosa.load('wav_data/de/de10-001_25231.wav')\n",
        "S = librosa.feature.melspectrogram(y=y, sr=sr, n_mels=64,fmax=8000)\n",
        "plt.figure(figsize=(8, 4))\n",
        "librosa.display.specshow(librosa.power_to_db(S,ref=np.max),y_axis='mel', fmax=8000,x_axis='time')\n",
        "#plt.colorbar(format='%+2.0f dB')\n",
        "#plt.title('Mel spectrogram')\n",
        "plt.tight_layout()"
      ],
      "execution_count": 113,
      "outputs": [
        {
          "output_type": "display_data",
          "data": {
            "image/png": "[encoded data removed]",
            "text/plain": [
              "<Figure size 576x288 with 1 Axes>"
            ]
          },
          "metadata": {
            "tags": []
          }
        }
      ]
    },
    {
      "cell_type": "code",
      "metadata": {
        "id": "e6cKJyIaZ9ij",
        "colab_type": "code",
        "colab": {
          "base_uri": "https://localhost:8080/",
          "height": 490
        },
        "outputId": "c5b210b1-197e-4515-9b84-f157bc4758c7"
      },
      "source": [
        "from python_speech_features import mfcc\n",
        "from python_speech_features import logfbank\n",
        "import scipy.io.wavfile as wav\n",
        "import matplotlib.pyplot as plt\n",
        "\n",
        "\n",
        "(rate,sig) = wav.read(\"wav_data/de/de10-001_25231.wav\")\n",
        "mfcc_feat = mfcc(sig,rate)\n",
        "#fbank_feat = logfbank(sig,rate)\n",
        "\n",
        "print(mfcc_feat)\n",
        "plt.plot(mfcc_feat)\n",
        "plt.show()\n",
        "\n",
        "\n",
        "#print(fbank_feat)"
      ],
      "execution_count": 82,
      "outputs": [
        {
          "output_type": "stream",
          "text": [
            "[[ 10.16789063 -17.90499097 -11.3131335  ...   3.01123575   2.98608221\n",
            "   -0.44743635]\n",
            " [ 10.04917196 -15.19346524  -5.75804356 ...   2.72529426  11.43847962\n",
            "    2.39335852]\n",
            " [ 10.05019242 -14.92593088  -3.33824448 ...  -3.03457173   4.25061873\n",
            "    6.71489449]\n",
            " ...\n",
            " [ 10.36977266 -12.89117615  -6.43181526 ...  -4.20618033   7.43708556\n",
            "   -5.57679456]\n",
            " [ 10.33548343 -14.4044726   -6.38428727 ...   2.20253196  -0.31952256\n",
            "   -0.30066824]\n",
            " [ 10.0692248  -13.72556612  -9.56491996 ...   5.69770314  -5.29758243\n",
            "    2.29528794]]\n"
          ],
          "name": "stdout"
        },
        {
          "output_type": "display_data",
          "data": {
            "image/png": "[encoded data removed]",
            "text/plain": [
              "<Figure size 432x288 with 1 Axes>"
            ]
          },
          "metadata": {
            "tags": []
          }
        }
      ]
    },
    {
      "cell_type": "code",
      "metadata": {
        "id": "zYERL-chbfUd",
        "colab_type": "code",
        "colab": {}
      },
      "source": [
        ""
      ],
      "execution_count": 0,
      "outputs": []
    },
    {
      "cell_type": "code",
      "metadata": {
        "id": "xq-qd-VY5xGn",
        "colab_type": "code",
        "colab": {}
      },
      "source": [
        "def create_model_xception(n_out=6):\n",
        "\n",
        "    base_model = MobileNetV2(weights=None, include_top=False)\n",
        "    \n",
        "    x0 = base_model.output\n",
        "    x1 = GlobalAveragePooling2D()(x0)\n",
        "    x2 = GlobalMaxPooling2D()(x0)\n",
        "    x = Concatenate()([x1,x2])\n",
        "    \n",
        "    x = BatchNormalization()(x)\n",
        "    x = Dropout(0.5)(x)\n",
        "    \n",
        "    x = Dense(256, activation='relu')(x)\n",
        "    x = BatchNormalization()(x)\n",
        "    x = Dropout(0.5)(x)\n",
        "\n",
        "#     x = Dense(128, activation='relu')(x)\n",
        "#     x = BatchNormalization()(x)\n",
        "#     x = Dropout(0.3)(x)\n",
        "    \n",
        "    predictions = Dense(n_out, activation='softmax')(x)\n",
        "\n",
        "    # this is the model we will train\n",
        "    model = Model(inputs=base_model.input, outputs=predictions)\n",
        "    return model"
      ],
      "execution_count": 0,
      "outputs": []
    },
    {
      "cell_type": "code",
      "metadata": {
        "id": "RjnCAtBy5xDe",
        "colab_type": "code",
        "colab": {}
      },
      "source": [
        "from keras.applications import *"
      ],
      "execution_count": 0,
      "outputs": []
    },
    {
      "cell_type": "code",
      "metadata": {
        "id": "Khy63tBuYCe7",
        "colab_type": "code",
        "colab": {}
      },
      "source": [
        "from sklearn.model_selection import StratifiedKFold\n",
        "oof_y = np.zeros_like(Y, dtype='float32')\n",
        "test_Y = np.zeros((len(test_files), 80), dtype='float32')\n",
        "\n",
        "kfold = StratifiedKFold(5)"
      ],
      "execution_count": 0,
      "outputs": []
    },
    {
      "cell_type": "code",
      "metadata": {
        "id": "ocjCAUp0j_x0",
        "colab_type": "code",
        "outputId": "2814ca38-c46f-4fa4-8c68-313c37e6b779",
        "colab": {
          "base_uri": "https://localhost:8080/",
          "height": 4049
        }
      },
      "source": [
        "train_dir = \"fastlogmel/train/\"\n",
        "valid_dir = \"fastlogmel/valid/\"\n",
        "model = define_model()\n",
        "#model = create_model_xception(6)\n",
        "batch_size=32\n",
        "model.compile(loss='categorical_crossentropy',optimizer=Adam(0.001),metrics=['accuracy'])\n",
        "model.summary()\n",
        "data_gen_args = dict(zca_whitening=True,featurewise_center=True,featurewise_std_normalization=True)\n",
        "image_datagen = ImageDataGenerator(**data_gen_args,preprocessing_function=eraser)\n",
        "#image_datagen.fit(zca,augment=True)\n",
        "train_generator_1 = MixupImageDataGenerator(generator=image_datagen,\n",
        "                                          directory=train_dir,\n",
        "                                          batch_size=batch_size,\n",
        "                                          img_height=img_height,\n",
        "                                          img_width=img_width)\n",
        "reduce_lr = ReduceLROnPlateau(monitor='val_loss', factor=0.8,\n",
        "                              patience=3, min_lr=0.000001)\n",
        "stop = EarlyStopping(monitor='val_loss',patience = 15)\n",
        "\n",
        "test_datagen = ImageDataGenerator()\n",
        "train_generator = image_datagen.flow_from_directory(\n",
        "        train_dir,\n",
        "        target_size=(img_width, img_height),\n",
        "        batch_size=32)\n",
        "validation_generator = test_datagen.flow_from_directory(\n",
        "        valid_dir,\n",
        "        target_size=(img_width, img_height),\n",
        "        batch_size=32)\n",
        "mcp_save = ModelCheckpoint('mdl_wts_combined.hdf5', verbose=1, save_best_only=True,save_weights_only=False, monitor='val_loss', mode='min')\n",
        "\n",
        "model.fit_generator(\n",
        "        train_generator_1,\n",
        "        steps_per_epoch=(4905//32),\n",
        "        epochs=100,\n",
        "        validation_data=validation_generator,\n",
        "        validation_steps=(1095//32),\n",
        "        callbacks=[reduce_lr,mcp_save,stop])"
      ],
      "execution_count": 0,
      "outputs": [
        {
          "output_type": "stream",
          "text": [
            "WARNING:tensorflow:From /usr/local/lib/python3.6/dist-packages/tensorflow/python/framework/op_def_library.py:263: colocate_with (from tensorflow.python.framework.ops) is deprecated and will be removed in a future version.\n",
            "Instructions for updating:\n",
            "Colocations handled automatically by placer.\n",
            "WARNING:tensorflow:From /usr/local/lib/python3.6/dist-packages/keras/backend/tensorflow_backend.py:3445: calling dropout (from tensorflow.python.ops.nn_ops) with keep_prob is deprecated and will be removed in a future version.\n",
            "Instructions for updating:\n",
            "Please use `rate` instead of `keep_prob`. Rate should be set to `rate = 1 - keep_prob`.\n",
            "__________________________________________________________________________________________________\n",
            "Layer (type)                    Output Shape         Param #     Connected to                     \n",
            "==================================================================================================\n",
            "input_1 (InputLayer)            (None, 288, 288, 3)  0                                            \n",
            "__________________________________________________________________________________________________\n",
            "conv2d_1 (Conv2D)               (None, 143, 143, 64) 1792        input_1[0][0]                    \n",
            "__________________________________________________________________________________________________\n",
            "batch_normalization_1 (BatchNor (None, 143, 143, 64) 256         conv2d_1[0][0]                   \n",
            "__________________________________________________________________________________________________\n",
            "conv2d_2 (Conv2D)               (None, 141, 141, 64) 36928       batch_normalization_1[0][0]      \n",
            "__________________________________________________________________________________________________\n",
            "batch_normalization_2 (BatchNor (None, 141, 141, 64) 256         conv2d_2[0][0]                   \n",
            "__________________________________________________________________________________________________\n",
            "conv2d_3 (Conv2D)               (None, 139, 139, 64) 36928       batch_normalization_2[0][0]      \n",
            "__________________________________________________________________________________________________\n",
            "batch_normalization_3 (BatchNor (None, 139, 139, 64) 256         conv2d_3[0][0]                   \n",
            "__________________________________________________________________________________________________\n",
            "max_pooling2d_1 (MaxPooling2D)  (None, 69, 69, 64)   0           batch_normalization_3[0][0]      \n",
            "__________________________________________________________________________________________________\n",
            "dropout_1 (Dropout)             (None, 69, 69, 64)   0           max_pooling2d_1[0][0]            \n",
            "__________________________________________________________________________________________________\n",
            "conv2d_7 (Conv2D)               (None, 69, 69, 32)   2080        dropout_1[0][0]                  \n",
            "__________________________________________________________________________________________________\n",
            "conv2d_5 (Conv2D)               (None, 69, 69, 32)   2080        dropout_1[0][0]                  \n",
            "__________________________________________________________________________________________________\n",
            "conv2d_8 (Conv2D)               (None, 69, 69, 32)   9248        conv2d_7[0][0]                   \n",
            "__________________________________________________________________________________________________\n",
            "max_pooling2d_2 (MaxPooling2D)  (None, 69, 69, 64)   0           dropout_1[0][0]                  \n",
            "__________________________________________________________________________________________________\n",
            "conv2d_4 (Conv2D)               (None, 69, 69, 32)   2080        dropout_1[0][0]                  \n",
            "__________________________________________________________________________________________________\n",
            "conv2d_6 (Conv2D)               (None, 69, 69, 32)   25632       conv2d_5[0][0]                   \n",
            "__________________________________________________________________________________________________\n",
            "conv2d_9 (Conv2D)               (None, 69, 69, 32)   9248        conv2d_8[0][0]                   \n",
            "__________________________________________________________________________________________________\n",
            "conv2d_10 (Conv2D)              (None, 69, 69, 32)   2080        max_pooling2d_2[0][0]            \n",
            "__________________________________________________________________________________________________\n",
            "concatenate_1 (Concatenate)     (None, 69, 69, 128)  0           conv2d_4[0][0]                   \n",
            "                                                                 conv2d_6[0][0]                   \n",
            "                                                                 conv2d_9[0][0]                   \n",
            "                                                                 conv2d_10[0][0]                  \n",
            "__________________________________________________________________________________________________\n",
            "dropout_2 (Dropout)             (None, 69, 69, 128)  0           concatenate_1[0][0]              \n",
            "__________________________________________________________________________________________________\n",
            "conv2d_12 (Conv2D)              (None, 69, 69, 32)   4128        dropout_2[0][0]                  \n",
            "__________________________________________________________________________________________________\n",
            "conv2d_13 (Conv2D)              (None, 69, 69, 32)   9248        conv2d_12[0][0]                  \n",
            "__________________________________________________________________________________________________\n",
            "conv2d_11 (Conv2D)              (None, 69, 69, 32)   36896       dropout_2[0][0]                  \n",
            "__________________________________________________________________________________________________\n",
            "conv2d_14 (Conv2D)              (None, 69, 69, 32)   9248        conv2d_13[0][0]                  \n",
            "__________________________________________________________________________________________________\n",
            "max_pooling2d_3 (MaxPooling2D)  (None, 69, 69, 128)  0           dropout_2[0][0]                  \n",
            "__________________________________________________________________________________________________\n",
            "concatenate_2 (Concatenate)     (None, 69, 69, 192)  0           conv2d_11[0][0]                  \n",
            "                                                                 conv2d_14[0][0]                  \n",
            "                                                                 max_pooling2d_3[0][0]            \n",
            "__________________________________________________________________________________________________\n",
            "dropout_3 (Dropout)             (None, 69, 69, 192)  0           concatenate_2[0][0]              \n",
            "__________________________________________________________________________________________________\n",
            "conv2d_19 (Conv2D)              (None, 69, 69, 32)   6176        dropout_3[0][0]                  \n",
            "__________________________________________________________________________________________________\n",
            "conv2d_20 (Conv2D)              (None, 69, 69, 32)   7200        conv2d_19[0][0]                  \n",
            "__________________________________________________________________________________________________\n",
            "conv2d_16 (Conv2D)              (None, 69, 69, 32)   6176        dropout_3[0][0]                  \n",
            "__________________________________________________________________________________________________\n",
            "conv2d_21 (Conv2D)              (None, 69, 69, 32)   7200        conv2d_20[0][0]                  \n",
            "__________________________________________________________________________________________________\n",
            "conv2d_17 (Conv2D)              (None, 69, 69, 32)   7200        conv2d_16[0][0]                  \n",
            "__________________________________________________________________________________________________\n",
            "conv2d_22 (Conv2D)              (None, 69, 69, 32)   7200        conv2d_21[0][0]                  \n",
            "__________________________________________________________________________________________________\n",
            "max_pooling2d_4 (MaxPooling2D)  (None, 69, 69, 192)  0           dropout_3[0][0]                  \n",
            "__________________________________________________________________________________________________\n",
            "conv2d_15 (Conv2D)              (None, 69, 69, 32)   6176        dropout_3[0][0]                  \n",
            "__________________________________________________________________________________________________\n",
            "conv2d_18 (Conv2D)              (None, 69, 69, 32)   7200        conv2d_17[0][0]                  \n",
            "__________________________________________________________________________________________________\n",
            "conv2d_23 (Conv2D)              (None, 69, 69, 32)   7200        conv2d_22[0][0]                  \n",
            "__________________________________________________________________________________________________\n",
            "conv2d_24 (Conv2D)              (None, 69, 69, 32)   6176        max_pooling2d_4[0][0]            \n",
            "__________________________________________________________________________________________________\n",
            "concatenate_3 (Concatenate)     (None, 69, 69, 128)  0           conv2d_15[0][0]                  \n",
            "                                                                 conv2d_18[0][0]                  \n",
            "                                                                 conv2d_23[0][0]                  \n",
            "                                                                 conv2d_24[0][0]                  \n",
            "__________________________________________________________________________________________________\n",
            "dropout_4 (Dropout)             (None, 69, 69, 128)  0           concatenate_3[0][0]              \n",
            "__________________________________________________________________________________________________\n",
            "global_max_pooling2d_1 (GlobalM (None, 128)          0           dropout_4[0][0]                  \n",
            "__________________________________________________________________________________________________\n",
            "global_average_pooling2d_1 (Glo (None, 128)          0           dropout_4[0][0]                  \n",
            "__________________________________________________________________________________________________\n",
            "concatenate_4 (Concatenate)     (None, 256)          0           global_max_pooling2d_1[0][0]     \n",
            "                                                                 global_average_pooling2d_1[0][0] \n",
            "__________________________________________________________________________________________________\n",
            "dense_1 (Dense)                 (None, 256)          65792       concatenate_4[0][0]              \n",
            "__________________________________________________________________________________________________\n",
            "dense_2 (Dense)                 (None, 6)            1542        dense_1[0][0]                    \n",
            "==================================================================================================\n",
            "Total params: 323,622\n",
            "Trainable params: 323,238\n",
            "Non-trainable params: 384\n",
            "__________________________________________________________________________________________________\n"
          ],
          "name": "stdout"
        },
        {
          "output_type": "stream",
          "text": [
            "/usr/local/lib/python3.6/dist-packages/keras_preprocessing/image/image_data_generator.py:339: UserWarning: This ImageDataGenerator specifies `zca_whitening` which overrides setting of`featurewise_std_normalization`.\n",
            "  warnings.warn('This ImageDataGenerator specifies '\n"
          ],
          "name": "stderr"
        },
        {
          "output_type": "stream",
          "text": [
            "Found 4905 images belonging to 6 classes.\n",
            "Found 4905 images belonging to 6 classes.\n",
            "Found 4905 images belonging to 6 classes.\n",
            "Found 1095 images belonging to 6 classes.\n",
            "WARNING:tensorflow:From /usr/local/lib/python3.6/dist-packages/tensorflow/python/ops/math_ops.py:3066: to_int32 (from tensorflow.python.ops.math_ops) is deprecated and will be removed in a future version.\n",
            "Instructions for updating:\n",
            "Use tf.cast instead.\n",
            "WARNING:tensorflow:From /usr/local/lib/python3.6/dist-packages/tensorflow/python/ops/math_grad.py:102: div (from tensorflow.python.ops.math_ops) is deprecated and will be removed in a future version.\n",
            "Instructions for updating:\n",
            "Deprecated in favor of operator or tf.math.divide.\n",
            "Epoch 1/100\n"
          ],
          "name": "stdout"
        },
        {
          "output_type": "stream",
          "text": [
            "/usr/local/lib/python3.6/dist-packages/keras_preprocessing/image/image_data_generator.py:699: UserWarning: This ImageDataGenerator specifies `featurewise_center`, but it hasn't been fit on any training data. Fit it first by calling `.fit(numpy_data)`.\n",
            "  warnings.warn('This ImageDataGenerator specifies '\n",
            "/usr/local/lib/python3.6/dist-packages/keras_preprocessing/image/image_data_generator.py:718: UserWarning: This ImageDataGenerator specifies `zca_whitening`, but it hasn't been fit on any training data. Fit it first by calling `.fit(numpy_data)`.\n",
            "  warnings.warn('This ImageDataGenerator specifies '\n"
          ],
          "name": "stderr"
        },
        {
          "output_type": "stream",
          "text": [
            "153/153 [==============================] - 87s 568ms/step - loss: 4.7848 - acc: 0.1771 - val_loss: 2.7937 - val_acc: 0.1912\n",
            "\n",
            "Epoch 00001: val_loss improved from inf to 2.79372, saving model to mdl_wts_combined.hdf5\n",
            "Epoch 2/100\n",
            "153/153 [==============================] - 77s 506ms/step - loss: 2.0242 - acc: 0.1819 - val_loss: 1.7711 - val_acc: 0.2615\n",
            "\n",
            "Epoch 00002: val_loss improved from 2.79372 to 1.77108, saving model to mdl_wts_combined.hdf5\n",
            "Epoch 3/100\n",
            "153/153 [==============================] - 75s 489ms/step - loss: 1.7406 - acc: 0.2593 - val_loss: 1.7173 - val_acc: 0.2860\n",
            "\n",
            "Epoch 00003: val_loss improved from 1.77108 to 1.71729, saving model to mdl_wts_combined.hdf5\n",
            "Epoch 4/100\n",
            "153/153 [==============================] - 75s 488ms/step - loss: 1.6446 - acc: 0.3335 - val_loss: 1.6174 - val_acc: 0.3594\n",
            "\n",
            "Epoch 00004: val_loss improved from 1.71729 to 1.61739, saving model to mdl_wts_combined.hdf5\n",
            "Epoch 5/100\n",
            "153/153 [==============================] - 75s 491ms/step - loss: 1.5836 - acc: 0.3739 - val_loss: 1.5883 - val_acc: 0.3697\n",
            "\n",
            "Epoch 00005: val_loss improved from 1.61739 to 1.58826, saving model to mdl_wts_combined.hdf5\n",
            "Epoch 6/100\n",
            "153/153 [==============================] - 75s 488ms/step - loss: 1.5320 - acc: 0.4031 - val_loss: 1.4413 - val_acc: 0.4713\n",
            "\n",
            "Epoch 00006: val_loss improved from 1.58826 to 1.44126, saving model to mdl_wts_combined.hdf5\n",
            "Epoch 7/100\n",
            "153/153 [==============================] - 74s 485ms/step - loss: 1.5079 - acc: 0.4299 - val_loss: 1.4654 - val_acc: 0.4365\n",
            "\n",
            "Epoch 00007: val_loss did not improve from 1.44126\n",
            "Epoch 8/100\n",
            "153/153 [==============================] - 74s 485ms/step - loss: 1.4765 - acc: 0.4506 - val_loss: 1.4792 - val_acc: 0.4224\n",
            "\n",
            "Epoch 00008: val_loss did not improve from 1.44126\n",
            "Epoch 9/100\n",
            "153/153 [==============================] - 74s 486ms/step - loss: 1.4479 - acc: 0.4644 - val_loss: 1.4353 - val_acc: 0.4892\n",
            "\n",
            "Epoch 00009: val_loss improved from 1.44126 to 1.43534, saving model to mdl_wts_combined.hdf5\n",
            "Epoch 10/100\n",
            "153/153 [==============================] - 74s 484ms/step - loss: 1.4446 - acc: 0.4756 - val_loss: 1.3121 - val_acc: 0.5268\n",
            "\n",
            "Epoch 00010: val_loss improved from 1.43534 to 1.31208, saving model to mdl_wts_combined.hdf5\n",
            "Epoch 11/100\n",
            "153/153 [==============================] - 74s 483ms/step - loss: 1.4174 - acc: 0.4889 - val_loss: 1.3150 - val_acc: 0.5193\n",
            "\n",
            "Epoch 00011: val_loss did not improve from 1.31208\n",
            "Epoch 12/100\n",
            "153/153 [==============================] - 74s 484ms/step - loss: 1.4100 - acc: 0.4985 - val_loss: 1.3245 - val_acc: 0.5278\n",
            "\n",
            "Epoch 00012: val_loss did not improve from 1.31208\n",
            "Epoch 13/100\n",
            "153/153 [==============================] - 74s 484ms/step - loss: 1.4032 - acc: 0.4981 - val_loss: 1.3480 - val_acc: 0.4948\n",
            "\n",
            "Epoch 00013: val_loss did not improve from 1.31208\n",
            "Epoch 14/100\n",
            "153/153 [==============================] - 74s 481ms/step - loss: 1.3584 - acc: 0.5221 - val_loss: 1.3047 - val_acc: 0.5616\n",
            "\n",
            "Epoch 00014: val_loss improved from 1.31208 to 1.30471, saving model to mdl_wts_combined.hdf5\n",
            "Epoch 15/100\n",
            "153/153 [==============================] - 74s 483ms/step - loss: 1.3531 - acc: 0.5426 - val_loss: 1.2880 - val_acc: 0.5635\n",
            "\n",
            "Epoch 00015: val_loss improved from 1.30471 to 1.28801, saving model to mdl_wts_combined.hdf5\n",
            "Epoch 16/100\n",
            "153/153 [==============================] - 74s 483ms/step - loss: 1.3279 - acc: 0.5364 - val_loss: 1.1677 - val_acc: 0.6171\n",
            "\n",
            "Epoch 00016: val_loss improved from 1.28801 to 1.16770, saving model to mdl_wts_combined.hdf5\n",
            "Epoch 17/100\n",
            "153/153 [==============================] - 74s 483ms/step - loss: 1.3160 - acc: 0.5483 - val_loss: 1.2432 - val_acc: 0.5767\n",
            "\n",
            "Epoch 00017: val_loss did not improve from 1.16770\n",
            "Epoch 18/100\n",
            "153/153 [==============================] - 74s 483ms/step - loss: 1.3149 - acc: 0.5421 - val_loss: 1.3376 - val_acc: 0.4958\n",
            "\n",
            "Epoch 00018: val_loss did not improve from 1.16770\n",
            "Epoch 19/100\n",
            "153/153 [==============================] - 74s 483ms/step - loss: 1.3096 - acc: 0.5500 - val_loss: 1.1552 - val_acc: 0.6303\n",
            "\n",
            "Epoch 00019: val_loss improved from 1.16770 to 1.15522, saving model to mdl_wts_combined.hdf5\n",
            "Epoch 20/100\n",
            "153/153 [==============================] - 74s 484ms/step - loss: 1.2997 - acc: 0.5607 - val_loss: 1.2167 - val_acc: 0.5597\n",
            "\n",
            "Epoch 00020: val_loss did not improve from 1.15522\n",
            "Epoch 21/100\n",
            "153/153 [==============================] - 74s 482ms/step - loss: 1.3038 - acc: 0.5618 - val_loss: 1.2063 - val_acc: 0.5917\n",
            "\n",
            "Epoch 00021: val_loss did not improve from 1.15522\n",
            "Epoch 22/100\n",
            "153/153 [==============================] - 74s 486ms/step - loss: 1.2999 - acc: 0.5593 - val_loss: 1.2457 - val_acc: 0.5861\n",
            "\n",
            "Epoch 00022: val_loss did not improve from 1.15522\n",
            "Epoch 23/100\n",
            "153/153 [==============================] - 74s 483ms/step - loss: 1.2476 - acc: 0.5879 - val_loss: 1.1462 - val_acc: 0.6199\n",
            "\n",
            "Epoch 00023: val_loss improved from 1.15522 to 1.14618, saving model to mdl_wts_combined.hdf5\n",
            "Epoch 24/100\n",
            "153/153 [==============================] - 74s 483ms/step - loss: 1.2558 - acc: 0.5820 - val_loss: 1.1220 - val_acc: 0.6275\n",
            "\n",
            "Epoch 00024: val_loss improved from 1.14618 to 1.12199, saving model to mdl_wts_combined.hdf5\n",
            "Epoch 25/100\n",
            "153/153 [==============================] - 74s 483ms/step - loss: 1.2552 - acc: 0.5831 - val_loss: 1.1864 - val_acc: 0.5701\n",
            "\n",
            "Epoch 00025: val_loss did not improve from 1.12199\n",
            "Epoch 26/100\n",
            "153/153 [==============================] - 74s 483ms/step - loss: 1.2338 - acc: 0.6009 - val_loss: 1.1370 - val_acc: 0.6162\n",
            "\n",
            "Epoch 00026: val_loss did not improve from 1.12199\n",
            "Epoch 27/100\n",
            "153/153 [==============================] - 74s 484ms/step - loss: 1.2298 - acc: 0.6029 - val_loss: 1.0563 - val_acc: 0.6416\n",
            "\n",
            "Epoch 00027: val_loss improved from 1.12199 to 1.05632, saving model to mdl_wts_combined.hdf5\n",
            "Epoch 28/100\n",
            "152/153 [============================>.] - ETA: 0s - loss: 1.2302 - acc: 0.5991"
          ],
          "name": "stdout"
        }
      ]
    },
    {
      "cell_type": "code",
      "metadata": {
        "id": "ZQoY7gT8Gr0k",
        "colab_type": "code",
        "colab": {}
      },
      "source": [
        ""
      ],
      "execution_count": 0,
      "outputs": []
    }
  ]
}